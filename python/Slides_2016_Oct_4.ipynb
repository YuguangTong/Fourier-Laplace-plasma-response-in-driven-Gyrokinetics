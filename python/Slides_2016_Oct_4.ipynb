{
 "cells": [
  {
   "cell_type": "markdown",
   "metadata": {},
   "source": [
    "## Plasma response with $A_\\parallel=0$"
   ]
  },
  {
   "cell_type": "code",
   "execution_count": null,
   "metadata": {
    "collapsed": true
   },
   "outputs": [],
   "source": [
    "The derivation "
   ]
  },
  {
   "cell_type": "markdown",
   "metadata": {},
   "source": [
    "$B_\\parallel$\n",
    "- Analytic Fourier-Laplace(FL) plasma response look similar to AstroGK linear runs.\n",
    "- Similar dependence on driving frequencies\n",
    "- FL solution $B_{\\parallel k} (t=0) \\neq 0$. I don't see why it has to vanish in analytic solution.\n",
    "- AstroGK has $B_{\\parallel k} (t=0) \\neq 0$\n",
    "<img src=\"figures/FL_bpar_t_w0_1.png\", width=\"600\">\n",
    "<img src=\"figures/Ebpar_t_w0_1.png\", width=\"600\">\n",
    "<center> line colors in the above two figures do not match (since they are made in different program).</center>\n"
   ]
  },
  {
   "cell_type": "markdown",
   "metadata": {},
   "source": [
    "$\\phi_k$\n",
    "- AstroGK runs has unknown high frequency bumps\n",
    "- Analytic Fourier-Laplace(FL) plasma response look similar to AstroGK linear runs.\n",
    "- Similar dependence on driving frequencies\n",
    "- FL solution $B_{\\parallel k} (t=0) \\neq 0$. I don't see why it has to vanish in analytic solution.\n",
    "- AstroGK has $B_{\\parallel k} (t=0) \\neq 0$\n",
    "<img src=\"figures/FL_bphi_t_w0_1.png\", width=\"600\">\n",
    "<img src=\"figures/Ephi_t_w0_1.png\", width=\"600\">\n",
    "<center> line colors in the above two figures do not match (since they are made in different program).</center>"
   ]
  },
  {
   "cell_type": "markdown",
   "metadata": {},
   "source": [
    "## Characterizing antenna"
   ]
  },
  {
   "cell_type": "markdown",
   "metadata": {},
   "source": [
    "- Unsurprisingly $E_{B_\\parallel} \\propto u_0^2$\n",
    "\n",
    "We consider driving plasma at the following conditions\n",
    "- $k_\\perp \\rho_i = 0.2$\n",
    "- $\\beta_i= 0.01$\n",
    "- $T_i = T_e$\n",
    "\n",
    "The eigen modes of the system are\n",
    "- Alfven modes: $\\overline{\\omega}_0 = \\pm1.016 - 0.004i$\n",
    "- Slow modes: $\\overline{\\omega}_0 = \\pm0.144 - 0.0644i$\n",
    "- Entropy mode $\\overline{\\omega}_0 = -0.185i$"
   ]
  },
  {
   "cell_type": "markdown",
   "metadata": {},
   "source": [
    "Slow mode has MVA = $\\langle |\\delta B_\\perp|^2 \\rangle / \\langle |\\delta B_\\parallel|^2 \\rangle = 0.0242$\n",
    "<img src='figures/AGK_mva_w0_1.png', width=\"600\">\n",
    "\n",
    "- The best driving frequency is $\\overline{\\omega}_0 = 0.13$. \n",
    "- The new antenna drives slow mode at $E_{B_\\parallel} = 1.976\\times 10^{_2} u_0^2$"
   ]
  },
  {
   "cell_type": "code",
   "execution_count": null,
   "metadata": {
    "collapsed": true
   },
   "outputs": [],
   "source": []
  }
 ],
 "metadata": {
  "kernelspec": {
   "display_name": "Python 3",
   "language": "python",
   "name": "python3"
  },
  "language_info": {
   "codemirror_mode": {
    "name": "ipython",
    "version": 3
   },
   "file_extension": ".py",
   "mimetype": "text/x-python",
   "name": "python",
   "nbconvert_exporter": "python",
   "pygments_lexer": "ipython3",
   "version": "3.5.1"
  },
  "widgets": {
   "state": {},
   "version": "1.1.2"
  }
 },
 "nbformat": 4,
 "nbformat_minor": 0
}
