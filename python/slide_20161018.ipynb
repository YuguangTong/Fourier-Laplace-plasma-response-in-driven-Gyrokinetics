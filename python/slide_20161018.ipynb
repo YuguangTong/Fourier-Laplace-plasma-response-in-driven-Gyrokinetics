{
 "cells": [
  {
   "cell_type": "markdown",
   "metadata": {},
   "source": [
    "## Driving slow mode with DR  = 0.8\n",
    "- DR $\\equiv$ decorrelation rate"
   ]
  },
  {
   "cell_type": "markdown",
   "metadata": {},
   "source": [
    "Naively, we should drive slow wave with DR $= 0.8$, the same as the value that we apply to Alfven wave, since the Alfven wave should determine the DR in the passive cascade of slow wave. But large DR means large spread of driving frequencies. Two questions are:\n",
    "- Do we drive other modes as well? \n",
    "- How much of the energy goes into slow mode?\n",
    "\n",
    "\n",
    "In the above linear run:\n",
    "- antenna drove phase space density pertubation at $\\overline{\\omega}_0=0.13$ (c.f. $\\overline{\\omega}_{slow}=0.144-0.064i$ in the hot kinetic plasma) and decorrelation rate $=0$ and $0.8$. \n",
    "- antenna was turned off at $tk_\\parallel v_{ti}=50$\n",
    "\n",
    "<img src=\"figures/lin_slow_decay_3.png\", width=\"500\">\n",
    "Energy in the parallel magnetic field fluctuations versus time. \n",
    "<img src=\"figures/lin_slow_decay_mva_3.png\", width=\"500\">\n",
    "Mangetic variance anisotropy (MVA), i.e.,  $\\langle|\\delta B_\\perp|^2\\rangle/\\equiv \\langle|\\delta B_\\parallel|^2\\rangle$ versus time.\n",
    "\n",
    "\n",
    "- Quick decay of slow mode is still clearly visible with $DR=0.8$\n",
    "- MVA on average takes higher value, suggesting that more energy goes to Alfven mode.\n",
    "- Exact energy partition between Alfven mode and slow mode is not clearly difined because MVA varies too fast. "
   ]
  },
  {
   "cell_type": "markdown",
   "metadata": {},
   "source": [
    "## Driving Alfven mode with DR=0.8"
   ]
  },
  {
   "cell_type": "markdown",
   "metadata": {},
   "source": [
    "Note that the variation of MVA is also big for Alfven mode:\n",
    "\n",
    "<figure>\n",
    "<img src = \"figures/lin_alfven_decay_Ebperp_1.png\", width=\"500\">\n",
    "<figcaption> Energy in perpendicular magnetic field fluctuations versus time. </figcaption>\n",
    "</figure>\n",
    "\n",
    "<figure>\n",
    "<img src = \"figures/lin_alfven_decay_mva_1.png\", width=\"500\">\n",
    "<figcaption> MVA versus time. </figcaption>\n",
    "</figure>\n",
    "\n",
    "It seems that average of MVA in the log scale would give the intrinsic MVA value"
   ]
  },
  {
   "cell_type": "markdown",
   "metadata": {
    "collapsed": true
   },
   "source": [
    "## initial Nonlinear runs"
   ]
  },
  {
   "cell_type": "markdown",
   "metadata": {},
   "source": [
    "Below we show MVA spectrum for two nonlinear runs "
   ]
  },
  {
   "cell_type": "markdown",
   "metadata": {},
   "source": [
    "<video controls src=\"videos/nl_alfven_mva_1.mp4\", width=\"400\"/>"
   ]
  },
  {
   "cell_type": "markdown",
   "metadata": {},
   "source": [
    "Evolution of MVA spectrum in Alfven mode cascade. Alfven wave is driven by a Langevine antenna at $\\overline{\\omega}_0=0.9$ and $DR=0.8$.\n",
    "\n"
   ]
  },
  {
   "cell_type": "markdown",
   "metadata": {},
   "source": [
    "\n",
    "<video controls src=\"videos/nl_mix_mva_1.mp4\", width=\"400\"/> "
   ]
  },
  {
   "cell_type": "markdown",
   "metadata": {},
   "source": [
    "Evolution of MVA spectrum in Alfven and slow mode cascade. Alfven wave is driven by a Langevine antenna at $\\overline{\\omega}_0=0.9$ and $DR=0.8$. Slow mode is driven by a Langevine antenna at $\\overline{\\omega}_0=0.13$ and $DR=0$"
   ]
  },
  {
   "cell_type": "markdown",
   "metadata": {},
   "source": [
    "- It is confusing that MVA keeps high at the outer scale in the second video as well, since we intend to pump equal ammount of energy into both modes. We expect to see MVA in the order unity at the driving scale $k\\rho_i = 0.2$"
   ]
  },
  {
   "cell_type": "markdown",
   "metadata": {},
   "source": [
    "To check the driving, we make another linear simulation with antennas driving both Alfven and slow modes.\n",
    "\n",
    "<img src=\"figures/lin_mix_decay_mva_1.png\", width=\"500\">\n",
    "MVA versus time for two linear runs. Both runs drives the slow wave at $\\overline{\\omega}_0=0.13$ and $DR=0$. The first run drive Alfven wave by $\\overline{\\omega}_0=0.9$ and $DR=0$, the second run by  $\\overline{\\omega}_0=0.9$ and $DR=0.8$.\n",
    "\n",
    "- When the decorrelation rates (DRs) are set to zero, MVA takes value $\\sim O(1)$, the same as what we expect. But when the Alfven wave antenna takes $DR=0.8$, the MVA drops to $\\sim0.02$, i.e., the MVA of pure slow mode. \n",
    "- This unusual low MVA is itself confusing and does not agree with the large MVA we observed in the second video above. "
   ]
  },
  {
   "cell_type": "code",
   "execution_count": null,
   "metadata": {
    "collapsed": true
   },
   "outputs": [],
   "source": []
  }
 ],
 "metadata": {
  "kernelspec": {
   "display_name": "Python3 (data science)",
   "language": "python",
   "name": "ds"
  },
  "language_info": {
   "codemirror_mode": {
    "name": "ipython",
    "version": 3
   },
   "file_extension": ".py",
   "mimetype": "text/x-python",
   "name": "python",
   "nbconvert_exporter": "python",
   "pygments_lexer": "ipython3",
   "version": "3.5.2"
  }
 },
 "nbformat": 4,
 "nbformat_minor": 0
}
