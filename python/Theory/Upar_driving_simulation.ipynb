{
 "cells": [
  {
   "cell_type": "markdown",
   "metadata": {},
   "source": [
    "Drive slow mode by applying phase space perturbation in bulk velocity $\\delta_1 U_\\parallel$"
   ]
  },
  {
   "cell_type": "markdown",
   "metadata": {},
   "source": [
    "AstroGK result\n",
    "Setting\n",
    "- $A_\\parallel = 0$\n",
    "- $\\beta_p = 0.01$\n",
    "- $$"
   ]
  },
  {
   "cell_type": "code",
   "execution_count": null,
   "metadata": {
    "collapsed": false
   },
   "outputs": [],
   "source": [
    "import numpy as np\n",
    "import matplotlib.pyplot as plt\n",
    "import seaborn as sns\n",
    "%matplotlib inline"
   ]
  },
  {
   "cell_type": "code",
   "execution_count": 2,
   "metadata": {
    "collapsed": false
   },
   "outputs": [],
   "source": [
    "# data_dir = '/Volumes/yuguang_sd/data/agk/lin_response/lin_upar_1'\n",
    "data_dir = '/Volumes/yuguang_sd/data/agk/lin_response/lin_upar_decay'\n",
    "i = '1a'\n",
    "filename_bpar = data_dir + '/lin_upar_{0:s}.bpar'.format(str(i))\n",
    "filename_phi = data_dir + '/lin_upar_{0:s}.phi'.format(str(i))\n",
    "\n",
    "dtype_bpar = {'names': ('f1', 't', 'f2', 'bpar2', 'f3', 'f4', 'h1', 'h2'),\n",
    "              'formats': ('S2', 'f4', 'S10', 'f4', 'S10', 'S10', 'f4', 'f4')}\n",
    "dtype_phi = {'names': ('f1', 't', 'f2', 'phi2', 'f3', 'f4', 'h1', 'h2'),\n",
    "              'formats': ('S2', 'f4', 'S10', 'f4', 'S10', 'S10', 'f4', 'f4')}\n",
    "data_bpar = np.loadtxt(filename_bpar, dtype = dtype_bpar)\n",
    "data_phi = np.loadtxt(filename_phi, dtype = dtype_bpar)"
   ]
  },
  {
   "cell_type": "code",
   "execution_count": 3,
   "metadata": {
    "collapsed": false
   },
   "outputs": [],
   "source": [
    "def readColumn(data, column):\n",
    "    return np.array([elem[column] for elem in data])\n",
    "\n",
    "bpar = np.sqrt(readColumn(data_bpar, 3))\n",
    "t_bpar = readColumn(data_bpar, 1)\n",
    "phi = np.sqrt(readColumn(data_phi, 3))\n",
    "t_phi = readColumn(data_phi, 1)"
   ]
  },
  {
   "cell_type": "code",
   "execution_count": 6,
   "metadata": {
    "collapsed": true
   },
   "outputs": [],
   "source": [
    "ti_te = 1\n",
    "kperp_rhoi = 0.2\n",
    "wbar_0 = 0.2\n",
    "bi = 0.01\n",
    "upar0 = 10\n",
    "mi_me = 1836"
   ]
  },
  {
   "cell_type": "code",
   "execution_count": 7,
   "metadata": {
    "collapsed": false
   },
   "outputs": [
    {
     "data": {
      "text/plain": [
       "<matplotlib.text.Text at 0x1116b1668>"
      ]
     },
     "execution_count": 7,
     "metadata": {},
     "output_type": "execute_result"
    },
    {
     "data": {
      "image/png": "[encoded data removed]",
      "text/plain": [
       "<matplotlib.figure.Figure at 0x110df76d8>"
      ]
     },
     "metadata": {},
     "output_type": "display_data"
    }
   ],
   "source": [
    "dt_label='0.01'\n",
    "texts = \"{0}{1}\\n\".format(r'$\\beta_i=$',bi) + \\\n",
    "    \"{0}{1}\\n\".format(r'$T_i/T_e=$',ti_te) + \\\n",
    "    \"{0}{1:.1f}\\n\".format(r'$k_\\perp \\rho_i=$',kperp_rhoi) + \\\n",
    "    \"{0}{1:.1f}\\n\".format(r'$u_{\\mathbf{k}\\parallel 0}=$', upar0) +\\\n",
    "    \"{0}{1:.2f}\\n\".format(r'$\\overline{\\omega}_0=$',wbar_0)\n",
    "\n",
    "fig_bpar = plt.figure(figsize=[6, 6*0.618])\n",
    "plt.plot((t_bpar-20) * 10, bpar * np.sqrt(8) * 10, label = 'simulation')\n",
    "# plt.plot(tbar_arr * np.sqrt(bi), bpar_arr * bpar0 * 100, label = 'analytic' + r'$\\times$ 100')\n",
    "# plt.xlabel('$tk_\\parallel v_{ti}$')\n",
    "plt.xlabel('$tk_\\parallel v_A$')\n",
    "plt.ylabel('$|\\delta B_{\\mathbf{k}\\parallel}|$')\n",
    "plt.legend(loc='lower right')\n",
    "plt.yscale('log')\n",
    "# plt.xlim([0, 500])\n",
    "ax = plt.gca()\n",
    "plt.text(0.1, 0., texts, transform=ax.transAxes)"
   ]
  },
  {
   "cell_type": "markdown",
   "metadata": {},
   "source": [
    "fit the initial decay to obtain dispersion relation"
   ]
  },
  {
   "cell_type": "code",
   "execution_count": null,
   "metadata": {
    "collapsed": false
   },
   "outputs": [],
   "source": [
    "# Generate artificial data = straight line with a=0 and b=1\n",
    "# plus some noise.\n",
    "xdata = np.array([0.0,1.0,2.0,3.0,4.0,5.0])\n",
    "ydata = np.array([0.1,0.9,2.2,2.8,3.9,5.1])\n",
    "# Initial guess.\n",
    "x0    = np.array([0.0, 0.0, 0.0])\n",
    "sigma = np.array([1.0,1.0,1.0,1.0,1.0,1.0])\n",
    "def func(x, a, b, c):\n",
    "    return a + b*x + c*x*x\n",
    "\n",
    "import scipy.optimize as optimization\n",
    "\n",
    "print(optimization.curve_fit(func, xdata, ydata, x0, sigma))"
   ]
  },
  {
   "cell_type": "code",
   "execution_count": null,
   "metadata": {
    "collapsed": true
   },
   "outputs": [],
   "source": [
    "t0 = 20\n",
    "def func(t, w, g, A, off, phi):\n",
    "    return (off + A*np.cos(w*t+phi))*np.exp(-g*t)"
   ]
  },
  {
   "cell_type": "code",
   "execution_count": null,
   "metadata": {
    "collapsed": false
   },
   "outputs": [],
   "source": [
    "import scipy.optimize as optimization\n",
    "\n",
    "n = 500\n",
    "xdata = (t_bpar-t0)[:n]/np.sqrt(bi)\n",
    "ydata = bpar[:n] * np.sqrt(8) * 10\n",
    "sigma= np.ones(n)\n",
    "x0 = np.array([0.2, -0.2, 1, 100, 1])\n",
    "print(optimization.curve_fit(func, xdata, ydata, x0, sigma))"
   ]
  },
  {
   "cell_type": "code",
   "execution_count": null,
   "metadata": {
    "collapsed": false
   },
   "outputs": [],
   "source": [
    "# func(t, w, g, A, off, phi)\n",
    "n = 1000\n",
    "xdata = (t_bpar-t0)[:n]/np.sqrt(bi)\n",
    "ydata = bpar[:n] * np.sqrt(8) * 10\n",
    "x0 = np.array([0.23, 0.06, 30, 100, -1.5])\n",
    "plt.plot(xdata, ydata)\n",
    "plt.plot(xdata, [func(x, *x0) for x in xdata])\n",
    "plt.yscale('log')"
   ]
  },
  {
   "cell_type": "code",
   "execution_count": null,
   "metadata": {
    "collapsed": false
   },
   "outputs": [],
   "source": [
    "fig_phi = plt.figure(figsize=[6, 6*0.618])\n",
    "plt.plot(t_phi, phi, label = 'simulation')\n",
    "# plt.plot(tbar_arr * np.sqrt(bi), phi_arr*bpar0, label = 'analytic')\n",
    "plt.xlabel('$tk_\\parallel v_{ti}$')\n",
    "plt.ylabel('$|\\phi_{\\mathbf{k}}|$')\n",
    "plt.legend(loc='lower right')\n",
    "ax = plt.gca()\n",
    "plt.text(0.1, 0, texts, transform=ax.transAxes)\n",
    "plt.yscale('log')\n",
    "# plt.xlim([0, 20])"
   ]
  },
  {
   "cell_type": "code",
   "execution_count": null,
   "metadata": {
    "collapsed": true
   },
   "outputs": [],
   "source": []
  }
 ],
 "metadata": {
  "kernelspec": {
   "display_name": "Python 3",
   "language": "python",
   "name": "python3"
  },
  "language_info": {
   "codemirror_mode": {
    "name": "ipython",
    "version": 3
   },
   "file_extension": ".py",
   "mimetype": "text/x-python",
   "name": "python",
   "nbconvert_exporter": "python",
   "pygments_lexer": "ipython3",
   "version": "3.5.1"
  },
  "widgets": {
   "state": {},
   "version": "1.1.2"
  }
 },
 "nbformat": 4,
 "nbformat_minor": 0
}
