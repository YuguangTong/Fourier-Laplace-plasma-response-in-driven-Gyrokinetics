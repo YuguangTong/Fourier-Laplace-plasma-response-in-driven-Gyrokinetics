{
 "cells": [
  {
   "cell_type": "code",
   "execution_count": 1,
   "metadata": {
    "collapsed": false,
    "deletable": true,
    "editable": true
   },
   "outputs": [],
   "source": [
    "import numpy as np\n",
    "from py_vlasov.wrapper import disp_det, oblique_wrapper\n",
    "from py_vlasov.util import real_imag, list_to_complex, VlasovException\n",
    "import scipy.optimize"
   ]
  },
  {
   "cell_type": "markdown",
   "metadata": {
    "deletable": true,
    "editable": true
   },
   "source": [
    "Calculate dispersion relation for slow mode"
   ]
  },
  {
   "cell_type": "code",
   "execution_count": 2,
   "metadata": {
    "collapsed": false,
    "deletable": true,
    "editable": true
   },
   "outputs": [],
   "source": [
    "k = 0.2\n",
    "theta = 89.95\n",
    "kp = k * np.sin(np.deg2rad(theta))\n",
    "kz = k * np.cos(np.deg2rad(theta))\n",
    "betap = .01\n",
    "t_list=[1., 100.]\n",
    "a_list=[1., 1.]\n",
    "n_list=[1., 1.]\n",
    "q_list=[1., -1.,]\n",
    "m_list=[1., 1/1836,]\n",
    "v_list=[0., 0.]"
   ]
  },
  {
   "cell_type": "code",
   "execution_count": 5,
   "metadata": {
    "collapsed": false,
    "deletable": true,
    "editable": true
   },
   "outputs": [],
   "source": [
    "f = lambda wrel: real_imag(disp_det(list_to_complex(wrel), kz, kp, betap, t_list, a_list, n_list,\n",
    "    q_list, m_list, v_list, method = 'numpy', aol=1e-4))\n",
    "alfven = kz/np.sqrt(betap)\n",
    "# guess = alfven * (1.5 - 0.02j)\n",
    "# guess = alfven * (5. - 2.j)\n",
    "# guess = alfven * (5-0.6) \n",
    "# guess = alfven * (0.15 - 0.06j)\n",
    "guess = alfven * (0.38 - 0.002)\n",
    "# guess = alfven * (0.08 - 0.15j)\n",
    "# guess = alfven * (0.5 - 0.18j)\n",
    "# guess = alfven * (1-.8j) * 1.2\n",
    "wr, wi = scipy.optimize.fsolve(f, real_imag(guess))"
   ]
  },
  {
   "cell_type": "markdown",
   "metadata": {
    "deletable": true,
    "editable": true
   },
   "source": [
    "normalized frequency $\\bar{\\omega}$"
   ]
  },
  {
   "cell_type": "code",
   "execution_count": 6,
   "metadata": {
    "collapsed": false,
    "deletable": true,
    "editable": true
   },
   "outputs": [
    {
     "name": "stdout",
     "output_type": "stream",
     "text": [
      "0.000665719991607 -2.80563326172e-06\n",
      "[ 0.38142951 -0.00160751]\n"
     ]
    }
   ],
   "source": [
    "print(wr, wi)\n",
    "print((wr, wi) / alfven)"
   ]
  },
  {
   "cell_type": "markdown",
   "metadata": {
    "deletable": true,
    "editable": true
   },
   "source": [
    "calculate magnetic variance anisotropy"
   ]
  },
  {
   "cell_type": "code",
   "execution_count": 16,
   "metadata": {
    "collapsed": true,
    "deletable": true,
    "editable": true
   },
   "outputs": [],
   "source": [
    "from py_vlasov.transport_ratios import input_gen, transport_ratios"
   ]
  },
  {
   "cell_type": "code",
   "execution_count": 17,
   "metadata": {
    "collapsed": false,
    "deletable": true,
    "editable": true
   },
   "outputs": [],
   "source": [
    "wrel = wr + 1j * wi\n",
    "inp = input_gen(wrel, kp, kz, betap, tetp = 1)"
   ]
  },
  {
   "cell_type": "code",
   "execution_count": 18,
   "metadata": {
    "collapsed": false,
    "deletable": true,
    "editable": true
   },
   "outputs": [],
   "source": [
    "# setting print_result = True will print other \n",
    "# %debug\n",
    "tr = transport_ratios(inp, print_result = False);"
   ]
  },
  {
   "cell_type": "markdown",
   "metadata": {
    "deletable": true,
    "editable": true
   },
   "source": [
    "By definition\n",
    "$$C_{bb} = \\frac{|B_\\parallel|^2}{|B_\\perp|^2 \\tan^2\\theta}$$\n",
    "$$ MVA = \\frac{\\langle|\\delta B_\\perp|^2\\rangle}{\\langle|\\delta B_\\parallel|^2\\rangle} $$"
   ]
  },
  {
   "cell_type": "code",
   "execution_count": 19,
   "metadata": {
    "collapsed": false,
    "deletable": true,
    "editable": true
   },
   "outputs": [],
   "source": [
    "cbb = tr['c_bb']\n",
    "mva = 1/(cbb * np.tan(np.deg2rad(theta))**2)"
   ]
  },
  {
   "cell_type": "code",
   "execution_count": 20,
   "metadata": {
    "collapsed": false,
    "deletable": true,
    "editable": true
   },
   "outputs": [
    {
     "data": {
      "text/plain": [
       "{'alfven_ratio': [1.3102680872241354e-12, 6.775617848375964e-16],\n",
       " 'c_bb': 3.1980332607356217e-05,\n",
       " 'compressibility': [4.9076848915867476e-11, 4.9080428093357557e-11],\n",
       " 'cross_helicity': [-7.1771451252556165e-07, 1.5607307632801716e-08],\n",
       " 'e_l_tot': 0.99999998098495313,\n",
       " 'eigen_e': array([  6.91430183e+03 +2.45654161e+03j,\n",
       "          0.00000000e+00 -1.00000000e+00j,   5.89863999e+00 +2.21807099e+00j]),\n",
       " 'helicity': -0.26416587157482058,\n",
       " 'kvec': array([  3.19515374e-05,   0.00000000e+00,   2.78829836e-08]),\n",
       " 'p_b_b0': (-154.96001729481407+85.179876084505025j),\n",
       " 'p_b_k': (-5.678965165359517-3.1216668500574114j),\n",
       " 'p_e_b0': (-6914.3018317212018-2456.541607083604j),\n",
       " 'parallel_compressibility': [(-4.722706333980243e-06+5.285977212098453e-06j),\n",
       "  (-4.723022542647938e-06+5.2860413045593481e-06j)]}"
      ]
     },
     "execution_count": 20,
     "metadata": {},
     "output_type": "execute_result"
    }
   ],
   "source": [
    "tr"
   ]
  },
  {
   "cell_type": "markdown",
   "metadata": {
    "collapsed": true,
    "deletable": true,
    "editable": true
   },
   "source": [
    "$\\beta = 1$, Alfven\n",
    "\n",
    "- k = 0.1, MVA = 6697\n",
    "- k = 0.2, MVA = 1719\n",
    "- k = 0.4, MVA = 469\n",
    "- k = 0.8, MVA = 162.8\n",
    "- k = 1.2, MVA = 108\n",
    "- k = 1.8, MVA = 86.4\n",
    "- k = 2.0, MVA = 83.5\n",
    "- k = 2.4, MVA = 79.4\n",
    "- k = 3.6, MVA = 70\n",
    "- k = 4, MVA = 66.4\n",
    "- k = 6, MVA = 51.3\n",
    "- k = 8, MVA = 38.7\n",
    "- k = 10, MVA = 28.9\n",
    "- k = 12, MVA = 21.7"
   ]
  },
  {
   "cell_type": "markdown",
   "metadata": {
    "deletable": true,
    "editable": true
   },
   "source": [
    "$\\beta = 1$, slow\n",
    "\n",
    "- k = 0.1, MVA = 0.00599\n",
    "- k = 0.2, MVA = 0.0238\n",
    "- k = 0.4, MVA = 0.0904\n",
    "- k = 0.8, MVA = 0.314\n",
    "- k = 1.2, MVA = 0.665\n",
    "- k = 1.8, MVA = 1.84\n",
    "- k = 2.0, MVA = 2.55\n",
    "- k = 2.4, MVA = 4.49\n",
    "- k = 3.6, MVA = 11.1\n",
    "- k = 4, MVA = 12.9\n",
    "- k = 6, MVA = 17.\n",
    "- k = 8, MVA = 15.6\n",
    "- k = 10, MVA = 12.2\n",
    "- k = 12, MVA = 9.11"
   ]
  },
  {
   "cell_type": "code",
   "execution_count": 467,
   "metadata": {
    "collapsed": true,
    "deletable": true,
    "editable": true
   },
   "outputs": [],
   "source": [
    "k_arr = np.array([0.1, 0.2, 0.4, 0.8, 1.2, 1.8, 2.0, 2.4, 3.6, 4, 6, 8, 10, 12])\n",
    "mva_alfven = np.array([6697, 1719, 469, 162.8, 108, 86.4, 83.5, 79.4, 70, 66.4, 51.3, 38.7, 28.9, 21.7])\n",
    "mva_slow = np.array([0.006, 0.0238, 0.09, 0.314, 0.665, 1.84,  2.55, 4.49, 11.1, 12.9, 17, 15.6, 12.2, 9.11])"
   ]
  },
  {
   "cell_type": "code",
   "execution_count": 468,
   "metadata": {
    "collapsed": false,
    "deletable": true,
    "editable": true
   },
   "outputs": [],
   "source": [
    "import matplotlib.pyplot as plt\n",
    "%matplotlib inline"
   ]
  },
  {
   "cell_type": "code",
   "execution_count": 469,
   "metadata": {
    "collapsed": false,
    "deletable": true,
    "editable": true
   },
   "outputs": [
    {
     "data": {
      "image/png": "[encoded data removed]",
      "text/plain": [
       "<matplotlib.figure.Figure at 0x1114400b8>"
      ]
     },
     "metadata": {},
     "output_type": "display_data"
    }
   ],
   "source": [
    "plt.plot(k_arr, mva_alfven)\n",
    "plt.plot(k_arr, mva_slow)\n",
    "plt.xscale('log')\n",
    "plt.yscale('log')"
   ]
  },
  {
   "cell_type": "code",
   "execution_count": 470,
   "metadata": {
    "collapsed": true,
    "deletable": true,
    "editable": true
   },
   "outputs": [],
   "source": [
    "def combine_mva(mva_alfven, mva_slow, as_ratio):\n",
    "    bperp2_alfven = as_ratio * mva_alfven / (1 + mva_alfven)\n",
    "    bpar2_alfven = as_ratio * 1 / (1 + mva_alfven)\n",
    "    bperp2_slow = as_ratio * mva_slow / (1 + mva_slow)\n",
    "    bpar2_slow = as_ratio * 1 / (1 + mva_slow)    \n",
    "    return (bperp2_alfven+bperp2_slow) / (bpar2_alfven + bpar2_slow)"
   ]
  },
  {
   "cell_type": "code",
   "execution_count": 471,
   "metadata": {
    "collapsed": true,
    "deletable": true,
    "editable": true
   },
   "outputs": [],
   "source": [
    "mva_combined_1 = []\n",
    "for i in range(len(k_arr)):\n",
    "    mva_combined_1.append(combine_mva(mva_alfven[i], mva_slow[i], 1))\n",
    "# mva_combined_05 = []\n",
    "# for i in range(len(k_arr)):\n",
    "#     mva_combined_05.append(combine_mva(mva_alfven[i], mva_slow[i], 0.5))\n",
    "# mva_combined_2 = []\n",
    "# for i in range(len(k_arr)):\n",
    "#     mva_combined_2.append(combine_mva(mva_alfven[i], mva_slow[i], 2))"
   ]
  },
  {
   "cell_type": "code",
   "execution_count": 491,
   "metadata": {
    "collapsed": false,
    "deletable": true,
    "editable": true
   },
   "outputs": [
    {
     "data": {
      "image/png": "[encoded data removed]",
      "text/plain": [
       "<matplotlib.figure.Figure at 0x1121e3c18>"
      ]
     },
     "metadata": {},
     "output_type": "display_data"
    }
   ],
   "source": [
    "fig = plt.figure(figsize=[7, 5])\n",
    "plt.plot(k_arr, mva_alfven, label = 'Alfven')\n",
    "plt.plot(k_arr, mva_slow, label = 'slow')\n",
    "plt.plot(k_arr, mva_combined_1, label = r'$E_{alfven}/E_{slow} = 1$')\n",
    "# plt.plot(k_arr, mva_combined_05, label = 'E_{alfven}/E_{slow} = 0.5')\n",
    "# plt.plot(k_arr, mva_combined_2, label = 'E_{alfven}/E_{slow} = 2')\n",
    "plt.xscale('log')\n",
    "plt.yscale('log')\n",
    "plt.legend(loc='best', frameon=False)\n",
    "plt.ylabel(r'$|B_\\perp|^2/|B_\\parallel|^2$', fontsize=18)\n",
    "plt.xlabel(r'$k_\\perp \\rho_i$', fontsize=18)\n",
    "plt.title(r'$\\beta_i = 0.01$')\n",
    "\n",
    "fig.savefig('low_beta_hot_plasma_mva.png', dpi=200)"
   ]
  },
  {
   "cell_type": "code",
   "execution_count": 492,
   "metadata": {
    "collapsed": false,
    "deletable": true,
    "editable": true
   },
   "outputs": [],
   "source": [
    "!mv low_beta_hot_plasma_mva.png figures/"
   ]
  },
  {
   "cell_type": "code",
   "execution_count": 494,
   "metadata": {
    "collapsed": false,
    "deletable": true,
    "editable": true
   },
   "outputs": [
    {
     "name": "stdout",
     "output_type": "stream",
     "text": [
      "[1.0116978548757831, 1.0463819268507504, 1.174955953214885, 1.6070860132999021, 2.2798987936565314, 4.5012411347517727, 5.8137421919363987, 9.2781697520083828, 19.676293622141998, 22.046986469864699, 25.7823613086771, 22.411012433392543, 17.314617169373552, 12.989454434623591]\n"
     ]
    }
   ],
   "source": [
    "print(mva_combined_1)"
   ]
  },
  {
   "cell_type": "code",
   "execution_count": null,
   "metadata": {
    "collapsed": true,
    "deletable": true,
    "editable": true
   },
   "outputs": [],
   "source": []
  }
 ],
 "metadata": {
  "kernelspec": {
   "display_name": "Python 3.6 (science)",
   "language": "python",
   "name": "science"
  },
  "language_info": {
   "codemirror_mode": {
    "name": "ipython",
    "version": 3
   },
   "file_extension": ".py",
   "mimetype": "text/x-python",
   "name": "python",
   "nbconvert_exporter": "python",
   "pygments_lexer": "ipython3",
   "version": "3.6.0"
  },
  "widgets": {
   "state": {},
   "version": "1.1.2"
  }
 },
 "nbformat": 4,
 "nbformat_minor": 0
}
