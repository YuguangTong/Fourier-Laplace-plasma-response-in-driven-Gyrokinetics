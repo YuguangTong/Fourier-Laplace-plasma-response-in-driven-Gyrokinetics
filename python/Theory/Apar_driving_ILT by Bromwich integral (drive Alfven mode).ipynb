{
 "cells": [
  {
   "cell_type": "markdown",
   "metadata": {},
   "source": [
    "# check \n",
    "### the accuracy of the Inverse Laplace transform performed in AstroGK manual Eq. 6.125-126 by comparing with solution from Bromwich integral"
   ]
  },
  {
   "cell_type": "code",
   "execution_count": 2,
   "metadata": {
    "collapsed": false
   },
   "outputs": [],
   "source": [
    "import numpy as np\n",
    "from scipy.special import i0e\n",
    "import scipy.optimize\n",
    "from gk_solver.util import real_imag, list2complex, zp\n",
    "import matplotlib.pyplot as plt\n",
    "%matplotlib inline"
   ]
  },
  {
   "cell_type": "markdown",
   "metadata": {},
   "source": [
    "## Term $A$ and $B$ as defined in AstroGK manual\n",
    "\n",
    "### Eq. 6.115, 6.116"
   ]
  },
  {
   "cell_type": "code",
   "execution_count": 3,
   "metadata": {
    "collapsed": true
   },
   "outputs": [],
   "source": [
    "def B(ti_te, mi_me, kperp_rhoi):\n",
    "    \"\"\"\n",
    "    Calculate\n",
    "    B = sum_s [ (Ti/Ts) ( 1 - Gamma_0(alpha_s)) ]\n",
    "    \"\"\"\n",
    "    alpha_i = kperp_rhoi**2 / 2\n",
    "    alpha_e = alpha_i / ti_te / mi_me\n",
    "    return 1 - i0e(alpha_i) - ti_te * (1 - i0e(alpha_e))"
   ]
  },
  {
   "cell_type": "code",
   "execution_count": 4,
   "metadata": {
    "collapsed": true
   },
   "outputs": [],
   "source": [
    "def A(ti_te, mi_me, bi, kperp_rhoi, w_bar):\n",
    "    \"\"\"\n",
    "    Calculate\n",
    "    A  = sum_s [ (Ti/Ts) (1 + Gamma_0s xi_s Z_s) ]\n",
    "    \"\"\"\n",
    "    alpha_i = kperp_rhoi**2 / 2\n",
    "    alpha_e = alpha_i / ti_te / mi_me\n",
    "    xi_i = w_bar / np.sqrt(bi)\n",
    "    xi_e = w_bar * np.sqrt(ti_te / mi_me / bi)\n",
    "    Z_i = zp(xi_i)\n",
    "    Z_e = zp(xi_e)\n",
    "    Gamma_0i = i0e(alpha_i)\n",
    "    Gamma_0e = i0e(alpha_e)\n",
    "    return 1 + Gamma_0i * xi_i * Z_i + ti_te * (1 + Gamma_0e * xi_e * Z_e)"
   ]
  },
  {
   "cell_type": "code",
   "execution_count": 5,
   "metadata": {
    "collapsed": true
   },
   "outputs": [],
   "source": [
    "def dispersion(ti_te, mi_me, bi, kperp_rhoi, w_bar):\n",
    "    \"\"\"\n",
    "    normalized dispersion relation:\n",
    "    D(w_bar) = w_bar^2 - alpha_i * A / (A-B) / B\n",
    "    \n",
    "    D(w_bar) = 0 yields eigen frequencies\n",
    "    \"\"\"\n",
    "    alpha_i = kperp_rhoi**2 / 2\n",
    "    a = A(ti_te, mi_me, bi, kperp_rhoi, w_bar)\n",
    "    b = B(ti_te, mi_me, kperp_rhoi)\n",
    "    return w_bar**2 - alpha_i * a / (a - b) / b"
   ]
  },
  {
   "cell_type": "markdown",
   "metadata": {},
   "source": [
    "## fix dimensionless parameters \n",
    "$T_i/T_e, k_\\perp \\rho_i, \\omega_0, \\beta_i, A_{\\parallel 0}$"
   ]
  },
  {
   "cell_type": "code",
   "execution_count": 52,
   "metadata": {
    "collapsed": false
   },
   "outputs": [],
   "source": [
    "ti_te = 0.01\n",
    "kperp_rhoi = 0.4\n",
    "wbar_0 = 2.7\n",
    "bi = 0.01\n",
    "Apar0 = 1\n",
    "mi_me = 1836"
   ]
  },
  {
   "cell_type": "markdown",
   "metadata": {},
   "source": [
    "## solve for two Alfven roots $\\bar{\\omega}_1$ and $\\bar{\\omega}_2 = \\bar{\\omega}_1^*$"
   ]
  },
  {
   "cell_type": "code",
   "execution_count": 53,
   "metadata": {
    "collapsed": false
   },
   "outputs": [],
   "source": [
    "f = lambda w_bar: real_imag(dispersion(ti_te, mi_me, bi, kperp_rhoi, list2complex(w_bar)))"
   ]
  },
  {
   "cell_type": "code",
   "execution_count": 54,
   "metadata": {
    "collapsed": false
   },
   "outputs": [
    {
     "name": "stdout",
     "output_type": "stream",
     "text": [
      "(3.05925684009-0.171670515058j)\n"
     ]
    }
   ],
   "source": [
    "guess_1 = 1\n",
    "res = scipy.optimize.fsolve(f, real_imag(guess_1))\n",
    "wbar_1 = list2complex(res)\n",
    "print(wbar_1)"
   ]
  },
  {
   "cell_type": "markdown",
   "metadata": {},
   "source": [
    "#### Below we compare to Eq. D21 in Howes (2006) to verify that Alfven the solution is correct"
   ]
  },
  {
   "cell_type": "code",
   "execution_count": 55,
   "metadata": {
    "collapsed": false
   },
   "outputs": [
    {
     "name": "stdout",
     "output_type": "stream",
     "text": [
      "-0.166183873895\n"
     ]
    }
   ],
   "source": [
    "    alpha_i = kperp_rhoi**2 / 2\n",
    "    alpha_e = alpha_i / ti_te / mi_me\n",
    "    Gamma_0i = i0e(alpha_i)\n",
    "    Gamma_0e = i0e(alpha_e)\n",
    "    \n",
    "    wbar = np.real(wbar_1)\n",
    "    gamma = - alpha_i / 2 / (ti_te * Gamma_0e)**2 * np.sqrt(np.pi/bi)\n",
    "    gamma *= (Gamma_0i * np.exp(-wbar**2/bi) + ti_te**1.5/np.sqrt(mi_me) * Gamma_0e)\n",
    "    print(gamma)"
   ]
  },
  {
   "cell_type": "code",
   "execution_count": 56,
   "metadata": {
    "collapsed": false
   },
   "outputs": [
    {
     "name": "stdout",
     "output_type": "stream",
     "text": [
      "(-3.05925684009-0.171670515058j)\n"
     ]
    }
   ],
   "source": [
    "guess_2 = -1\n",
    "res = scipy.optimize.fsolve(f, real_imag(guess_2))\n",
    "wbar_2 = list2complex(res)\n",
    "print(wbar_2)"
   ]
  },
  {
   "cell_type": "markdown",
   "metadata": {},
   "source": [
    "## Construct solution $A_{\\parallel \\mathbf{k}}(t)$"
   ]
  },
  {
   "cell_type": "code",
   "execution_count": 57,
   "metadata": {
    "collapsed": true
   },
   "outputs": [],
   "source": [
    "def Q2bar(ti_te, mi_me, bi, kperp_rhoi, w_bar):\n",
    "    \"\"\"\n",
    "    Normalized Q^2:\n",
    "    Q2bar = Q^2/(-kpar^2 va^2) = alpha_i A / (A-B)/B\n",
    "    \"\"\"\n",
    "    alpha_i = kperp_rhoi**2 / 2\n",
    "    a = A(ti_te, mi_me, bi, kperp_rhoi, w_bar)\n",
    "    b = B(ti_te, mi_me, kperp_rhoi)\n",
    "    return alpha_i * a / (a-b) / b"
   ]
  },
  {
   "cell_type": "markdown",
   "metadata": {},
   "source": [
    "$$\n",
    "G =  \\frac{\\alpha_i}{\\sqrt{\\beta_i} (A-B)^2} \\sum_s \\left(\\frac{T_i}{T_s}\\right)^{3/2} \\sqrt{\\frac{m_s}{m_i}} \\Gamma_{0s} \\left[(1-2\\xi_s^2)Z_s - 2 \\xi_s\\right]\n",
    "$$"
   ]
  },
  {
   "cell_type": "code",
   "execution_count": 58,
   "metadata": {
    "collapsed": true
   },
   "outputs": [],
   "source": [
    "def G(ti_te, mi_me, bi, kperp_rhoi, w_bar):\n",
    "    \"\"\"\n",
    "    Normalized dQ2/dp\n",
    "    G = (dQ2/dp) / (-i k_par v_ts)\n",
    "    \"\"\"\n",
    "    alpha_i = kperp_rhoi**2 / 2\n",
    "    a = A(ti_te, mi_me, bi, kperp_rhoi, w_bar)\n",
    "    b = B(ti_te, mi_me, kperp_rhoi)\n",
    "    alpha_e = alpha_i / ti_te / mi_me\n",
    "    xi_i = w_bar / np.sqrt(bi)\n",
    "    xi_e = w_bar * np.sqrt(ti_te / mi_me / bi)\n",
    "    Z_i = zp(xi_i)\n",
    "    Z_e = zp(xi_e)\n",
    "    Gamma_0i = i0e(alpha_i)\n",
    "    Gamma_0e = i0e(alpha_e)\n",
    "    \n",
    "    term1 = Gamma_0i * ((1 - 2*xi_i**2) * Z_i - 2 * xi_i)\n",
    "    term2 = ti_te**1.5 / np.sqrt(mi_me) * Gamma_0e * \\\n",
    "            ((1 - 2*xi_e**2) * Z_e - 2 * xi_e)\n",
    "    return alpha_i / np.sqrt(bi) / (a-b)**2 * (term1 + term2)\n",
    "    "
   ]
  },
  {
   "cell_type": "code",
   "execution_count": 59,
   "metadata": {
    "collapsed": false
   },
   "outputs": [
    {
     "data": {
      "text/plain": [
       "(-0.31182371071889603+0.33498609974596411j)"
      ]
     },
     "execution_count": 59,
     "metadata": {},
     "output_type": "execute_result"
    }
   ],
   "source": [
    "G(ti_te, mi_me, bi, kperp_rhoi, wbar_2)"
   ]
  },
  {
   "cell_type": "code",
   "execution_count": 60,
   "metadata": {
    "collapsed": false
   },
   "outputs": [
    {
     "data": {
      "text/plain": [
       "(3.1974423109204508e-14+0.34334103011544748j)"
      ]
     },
     "execution_count": 60,
     "metadata": {},
     "output_type": "execute_result"
    }
   ],
   "source": [
    "-wbar_1 - wbar_2"
   ]
  },
  {
   "cell_type": "code",
   "execution_count": 61,
   "metadata": {
    "collapsed": false
   },
   "outputs": [
    {
     "data": {
      "text/plain": [
       "(9.3295816479158002-1.0503683948484046j)"
      ]
     },
     "execution_count": 61,
     "metadata": {},
     "output_type": "execute_result"
    }
   ],
   "source": [
    " Q2bar(ti_te, mi_me, bi, kperp_rhoi, wbar_1)"
   ]
  },
  {
   "cell_type": "markdown",
   "metadata": {},
   "source": [
    "$$\n",
    "A_{\\parallel \\mathbf{k}}(t) = Res(\\overline{\\omega}_0) + Res(\\overline{\\omega}_1) + Res(\\overline{\\omega}_2)\n",
    "$$"
   ]
  },
  {
   "cell_type": "code",
   "execution_count": 62,
   "metadata": {
    "collapsed": true
   },
   "outputs": [],
   "source": [
    "def Apark(apark0, tbar):\n",
    "    \"\"\"\n",
    "    \n",
    "    \"\"\"\n",
    "    q2bar_w0 =  Q2bar(ti_te, mi_me, bi, kperp_rhoi, wbar_0)\n",
    "    res_w0 = q2bar_w0 * np.exp(-1j * wbar_0 * tbar) / \\\n",
    "        (wbar_0**2 - q2bar_w0)\n",
    "    G_w1 = G(ti_te, mi_me, bi, kperp_rhoi, wbar_1)\n",
    "    G_w2 = G(ti_te, mi_me, bi, kperp_rhoi, wbar_2)\n",
    "    res_w1 = wbar_1**2 * np.exp(-1j * wbar_1 * tbar) / \\\n",
    "        (G_w1 + 2 * wbar_1) / (wbar_1 - wbar_0)\n",
    "    res_w2 = wbar_2**2 * np.exp(-1j * wbar_2 * tbar) / \\\n",
    "        (G_w2 + 2 * wbar_2) / (wbar_2 - wbar_0)\n",
    "    return apark0 * (res_w0 + res_w1 + res_w2)\n",
    "\n",
    "\n",
    "def Apark_approx(apark0, tbar):\n",
    "    \"\"\"\n",
    "    \n",
    "    \"\"\"\n",
    "    q2bar_w0 =  Q2bar(ti_te, mi_me, bi, kperp_rhoi, wbar_0)\n",
    "    res_w0 = q2bar_w0 * np.exp(-1j * wbar_0 * tbar) / \\\n",
    "        (wbar_0**2 - q2bar_w0)\n",
    "    G_w1 = G(ti_te, mi_me, bi, kperp_rhoi, wbar_1)\n",
    "    G_w2 = G(ti_te, mi_me, bi, kperp_rhoi, wbar_2)\n",
    "    res_w1 = wbar_1**2 * np.exp(-1j * wbar_1 * tbar) / \\\n",
    "        (wbar_1-wbar_2) / (wbar_1 - wbar_0)\n",
    "    res_w2 = wbar_2**2 * np.exp(-1j * wbar_2 * tbar) / \\\n",
    "        (wbar_2 - wbar_1) / (wbar_2 - wbar_0)\n",
    "    return apark0 * (res_w0 + res_w1 + res_w2)"
   ]
  },
  {
   "cell_type": "code",
   "execution_count": 63,
   "metadata": {
    "collapsed": true
   },
   "outputs": [],
   "source": [
    "t_arr = np.linspace(0, 50, 500)"
   ]
  },
  {
   "cell_type": "code",
   "execution_count": 64,
   "metadata": {
    "collapsed": false
   },
   "outputs": [],
   "source": [
    "apar_arr = np.array([np.abs(Apark(Apar0, tbar)) for tbar in t_arr])\n",
    "apar_approx_arr = np.array([np.abs(Apark_approx(Apar0, tbar)) for tbar in t_arr])"
   ]
  },
  {
   "cell_type": "markdown",
   "metadata": {
    "collapsed": true
   },
   "source": []
  },
  {
   "cell_type": "code",
   "execution_count": 65,
   "metadata": {
    "collapsed": false
   },
   "outputs": [
    {
     "data": {
      "image/png": "[encoded data removed]",
      "text/plain": [
       "<matplotlib.figure.Figure at 0x10fd2a828>"
      ]
     },
     "metadata": {},
     "output_type": "display_data"
    }
   ],
   "source": [
    "fig = plt.figure(figsize=[6,6])\n",
    "plt.plot(t_arr * np.sqrt(bi), apar_arr, 'k', label='Bromwich')\n",
    "plt.plot(t_arr * np.sqrt(bi), apar_approx_arr, 'r', label = r'$p^2+Q^2 \\approx (p-p_1)(p-p_2)$')\n",
    "plt.ylabel(r'$|A_\\parallel|$')\n",
    "plt.xlabel(r'$tk_\\parallel v_{ti}$')\n",
    "plt.legend(loc='best', frameon=False)\n",
    "plt.show()"
   ]
  },
  {
   "cell_type": "code",
   "execution_count": 19,
   "metadata": {
    "collapsed": false
   },
   "outputs": [],
   "source": [
    "# fig.savefig('bromwich_vs_approx.eps')"
   ]
  },
  {
   "cell_type": "markdown",
   "metadata": {
    "collapsed": true
   },
   "source": [
    "### compare with AstroGK simulation"
   ]
  },
  {
   "cell_type": "code",
   "execution_count": 20,
   "metadata": {
    "collapsed": true
   },
   "outputs": [],
   "source": [
    "data_dir = '/Volumes/yuguang_sd/data/agk/lin_response/lin_alf_1'\n",
    "filename = data_dir + '/lin_alf_1.apar'\n",
    "\n",
    "dtype = {'names': ('f1', 't', 'f2', 'apar2', 'f3', 'f4', 'h1', 'h2'),\n",
    "         'formats': ('S2', 'f4', 'S10', 'f4', 'S10', 'S10', 'f4', 'f4')}\n",
    "data = np.loadtxt(filename, dtype = dtype)\n",
    "\n",
    "apar2 = np.array([elem[3] for elem in data])\n",
    "apar = np.sqrt(apar2)\n",
    "t = np.array([elem[1] for elem in data])"
   ]
  },
  {
   "cell_type": "code",
   "execution_count": 21,
   "metadata": {
    "collapsed": false
   },
   "outputs": [
    {
     "data": {
      "image/png": "[encoded data removed]",
      "text/plain": [
       "<matplotlib.figure.Figure at 0x118463b38>"
      ]
     },
     "metadata": {},
     "output_type": "display_data"
    }
   ],
   "source": [
    "fig2 = plt.figure(figsize=[6,6])\n",
    "plt.plot(t_arr * np.sqrt(bi), apar_arr, 'k', label='Bromwich')\n",
    "plt.plot(t_arr * np.sqrt(bi), apar_approx_arr, 'r', label = r'$p^2+Q^2 \\approx (p-p_1)(p-p_2)$')\n",
    "plt.plot(t, apar * np.sqrt(8), 'g', markersize=1, label='AstroGK')\n",
    "plt.ylabel(r'$|A_\\parallel|$')\n",
    "plt.xlabel(r'$tk_\\parallel v_{ti}$')\n",
    "plt.legend(loc='best', frameon=False)\n",
    "plt.xlim([0, 5])\n",
    "plt.show()"
   ]
  },
  {
   "cell_type": "code",
   "execution_count": 22,
   "metadata": {
    "collapsed": true
   },
   "outputs": [],
   "source": [
    "# fig2.savefig('bromwich_vs_agk.eps')"
   ]
  },
  {
   "cell_type": "code",
   "execution_count": null,
   "metadata": {
    "collapsed": true
   },
   "outputs": [],
   "source": []
  },
  {
   "cell_type": "code",
   "execution_count": null,
   "metadata": {
    "collapsed": true
   },
   "outputs": [],
   "source": []
  }
 ],
 "metadata": {
  "kernelspec": {
   "display_name": "Python 3",
   "language": "python",
   "name": "python3"
  },
  "language_info": {
   "codemirror_mode": {
    "name": "ipython",
    "version": 3
   },
   "file_extension": ".py",
   "mimetype": "text/x-python",
   "name": "python",
   "nbconvert_exporter": "python",
   "pygments_lexer": "ipython3",
   "version": "3.5.1"
  }
 },
 "nbformat": 4,
 "nbformat_minor": 0
}
