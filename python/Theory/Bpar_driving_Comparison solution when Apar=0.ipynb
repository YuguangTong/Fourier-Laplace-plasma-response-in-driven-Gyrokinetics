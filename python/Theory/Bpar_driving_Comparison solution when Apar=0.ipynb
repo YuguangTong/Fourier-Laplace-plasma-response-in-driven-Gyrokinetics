{
 "cells": [
  {
   "cell_type": "markdown",
   "metadata": {},
   "source": [
    "# Compare AstroGK linear simulation with analytic solution when $A_\\parallel=0$"
   ]
  },
  {
   "cell_type": "code",
   "execution_count": 22,
   "metadata": {
    "collapsed": false
   },
   "outputs": [],
   "source": [
    "import numpy as np\n",
    "import scipy.optimize\n",
    "import matplotlib.pyplot as plt\n",
    "from gk_solver.gk_apar0 import dispersion, res_0, res_i\n",
    "from gk_solver.util import real_imag, list2complex\n",
    "%matplotlib inline"
   ]
  },
  {
   "cell_type": "markdown",
   "metadata": {},
   "source": [
    "###  Set plasma parameters"
   ]
  },
  {
   "cell_type": "code",
   "execution_count": 23,
   "metadata": {
    "collapsed": true
   },
   "outputs": [],
   "source": [
    "ti_te = 1\n",
    "# ti_te = 0.01\n",
    "kperp_rhoi = 0.1\n",
    "wbar_0 = .13\n",
    "bi = 0.01\n",
    "bpar0 = 10\n",
    "mi_me = 1836"
   ]
  },
  {
   "cell_type": "markdown",
   "metadata": {},
   "source": [
    "### find eigen-frequencies"
   ]
  },
  {
   "cell_type": "code",
   "execution_count": 24,
   "metadata": {
    "collapsed": true
   },
   "outputs": [],
   "source": [
    "f = lambda w_bar: real_imag(dispersion(ti_te, mi_me, bi, kperp_rhoi, list2complex(w_bar)))"
   ]
  },
  {
   "cell_type": "code",
   "execution_count": 25,
   "metadata": {
    "collapsed": false
   },
   "outputs": [
    {
     "name": "stdout",
     "output_type": "stream",
     "text": [
      "(0.144803522515-0.0635943520342j)\n"
     ]
    }
   ],
   "source": [
    "guess_1 = np.sqrt(bi) * 1.4 * (1 - 0.5j) # --> slow mode\n",
    "res = scipy.optimize.fsolve(f, real_imag(guess_1))\n",
    "wbar_1 = list2complex(res)\n",
    "print(wbar_1)"
   ]
  },
  {
   "cell_type": "markdown",
   "metadata": {},
   "source": [
    "## function to contruct time series easily"
   ]
  },
  {
   "cell_type": "code",
   "execution_count": 26,
   "metadata": {
    "collapsed": false
   },
   "outputs": [],
   "source": [
    "def ts_constructor(ti_te, mi_me, bi, kperp_rhoi, \n",
    "                   wbar_0, wbar_arr, tbar_arr, turnoff=None):\n",
    "    \"\"\"\n",
    "    return time series for B_parallel and phi\n",
    "    \"\"\"\n",
    "    \n",
    "    def phi_b(tbar):\n",
    "        \"\"\"\n",
    "            vector(\\phi(t), B(t))\n",
    "    \"\"\"\n",
    "        res = res_0(ti_te, mi_me, bi, kperp_rhoi, wbar_0, tbar, turnoff=turnoff)\n",
    "        for wbar_i in wbar_arr:\n",
    "            res += res_i(ti_te, mi_me, bi, kperp_rhoi, wbar_0, wbar_i, tbar, turnoff=turnoff)\n",
    "        return res\n",
    "    \n",
    "    phi_b_arr = np.array([phi_b(tbar) for tbar in tbar_arr])\n",
    "    return phi_b_arr"
   ]
  },
  {
   "cell_type": "code",
   "execution_count": 27,
   "metadata": {
    "collapsed": false
   },
   "outputs": [],
   "source": [
    "def eigenmode_finder(ti_te, mi_me, bi, kperp_rhoi):\n",
    "    \"\"\"\n",
    "    find the eigenmodes of the gk system.\n",
    "    currently hard coded the initial values for beta_i << 1, Ti = Te.\n",
    "    \"\"\"\n",
    "    # slow mode\n",
    "    guess_sm_1 = np.sqrt(bi) * 1.4 * (1-0.5j)\n",
    "    guess_sm_2 = np.sqrt(bi) * 1.4 * (-1-0.5j)\n",
    "    # entropy mode\n",
    "    guess_sm_3 = (-0.2 * np.log10(bi) -0.58) * 1j\n",
    "\n",
    "    f = lambda w_bar: real_imag(dispersion(ti_te, mi_me, bi, kperp_rhoi, list2complex(w_bar)))\n",
    "    wbar_arr = []\n",
    "    for guess in [guess_sm_1, guess_sm_2, guess_sm_3]:\n",
    "        res = scipy.optimize.fsolve(f, real_imag(guess))\n",
    "        wbar = list2complex(res)\n",
    "        if np.abs(wbar.real) < 1.e-10:\n",
    "            wbar = 1j * wbar.imag\n",
    "        wbar_arr += [wbar]\n",
    "    return wbar_arr"
   ]
  },
  {
   "cell_type": "markdown",
   "metadata": {},
   "source": [
    "## plot system response for several different driving frequency"
   ]
  },
  {
   "cell_type": "code",
   "execution_count": 28,
   "metadata": {
    "collapsed": true
   },
   "outputs": [],
   "source": [
    "ti_te = 1\n",
    "\n",
    "kperp_rhoi = 0.4\n",
    "wbar0_arr = [0.1, 0.35, 0.4]\n",
    "bi = 0.01\n",
    "bpar0 = 10\n",
    "mi_me = 1836\n",
    "\n",
    "texts = \"{0}{1}\\n\".format(r'$\\beta_i$=',bi) + \\\n",
    "    \"{0}{1}\\n\".format(r'$T_i/T_e=$',ti_te) + \\\n",
    "    \"{0}{1}\\n\".format(r'$k_\\perp \\rho_i=$',kperp_rhoi) + \\\n",
    "    \"{0}{1}\\n\".format(r'$\\delta B_{\\mathbf{k}\\parallel 0}=$', bpar0)"
   ]
  },
  {
   "cell_type": "code",
   "execution_count": 29,
   "metadata": {
    "collapsed": false
   },
   "outputs": [
    {
     "name": "stdout",
     "output_type": "stream",
     "text": [
      "[(0.14076243337717911-0.067383584950148401j), (-0.14076243337717914-0.067383584950148401j), (-0-0.1866019662312864j)]\n"
     ]
    }
   ],
   "source": [
    "wbar_arr = eigenmode_finder(ti_te, mi_me, bi, kperp_rhoi)\n",
    "print(wbar_arr)"
   ]
  },
  {
   "cell_type": "code",
   "execution_count": 30,
   "metadata": {
    "collapsed": true
   },
   "outputs": [],
   "source": [
    "tbar_arr = np.linspace(0, 500, 500)"
   ]
  },
  {
   "cell_type": "code",
   "execution_count": 31,
   "metadata": {
    "collapsed": false
   },
   "outputs": [],
   "source": [
    "turnoff = 'ampere'\n",
    "phi_bpar_arr = np.array([ts_constructor(ti_te, mi_me, bi, kperp_rhoi, \n",
    "                                        wbar_0, wbar_arr, tbar_arr, turnoff=turnoff) \n",
    "                         for wbar_0 in wbar0_arr])"
   ]
  },
  {
   "cell_type": "code",
   "execution_count": 32,
   "metadata": {
    "collapsed": false
   },
   "outputs": [
    {
     "data": {
      "text/plain": [
       "(3, 500, 2)"
      ]
     },
     "execution_count": 32,
     "metadata": {},
     "output_type": "execute_result"
    }
   ],
   "source": [
    "phi_bpar_arr.shape"
   ]
  },
  {
   "cell_type": "code",
   "execution_count": 33,
   "metadata": {
    "collapsed": false
   },
   "outputs": [],
   "source": [
    "phi_arr = np.abs(phi_bpar_arr[:, :, 0])\n",
    "bpar_arr = np.abs(phi_bpar_arr[:,:,1])"
   ]
  },
  {
   "cell_type": "code",
   "execution_count": 34,
   "metadata": {
    "collapsed": false
   },
   "outputs": [
    {
     "data": {
      "image/png": "[encoded data removed]",
      "text/plain": [
       "<matplotlib.figure.Figure at 0x112b95898>"
      ]
     },
     "metadata": {},
     "output_type": "display_data"
    }
   ],
   "source": [
    "fig_phi_w0 = plt.figure(figsize=[6, 6*0.618])\n",
    "for i in range(len(wbar0_arr)):\n",
    "    plt.plot(tbar_arr * np.sqrt(bi), phi_arr[i, :] * bpar0, \n",
    "             label = '{0}={1}'.format(r'$\\overline{\\omega}_0$', wbar0_arr[i]))\n",
    "# plt.ylim([0, 50])   \n",
    "plt.legend(loc='best')\n",
    "plt.xlabel('$tk_\\parallel v_{ti}$')\n",
    "plt.ylabel('$|\\phi_{\\mathbf{k}}|$')\n",
    "ax = plt.gca()\n",
    "plt.text(0.5, 0.1, texts, transform=ax.transAxes)\n",
    "plt.show()"
   ]
  },
  {
   "cell_type": "code",
   "execution_count": 35,
   "metadata": {
    "collapsed": false
   },
   "outputs": [
    {
     "data": {
      "text/plain": [
       "<matplotlib.text.Text at 0x112b6eeb8>"
      ]
     },
     "execution_count": 35,
     "metadata": {},
     "output_type": "execute_result"
    },
    {
     "data": {
      "image/png": "[encoded data removed]",
      "text/plain": [
       "<matplotlib.figure.Figure at 0x10f64d828>"
      ]
     },
     "metadata": {},
     "output_type": "display_data"
    }
   ],
   "source": [
    "fig_bpar_w0 = plt.figure(figsize=[6, 6*0.618])\n",
    "for i in range(len(wbar0_arr)):\n",
    "    plt.plot(tbar_arr * np.sqrt(bi), bpar_arr[i, :] * bpar0, \n",
    "             label = '{0}={1}'.format(r'$\\overline{\\omega}_0$', wbar0_arr[i]))\n",
    "plt.legend(loc='best')\n",
    "plt.xlabel('$tk_\\parallel v_{ti}$')\n",
    "plt.ylabel('$\\delta B_{\\mathbf{k}\\parallel}$')\n",
    "ax = plt.gca()\n",
    "plt.text(0.5, 0.1, texts, transform=ax.transAxes)"
   ]
  },
  {
   "cell_type": "code",
   "execution_count": 15,
   "metadata": {
    "collapsed": true
   },
   "outputs": [],
   "source": [
    "# fig_phi_w0.savefig('fig_phi_w0_2.eps')\n",
    "# fig_bpar_w0.savefig('fig_bpar_w0_2.eps')"
   ]
  },
  {
   "cell_type": "markdown",
   "metadata": {},
   "source": [
    "## compare with AstroGK simulation"
   ]
  },
  {
   "cell_type": "code",
   "execution_count": 16,
   "metadata": {
    "collapsed": false
   },
   "outputs": [],
   "source": [
    "data_dir = '/Volumes/yuguang_sd/data/agk/lin_response/lin_slow_1'\n",
    "i = 4\n",
    "filename_bpar = data_dir + '/lin_slow_{0:s}.bpar'.format(str(i))\n",
    "filename_phi = data_dir + '/lin_slow_{0:s}.phi'.format(str(i))"
   ]
  },
  {
   "cell_type": "code",
   "execution_count": 17,
   "metadata": {
    "collapsed": false
   },
   "outputs": [],
   "source": [
    "dtype_bpar = {'names': ('f1', 't', 'f2', 'bpar2', 'f3', 'f4', 'h1', 'h2'),\n",
    "              'formats': ('S2', 'f4', 'S10', 'f4', 'S10', 'S10', 'f4', 'f4')}\n",
    "dtype_phi = {'names': ('f1', 't', 'f2', 'phi2', 'f3', 'f4', 'h1', 'h2'),\n",
    "              'formats': ('S2', 'f4', 'S10', 'f4', 'S10', 'S10', 'f4', 'f4')}\n",
    "data_bpar = np.loadtxt(filename_bpar, dtype = dtype_bpar)\n",
    "data_phi = np.loadtxt(filename_phi, dtype = dtype_bpar)"
   ]
  },
  {
   "cell_type": "code",
   "execution_count": 18,
   "metadata": {
    "collapsed": true
   },
   "outputs": [],
   "source": [
    "def readColumn(data, column):\n",
    "    return np.array([elem[column] for elem in data])"
   ]
  },
  {
   "cell_type": "code",
   "execution_count": 19,
   "metadata": {
    "collapsed": false
   },
   "outputs": [],
   "source": [
    "bpar = np.sqrt(readColumn(data_bpar, 3))\n",
    "t_bpar = readColumn(data_bpar, 1)\n",
    "phi = np.sqrt(readColumn(data_phi, 3))\n",
    "t_phi = readColumn(data_phi, 1)"
   ]
  },
  {
   "cell_type": "code",
   "execution_count": 20,
   "metadata": {
    "collapsed": true
   },
   "outputs": [],
   "source": [
    "dt_label='0.01'\n",
    "texts = \"{0}{1}\\n\".format(r'$\\beta_i=$',bi) + \\\n",
    "    \"{0}{1}\\n\".format(r'$T_i/T_e=$',ti_te) + \\\n",
    "    \"{0}{1:.1f}\\n\".format(r'$k_\\perp \\rho_i=$',kperp_rhoi) + \\\n",
    "    \"{0}{1:.1f}\\n\".format(r'$\\delta B_{\\mathbf{k}\\parallel 0}=$', bpar0) +\\\n",
    "    \"{0}{1:.1f}\\n\".format(r'$\\overline{\\omega}_0=$',wbar_0)"
   ]
  },
  {
   "cell_type": "code",
   "execution_count": 21,
   "metadata": {
    "collapsed": false
   },
   "outputs": [
    {
     "data": {
      "text/plain": [
       "<matplotlib.text.Text at 0x112b33780>"
      ]
     },
     "execution_count": 21,
     "metadata": {},
     "output_type": "execute_result"
    },
    {
     "data": {
      "image/png": "[encoded data removed]",
      "text/plain": [
       "<matplotlib.figure.Figure at 0x112b958d0>"
      ]
     },
     "metadata": {},
     "output_type": "display_data"
    }
   ],
   "source": [
    "fig_bpar = plt.figure(figsize=[6, 6*0.618])\n",
    "plt.plot(t_bpar, bpar * np.sqrt(8) * 10, label = '$\\delta t k_\\parallel v_{ti}=$' + dt_label)\n",
    "plt.xlabel('$tk_\\parallel v_{ti}$')\n",
    "plt.ylabel('$|\\delta B_{\\mathbf{k}\\parallel}|$')\n",
    "plt.legend(loc='lower right')\n",
    "ax = plt.gca()\n",
    "plt.text(0.2, 0.1, texts, transform=ax.transAxes)"
   ]
  },
  {
   "cell_type": "code",
   "execution_count": null,
   "metadata": {
    "collapsed": true
   },
   "outputs": [],
   "source": []
  }
 ],
 "metadata": {
  "kernelspec": {
   "display_name": "Python 3",
   "language": "python",
   "name": "python3"
  },
  "language_info": {
   "codemirror_mode": {
    "name": "ipython",
    "version": 3
   },
   "file_extension": ".py",
   "mimetype": "text/x-python",
   "name": "python",
   "nbconvert_exporter": "python",
   "pygments_lexer": "ipython3",
   "version": "3.5.1"
  },
  "widgets": {
   "state": {},
   "version": "1.1.2"
  }
 },
 "nbformat": 4,
 "nbformat_minor": 0
}
