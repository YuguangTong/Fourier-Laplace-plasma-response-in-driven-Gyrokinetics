{
 "cells": [
  {
   "cell_type": "markdown",
   "metadata": {},
   "source": [
    "Numerically calculate the Fourier solution of GK system "
   ]
  },
  {
   "cell_type": "code",
   "execution_count": 28,
   "metadata": {
    "collapsed": true
   },
   "outputs": [],
   "source": [
    "import numpy as np\n",
    "import scipy.optimize\n",
    "import matplotlib.pyplot as plt\n",
    "from gk_solver.gk_apar0 import (dispersion, A, B, \n",
    "                                C, D, L, M,det_deriv)\n",
    "from gk_solver.util import real_imag, list2complex\n",
    "import seaborn as sns\n",
    "%matplotlib inline"
   ]
  },
  {
   "cell_type": "markdown",
   "metadata": {},
   "source": [
    "Residues\n",
    "- Residues for slow and entropy mode \n",
    "$$\\mathrm{Res}(p_i)\\left[\\frac{T_i}{q_i}\\frac{u_{\\mathbf{k}0}}{k_\\parallel v_{ti}}\\right]^{-1}$$\n",
    "- for driving frequency $p_0$ or $\\overline{\\omega}_0$"
   ]
  },
  {
   "cell_type": "code",
   "execution_count": 149,
   "metadata": {
    "collapsed": true
   },
   "outputs": [],
   "source": [
    "def res_i(ti_te, mi_me, bi, kperp_rhoi, \n",
    "          wbar_0, wbar_i, tbar, turnoff=None):\n",
    "    \"\"\"\n",
    "    Calculate Residue(p_i) or Residue(\\overline{\\omega}_i)\n",
    "    \"\"\"\n",
    "    a = A(ti_te, mi_me, bi, kperp_rhoi, wbar_i)\n",
    "    c = C(ti_te, mi_me, bi, kperp_rhoi, wbar_i)\n",
    "    d = D(ti_te, mi_me, bi, kperp_rhoi, wbar_i)\n",
    "    l = L(ti_te, mi_me, bi, wbar_i)\n",
    "    m = M(ti_te, mi_me, bi, wbar_i)\n",
    "    dmdw = det_deriv(ti_te, mi_me, bi, kperp_rhoi, wbar_i)\n",
    "    \n",
    "    numer = np.array([(d - 2/bi)*l - c*m,\\\n",
    "                      -c*l + a*m])\n",
    "    denom = dmdw * (wbar_i - wbar_0)\n",
    "    return numer / denom * np.exp(-1j * wbar_i * tbar)"
   ]
  },
  {
   "cell_type": "code",
   "execution_count": 150,
   "metadata": {
    "collapsed": true
   },
   "outputs": [],
   "source": [
    "def res_0(ti_te, mi_me, bi, kperp_rhoi, \n",
    "          wbar_0, tbar, turnoff=None):\n",
    "    \"\"\"\n",
    "    Calculate Residue(p_0) or Residue(\\overline{\\omega}_0)\n",
    "    \"\"\"\n",
    "    a = A(ti_te, mi_me, bi, kperp_rhoi, wbar_0)\n",
    "    c = C(ti_te, mi_me, bi, kperp_rhoi, wbar_0)\n",
    "    d = D(ti_te, mi_me, bi, kperp_rhoi, wbar_0)\n",
    "    l = L(ti_te, mi_me, bi, wbar_0)\n",
    "    m = M(ti_te, mi_me, bi, wbar_0)\n",
    "    detm = dispersion(ti_te, mi_me, bi, kperp_rhoi, wbar_0)\n",
    "    \n",
    "    numer = np.array([(d - 2/bi)*l - c*m,\\\n",
    "                      -c*l + a*m])\n",
    "    return numer / detm * np.exp(-1j * wbar_0 * tbar)"
   ]
  },
  {
   "cell_type": "markdown",
   "metadata": {},
   "source": [
    "Helper function to find eigenmode frequencies"
   ]
  },
  {
   "cell_type": "code",
   "execution_count": 151,
   "metadata": {
    "collapsed": true
   },
   "outputs": [],
   "source": [
    "def eigenmode_finder(ti_te, mi_me, bi, kperp_rhoi):\n",
    "    \"\"\"\n",
    "    find the eigenmodes of the gk system.\n",
    "    currently hard coded the initial values for beta_i << 1, Ti = Te.\n",
    "    \"\"\"\n",
    "    # slow mode\n",
    "    guess_sm_1 = np.sqrt(bi) * 1.4 * (1-0.5j)\n",
    "    guess_sm_2 = np.sqrt(bi) * 1.4 * (-1-0.5j)\n",
    "    # entropy mode\n",
    "    guess_sm_3 = (-0.2 * np.log10(bi) -0.58) * 1j\n",
    "\n",
    "    f = lambda w_bar: real_imag(dispersion(ti_te, mi_me, bi, kperp_rhoi, list2complex(w_bar)))\n",
    "    wbar_arr = []\n",
    "    for guess in [guess_sm_1, guess_sm_2, guess_sm_3]:\n",
    "        res = scipy.optimize.fsolve(f, real_imag(guess))\n",
    "        wbar = list2complex(res)\n",
    "        if np.abs(wbar.real) < 1.e-10:\n",
    "            wbar = 1j * wbar.imag\n",
    "        wbar_arr += [wbar]\n",
    "    return wbar_arr"
   ]
  },
  {
   "cell_type": "markdown",
   "metadata": {},
   "source": [
    "Helper function to construct time series"
   ]
  },
  {
   "cell_type": "code",
   "execution_count": 152,
   "metadata": {
    "collapsed": true
   },
   "outputs": [],
   "source": [
    "def ts_constructor(ti_te, mi_me, bi, kperp_rhoi, \n",
    "                   wbar_0, wbar_arr, tbar_arr, turnoff=None):\n",
    "    \"\"\"\n",
    "    return time series for B_parallel and phi\n",
    "    \"\"\"\n",
    "    \n",
    "    def phi_b(tbar):\n",
    "        \"\"\"\n",
    "            vector(\\phi(t), B(t))\n",
    "    \"\"\"\n",
    "        res = res_0(ti_te, mi_me, bi, kperp_rhoi, wbar_0, tbar, turnoff=turnoff)\n",
    "        for wbar_i in wbar_arr:\n",
    "            res += res_i(ti_te, mi_me, bi, kperp_rhoi, wbar_0, wbar_i, tbar, turnoff=turnoff)\n",
    "        return res\n",
    "    \n",
    "    phi_b_arr = np.array([phi_b(tbar) for tbar in tbar_arr])\n",
    "    return phi_b_arr"
   ]
  },
  {
   "cell_type": "markdown",
   "metadata": {},
   "source": [
    "Parameter"
   ]
  },
  {
   "cell_type": "code",
   "execution_count": 153,
   "metadata": {
    "collapsed": false
   },
   "outputs": [],
   "source": [
    "ti_te = 1.\n",
    "kperp_rhoi = 0.2\n",
    "wbar_0 = 0.12\n",
    "bi = 0.01\n",
    "upar0 = 10\n",
    "mi_me = 1836\n",
    "\n",
    "texts = \"{0}{1}\\n\".format(r'$\\beta_i$=',bi) + \\\n",
    "    \"{0}{1}\\n\".format(r'$T_i/T_e=$',ti_te) + \\\n",
    "    \"{0}{1}\\n\".format(r'$k_\\perp \\rho_i=$',kperp_rhoi) + \\\n",
    "    \"{0}{1}\\n\".format(r'$\\overline{u}_0=$', upar0) +\\\n",
    "    \"{0}{1:.2f}\\n\".format(r'$\\overline{\\omega}_0=$', wbar_0)"
   ]
  },
  {
   "cell_type": "markdown",
   "metadata": {},
   "source": [
    "Eigenmodes / simple poles"
   ]
  },
  {
   "cell_type": "code",
   "execution_count": 154,
   "metadata": {
    "collapsed": false
   },
   "outputs": [
    {
     "name": "stdout",
     "output_type": "stream",
     "text": [
      "[(0.14394216347628239-0.064380505675528929j), (-0.14394216347628239-0.064380505675528943j), (-0-0.1851836105088204j)]\n",
      "[(0.14394216347628239-0.064380505675528929j), (-0.14394216347628239-0.064380505675528943j)]\n"
     ]
    }
   ],
   "source": [
    "wbar_arr = eigenmode_finder(ti_te, mi_me, bi, kperp_rhoi)\n",
    "print(wbar_arr)\n",
    "wbar_arr=wbar_arr[:2]\n",
    "print(wbar_arr)"
   ]
  },
  {
   "cell_type": "code",
   "execution_count": 155,
   "metadata": {
    "collapsed": false
   },
   "outputs": [],
   "source": [
    "tbar_arr = np.linspace(0, 200, 1000)\n",
    "phi_bpar_arr = ts_constructor(ti_te, mi_me, bi, kperp_rhoi, \n",
    "                              wbar_0, wbar_arr, tbar_arr)\n",
    "phi_arr = np.abs(phi_bpar_arr[:, 0])\n",
    "bpar_arr = np.abs(phi_bpar_arr[:,1])"
   ]
  },
  {
   "cell_type": "code",
   "execution_count": 156,
   "metadata": {
    "collapsed": false
   },
   "outputs": [
    {
     "data": {
      "image/png": "[encoded data removed]",
      "text/plain": [
       "<matplotlib.figure.Figure at 0x10d0da4a8>"
      ]
     },
     "metadata": {},
     "output_type": "display_data"
    }
   ],
   "source": [
    "fig_bpar_temp = plt.figure(figsize=[6, 6*0.618])\n",
    "plt.plot(tbar_arr * np.sqrt(bi), bpar_arr * upar0, \n",
    "             label = 'analytic')\n",
    "plt.legend(loc='center right')\n",
    "plt.xlabel('$tk_\\parallel v_{ti}$')\n",
    "plt.ylabel('$|\\delta B_{\\mathbf{k}\\parallel}|$')\n",
    "ax = plt.gca()\n",
    "plt.text(0.2, 0.1, texts, transform=ax.transAxes,)\n",
    "plt.show()"
   ]
  },
  {
   "cell_type": "code",
   "execution_count": 157,
   "metadata": {
    "collapsed": false
   },
   "outputs": [
    {
     "data": {
      "image/png": "[encoded data removed]",
      "text/plain": [
       "<matplotlib.figure.Figure at 0x10dc37b70>"
      ]
     },
     "metadata": {},
     "output_type": "display_data"
    }
   ],
   "source": [
    "fig_phi_temp = plt.figure(figsize=[6, 6*0.618])\n",
    "plt.plot(tbar_arr * np.sqrt(bi), phi_arr * upar0, label = 'analytic')\n",
    "plt.legend(loc='center right')\n",
    "plt.xlabel('$tk_\\parallel v_{ti}$')\n",
    "plt.ylabel('$|\\phi_{\\mathbf{k}}|$')\n",
    "ax = plt.gca()\n",
    "plt.text(0.2, 0.1, texts, transform=ax.transAxes,)\n",
    "plt.show()"
   ]
  },
  {
   "cell_type": "code",
   "execution_count": null,
   "metadata": {
    "collapsed": true
   },
   "outputs": [],
   "source": []
  },
  {
   "cell_type": "markdown",
   "metadata": {},
   "source": [
    "# AstroGK simulation"
   ]
  },
  {
   "cell_type": "code",
   "execution_count": 116,
   "metadata": {
    "collapsed": false
   },
   "outputs": [],
   "source": [
    "from gk_solver.util import dtype_bpar, dtype_phi\n",
    "import numpy as np\n",
    "import matplotlib.pyplot as plt\n",
    "%matplotlib inline"
   ]
  },
  {
   "cell_type": "code",
   "execution_count": 117,
   "metadata": {
    "collapsed": true
   },
   "outputs": [],
   "source": [
    "data_dir = '/Volumes/yuguang_sd/data/agk/lin_response/upar_160929'\n",
    "i = 1\n",
    "filename_bpar = data_dir + '/lin_upar_{0:s}.bpar'.format(str(i))\n",
    "filename_phi = data_dir + '/lin_upar_{0:s}.phi'.format(str(i))\n",
    "data_bpar = np.loadtxt(filename_bpar, dtype = dtype_bpar)\n",
    "data_phi = np.loadtxt(filename_phi, dtype = dtype_bpar)"
   ]
  },
  {
   "cell_type": "code",
   "execution_count": 118,
   "metadata": {
    "collapsed": true
   },
   "outputs": [],
   "source": [
    "def readColumn(data, column):\n",
    "    return np.array([elem[column] for elem in data])"
   ]
  },
  {
   "cell_type": "code",
   "execution_count": 119,
   "metadata": {
    "collapsed": false
   },
   "outputs": [],
   "source": [
    "bpar = np.sqrt(readColumn(data_bpar, 3))\n",
    "t_bpar = readColumn(data_bpar, 1)\n",
    "phi = np.sqrt(readColumn(data_phi, 3))\n",
    "t_phi = readColumn(data_phi, 1)"
   ]
  },
  {
   "cell_type": "code",
   "execution_count": 120,
   "metadata": {
    "collapsed": true
   },
   "outputs": [],
   "source": [
    "ti_te = 1.\n",
    "kperp_rhoi = 0.2\n",
    "wbar_0 = 0.14\n",
    "bi = 0.01\n",
    "upar0 = 10\n",
    "mi_me = 1836\n",
    "\n",
    "texts = \"{0}{1}\\n\".format(r'$\\beta_i$=',bi) + \\\n",
    "    \"{0}{1}\\n\".format(r'$T_i/T_e=$',ti_te) + \\\n",
    "    \"{0}{1}\\n\".format(r'$k_\\perp \\rho_i=$',kperp_rhoi) + \\\n",
    "    \"{0}{1}\\n\".format(r'$\\overline{u}_0=$', upar0) +\\\n",
    "    \"{0}{1:.2f}\\n\".format(r'$\\overline{\\omega}_0=$', wbar_0)"
   ]
  },
  {
   "cell_type": "code",
   "execution_count": 121,
   "metadata": {
    "collapsed": false
   },
   "outputs": [
    {
     "data": {
      "text/plain": [
       "<matplotlib.text.Text at 0x10db53c18>"
      ]
     },
     "execution_count": 121,
     "metadata": {},
     "output_type": "execute_result"
    },
    {
     "data": {
      "image/png": "[encoded data removed]",
      "text/plain": [
       "<matplotlib.figure.Figure at 0x10c824780>"
      ]
     },
     "metadata": {},
     "output_type": "display_data"
    }
   ],
   "source": [
    "fig_bpar = plt.figure(figsize=[6, 6*0.618])\n",
    "plt.plot(t_bpar, bpar * np.sqrt(8) * 10, label = 'simulation')\n",
    "plt.plot(tbar_arr * np.sqrt(bi), \n",
    "         bpar_arr * upar0 * np.sqrt(8) * 10, \n",
    "         label = 'analytic' + r'$\\times10\\sqrt{8}$')\n",
    "plt.xlabel('$tk_\\parallel v_{ti}$')\n",
    "plt.ylabel('$|\\delta B_{\\mathbf{k}\\parallel}|$')\n",
    "plt.legend(loc='lower right')\n",
    "ax = plt.gca()\n",
    "plt.text(0.1, 0., texts, transform=ax.transAxes)"
   ]
  },
  {
   "cell_type": "code",
   "execution_count": 122,
   "metadata": {
    "collapsed": false
   },
   "outputs": [
    {
     "data": {
      "text/plain": [
       "<matplotlib.text.Text at 0x10d0d1710>"
      ]
     },
     "execution_count": 122,
     "metadata": {},
     "output_type": "execute_result"
    },
    {
     "data": {
      "image/png": "[encoded data removed]",
      "text/plain": [
       "<matplotlib.figure.Figure at 0x10cdbb748>"
      ]
     },
     "metadata": {},
     "output_type": "display_data"
    }
   ],
   "source": [
    "fig_phi = plt.figure(figsize=[6, 6*0.618])\n",
    "plt.plot(t_phi, phi, label = 'simulation')\n",
    "plt.plot(tbar_arr * np.sqrt(bi), phi_arr*upar0, label = 'analytic')\n",
    "plt.xlabel('$tk_\\parallel v_{ti}$')\n",
    "plt.ylabel('$|\\phi_{\\mathbf{k}}|$')\n",
    "plt.legend(loc='lower right')\n",
    "ax = plt.gca()\n",
    "plt.text(0.1, 0, texts, transform=ax.transAxes)"
   ]
  },
  {
   "cell_type": "code",
   "execution_count": null,
   "metadata": {
    "collapsed": true
   },
   "outputs": [],
   "source": []
  },
  {
   "cell_type": "code",
   "execution_count": null,
   "metadata": {
    "collapsed": true
   },
   "outputs": [],
   "source": []
  }
 ],
 "metadata": {
  "kernelspec": {
   "display_name": "Python 3",
   "language": "python",
   "name": "python3"
  },
  "language_info": {
   "codemirror_mode": {
    "name": "ipython",
    "version": 3
   },
   "file_extension": ".py",
   "mimetype": "text/x-python",
   "name": "python",
   "nbconvert_exporter": "python",
   "pygments_lexer": "ipython3",
   "version": "3.5.1"
  },
  "widgets": {
   "state": {},
   "version": "1.1.2"
  }
 },
 "nbformat": 4,
 "nbformat_minor": 0
}
