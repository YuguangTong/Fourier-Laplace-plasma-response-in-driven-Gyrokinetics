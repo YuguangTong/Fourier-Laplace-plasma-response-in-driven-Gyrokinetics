{
 "cells": [
  {
   "cell_type": "markdown",
   "metadata": {},
   "source": [
    "# plot density and fields versus parallel coordinate z\n",
    "\n",
    "- Antenna driving by $\\delta B_\\parallel$.\n",
    "- $A_\\parallel=0$"
   ]
  },
  {
   "cell_type": "code",
   "execution_count": 50,
   "metadata": {
    "collapsed": true
   },
   "outputs": [],
   "source": [
    "import numpy as np\n",
    "from netCDF4 import Dataset\n",
    "import matplotlib.pyplot as plt\n",
    "%matplotlib inline"
   ]
  },
  {
   "cell_type": "markdown",
   "metadata": {},
   "source": [
    "## Density plots first"
   ]
  },
  {
   "cell_type": "markdown",
   "metadata": {},
   "source": [
    "Import dataset"
   ]
  },
  {
   "cell_type": "code",
   "execution_count": 88,
   "metadata": {
    "collapsed": true
   },
   "outputs": [],
   "source": [
    "data_dir = '/Volumes/yuguang_sd/data/agk/lin_response/lin_slow_1/'\n",
    "nc1_path = data_dir + 'lin_slow_1.fullmom.nc'\n",
    "\n",
    "# data_dir = '/Volumes/yuguang_sd/data/agk/lin_response/lin_alf_1/'\n",
    "# nc1_path = data_dir + 'lin_alf_1.fullmom.nc'"
   ]
  },
  {
   "cell_type": "code",
   "execution_count": 89,
   "metadata": {
    "collapsed": false
   },
   "outputs": [],
   "source": [
    "ds1 = Dataset(nc1_path)"
   ]
  },
  {
   "cell_type": "code",
   "execution_count": 90,
   "metadata": {
    "collapsed": false
   },
   "outputs": [
    {
     "data": {
      "text/plain": [
       "<class 'netCDF4._netCDF4.Variable'>\n",
       "float64 densf0(nt, nspec, nky, nkx, ntheta, ri)\n",
       "unlimited dimensions: nt\n",
       "current shape = (51, 2, 1, 1, 33, 2)\n",
       "filling off"
      ]
     },
     "execution_count": 90,
     "metadata": {},
     "output_type": "execute_result"
    }
   ],
   "source": [
    "densf0 = ds1['densf0']\n",
    "z = ds1['theta']\n",
    "densf0"
   ]
  },
  {
   "cell_type": "code",
   "execution_count": 91,
   "metadata": {
    "collapsed": false
   },
   "outputs": [],
   "source": [
    "nt = 5\n",
    "\n",
    "ni = densf0[nt, 0,0,0,:,0] + densf0[nt, 0,0,0,:,1] * 1j"
   ]
  },
  {
   "cell_type": "code",
   "execution_count": 92,
   "metadata": {
    "collapsed": true
   },
   "outputs": [],
   "source": [
    "ne = densf0[nt, 1,0,0,:,0] + densf0[nt, 1,0,0,:,1] * 1j"
   ]
  },
  {
   "cell_type": "code",
   "execution_count": 93,
   "metadata": {
    "collapsed": true
   },
   "outputs": [],
   "source": [
    "ti_te = 1\n",
    "kperp_rhoi = 0.2\n",
    "wbar_0 = .2\n",
    "bi = 0.01\n",
    "bpar0 = 10\n",
    "mi_me = 1836\n",
    "dt = 0.01\n",
    "\n",
    "texts = \"{0}{1}\\n\".format(r'$\\beta_i=$',bi) + \\\n",
    "    \"{0}{1}\\n\".format(r'$T_i/T_e=$',ti_te) + \\\n",
    "    \"{0}{1:.1f}\\n\".format(r'$k_\\perp \\rho_i=$',kperp_rhoi) + \\\n",
    "    \"{0}{1:.1f}\\n\".format(r'$\\delta B_{\\mathbf{k}\\parallel 0}=$', bpar0) +\\\n",
    "    \"{0}{1:.1f}\\n\".format(r'$\\overline{\\omega}_0=$',wbar_0) + \\\n",
    "    \"{0}{1}\\n\".format(r'$\\delta t k_\\parallel v_{ti}=$',dt)"
   ]
  },
  {
   "cell_type": "code",
   "execution_count": 110,
   "metadata": {
    "collapsed": false
   },
   "outputs": [
    {
     "data": {
      "image/png": "[encoded data removed]",
      "text/plain": [
       "<matplotlib.figure.Figure at 0x10ede6390>"
      ]
     },
     "metadata": {},
     "output_type": "display_data"
    }
   ],
   "source": [
    "fig_nz = plt.figure(figsize=[6, 6*0.618])\n",
    "plt.plot(z, np.abs(ne), label = '$|n_e|$')\n",
    "plt.plot(z, np.abs(ni), label = '$|n_i|$')\n",
    "plt.legend(loc = 'center right')\n",
    "plt.xlabel('z')\n",
    "plt.ylabel('density')\n",
    "ax = plt.gca()\n",
    "plt.text(0.2, 0.1, texts, transform=ax.transAxes,)\n",
    "plt.show()"
   ]
  },
  {
   "cell_type": "code",
   "execution_count": 95,
   "metadata": {
    "collapsed": false
   },
   "outputs": [
    {
     "data": {
      "text/plain": [
       "array([ 3.89508535,  3.89508535,  3.89508535,  3.89508535,  3.89508535,\n",
       "        3.89508535,  3.89508535,  3.89508535,  3.89508535,  3.89508535,\n",
       "        3.89508535,  3.89508535,  3.89508535,  3.89508535,  3.89508535,\n",
       "        3.89508535,  3.89508535,  3.89508535,  3.89508535,  3.89508535,\n",
       "        3.89508535,  3.89508535,  3.89508535,  3.89508535,  3.89508535,\n",
       "        3.89508535,  3.89508535,  3.89508535,  3.89508535,  3.89508535,\n",
       "        3.89508535,  3.89508535,  3.89508535])"
      ]
     },
     "execution_count": 95,
     "metadata": {},
     "output_type": "execute_result"
    }
   ],
   "source": [
    "(np.abs(ni)/np.abs(ne))"
   ]
  },
  {
   "cell_type": "markdown",
   "metadata": {},
   "source": [
    "## then plot fields"
   ]
  },
  {
   "cell_type": "code",
   "execution_count": 97,
   "metadata": {
    "collapsed": true
   },
   "outputs": [],
   "source": [
    "data_dir = '/Volumes/yuguang_sd/data/agk/lin_response/lin_slow_1/'\n",
    "field1_path = data_dir + 'lin_slow_1.fields'"
   ]
  },
  {
   "cell_type": "code",
   "execution_count": 99,
   "metadata": {
    "collapsed": false
   },
   "outputs": [],
   "source": [
    "field1 = np.loadtxt(field1_path)"
   ]
  },
  {
   "cell_type": "code",
   "execution_count": 101,
   "metadata": {
    "collapsed": false
   },
   "outputs": [],
   "source": [
    "z = field1[:, 0]\n",
    "phi = np.abs(field1[:, 3] + 1j * field1[:, 4])\n",
    "bpar = np.abs(field1[:, 7] + 1j * field1[:, 8])"
   ]
  },
  {
   "cell_type": "code",
   "execution_count": 106,
   "metadata": {
    "collapsed": false
   },
   "outputs": [
    {
     "data": {
      "image/png": "[encoded data removed]",
      "text/plain": [
       "<matplotlib.figure.Figure at 0x10e933978>"
      ]
     },
     "metadata": {},
     "output_type": "display_data"
    }
   ],
   "source": [
    "fig_phiz = plt.figure(figsize=[6, 6*0.618])\n",
    "plt.plot(z, phi)\n",
    "plt.xlabel('x')\n",
    "plt.ylabel('$|\\phi|$')\n",
    "plt.show()"
   ]
  },
  {
   "cell_type": "code",
   "execution_count": 107,
   "metadata": {
    "collapsed": false
   },
   "outputs": [
    {
     "data": {
      "image/png": "[encoded data removed]",
      "text/plain": [
       "<matplotlib.figure.Figure at 0x10eccbf98>"
      ]
     },
     "metadata": {},
     "output_type": "display_data"
    }
   ],
   "source": [
    "fig_bparz = plt.figure(figsize=[6, 6*0.618])\n",
    "plt.plot(z, bpar)\n",
    "plt.xlabel('z')\n",
    "plt.ylabel('$|B_\\parallel|$')\n",
    "plt.show()"
   ]
  },
  {
   "cell_type": "code",
   "execution_count": 111,
   "metadata": {
    "collapsed": true
   },
   "outputs": [],
   "source": [
    "/"
   ]
  },
  {
   "cell_type": "code",
   "execution_count": null,
   "metadata": {
    "collapsed": true
   },
   "outputs": [],
   "source": []
  },
  {
   "cell_type": "code",
   "execution_count": null,
   "metadata": {
    "collapsed": true
   },
   "outputs": [],
   "source": []
  }
 ],
 "metadata": {
  "kernelspec": {
   "display_name": "Python 3",
   "language": "python",
   "name": "python3"
  },
  "language_info": {
   "codemirror_mode": {
    "name": "ipython",
    "version": 3
   },
   "file_extension": ".py",
   "mimetype": "text/x-python",
   "name": "python",
   "nbconvert_exporter": "python",
   "pygments_lexer": "ipython3",
   "version": "3.5.1"
  }
 },
 "nbformat": 4,
 "nbformat_minor": 0
}
