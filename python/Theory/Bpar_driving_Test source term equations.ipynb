{
 "cells": [
  {
   "cell_type": "markdown",
   "metadata": {},
   "source": [
    "# Test the difference resulting from putting source terms at different places\n",
    "1, Poisson only \n",
    "\n",
    "2, Perpendicular Ampere's law only\n",
    "\n",
    "3, Both"
   ]
  },
  {
   "cell_type": "code",
   "execution_count": 1,
   "metadata": {
    "collapsed": true
   },
   "outputs": [],
   "source": [
    "import numpy as np\n",
    "import scipy.optimize\n",
    "import matplotlib.pyplot as plt\n",
    "from gk_solver.gk_apar0 import dispersion, res_0, res_i\n",
    "from gk_solver.util import real_imag, list2complex\n",
    "%matplotlib inline"
   ]
  },
  {
   "cell_type": "markdown",
   "metadata": {},
   "source": [
    "### Functions to construct time series easily"
   ]
  },
  {
   "cell_type": "code",
   "execution_count": 2,
   "metadata": {
    "collapsed": true
   },
   "outputs": [],
   "source": [
    "def ts_constructor(ti_te, mi_me, bi, kperp_rhoi, \n",
    "                   wbar_0, wbar_arr, tbar_arr, turnoff=None):\n",
    "    \"\"\"\n",
    "    return time series for B_parallel and phi\n",
    "    \"\"\"\n",
    "    \n",
    "    def phi_b(tbar):\n",
    "        \"\"\"\n",
    "            vector(\\phi(t), B(t))\n",
    "    \"\"\"\n",
    "        res = res_0(ti_te, mi_me, bi, kperp_rhoi, wbar_0, tbar, turnoff=turnoff)\n",
    "        for wbar_i in wbar_arr:\n",
    "            res += res_i(ti_te, mi_me, bi, kperp_rhoi, wbar_0, wbar_i, tbar, turnoff=turnoff)\n",
    "        return res\n",
    "    \n",
    "    phi_b_arr = np.array([phi_b(tbar) for tbar in tbar_arr])\n",
    "    return phi_b_arr"
   ]
  },
  {
   "cell_type": "code",
   "execution_count": 3,
   "metadata": {
    "collapsed": true
   },
   "outputs": [],
   "source": [
    "def eigenmode_finder(ti_te, mi_me, bi, kperp_rhoi):\n",
    "    \"\"\"\n",
    "    find the eigenmodes of the gk system.\n",
    "    currently hard coded the initial values for beta_i << 1, Ti = Te.\n",
    "    \"\"\"\n",
    "    # slow mode\n",
    "    guess_sm_1 = np.sqrt(bi) * 1.4 * (1-0.5j)\n",
    "    guess_sm_2 = np.sqrt(bi) * 1.4 * (-1-0.5j)\n",
    "    # entropy mode\n",
    "    guess_sm_3 = (-0.2 * np.log10(bi) -0.58) * 1j\n",
    "\n",
    "    f = lambda w_bar: real_imag(dispersion(ti_te, mi_me, bi, kperp_rhoi, list2complex(w_bar)))\n",
    "    wbar_arr = []\n",
    "    for guess in [guess_sm_1, guess_sm_2, guess_sm_3]:\n",
    "        res = scipy.optimize.fsolve(f, real_imag(guess))\n",
    "        wbar = list2complex(res)\n",
    "        if np.abs(wbar.real) < 1.e-10:\n",
    "            wbar = 1j * wbar.imag\n",
    "        wbar_arr += [wbar]\n",
    "    return wbar_arr"
   ]
  },
  {
   "cell_type": "markdown",
   "metadata": {},
   "source": [
    "Parameters setup"
   ]
  },
  {
   "cell_type": "code",
   "execution_count": 10,
   "metadata": {
    "collapsed": true
   },
   "outputs": [],
   "source": [
    "ti_te = 0.01\n",
    "kperp_rhoi = 0.2\n",
    "wbar_0 = 0.5\n",
    "tf_arr = [None, 'poisson', 'ampere']\n",
    "bi = 0.01\n",
    "bpar0 = 10\n",
    "mi_me = 1836\n",
    "\n",
    "texts = \"{0}{1}\\n\".format(r'$\\beta_i$=',bi) + \\\n",
    "    \"{0}{1}\\n\".format(r'$T_i/T_e=$',ti_te) + \\\n",
    "    \"{0}{1}\\n\".format(r'$k_\\perp \\rho_i=$',kperp_rhoi) + \\\n",
    "    \"{0}{1}\\n\".format(r'$\\delta B_{\\mathbf{k}\\parallel 0}=$', bpar0) +\\\n",
    "    \"{0}{1}\\n\".format(r'$\\overline{\\omega}_0=$', wbar_0)\n"
   ]
  },
  {
   "cell_type": "markdown",
   "metadata": {},
   "source": [
    "Eigenmodes / simple poles"
   ]
  },
  {
   "cell_type": "code",
   "execution_count": 11,
   "metadata": {
    "collapsed": false
   },
   "outputs": [
    {
     "name": "stdout",
     "output_type": "stream",
     "text": [
      "[(0.39692062237700992-0.0020940512930690473j), (-0.39692062237702253-0.0020940512930693422j), (-0-0.1851598067603516j)]\n"
     ]
    }
   ],
   "source": [
    "wbar_arr = eigenmode_finder(ti_te, mi_me, bi, kperp_rhoi)\n",
    "print(wbar_arr)"
   ]
  },
  {
   "cell_type": "code",
   "execution_count": 12,
   "metadata": {
    "collapsed": true
   },
   "outputs": [],
   "source": [
    "tbar_arr = np.linspace(0, 100, 500)"
   ]
  },
  {
   "cell_type": "code",
   "execution_count": 13,
   "metadata": {
    "collapsed": false
   },
   "outputs": [],
   "source": [
    "phi_bpar_arr = np.array([ts_constructor(ti_te, mi_me, bi, kperp_rhoi, \n",
    "                                        wbar_0, wbar_arr, tbar_arr, turnoff=tf) \n",
    " for tf in tf_arr])"
   ]
  },
  {
   "cell_type": "code",
   "execution_count": 14,
   "metadata": {
    "collapsed": false
   },
   "outputs": [],
   "source": [
    "phi_arr = np.abs(phi_bpar_arr[:, :, 0])\n",
    "bpar_arr = np.abs(phi_bpar_arr[:,:,1])"
   ]
  },
  {
   "cell_type": "markdown",
   "metadata": {},
   "source": [
    "Make $\\phi(t)$ plot"
   ]
  },
  {
   "cell_type": "code",
   "execution_count": 15,
   "metadata": {
    "collapsed": false
   },
   "outputs": [
    {
     "data": {
      "image/png": "[encoded data removed]",
      "text/plain": [
       "<matplotlib.figure.Figure at 0x1145404a8>"
      ]
     },
     "metadata": {},
     "output_type": "display_data"
    }
   ],
   "source": [
    "fig_phi_tf = plt.figure(figsize=[6, 6*0.618])\n",
    "for i in range(len(tf_arr)):\n",
    "    plt.plot(tbar_arr * np.sqrt(bi), phi_arr[i, :]*bpar0, \n",
    "             label = '{0}{1}'.format('drop ant term:', str(tf_arr[i])))\n",
    "plt.legend(loc='center right')\n",
    "plt.xlabel('$tk_\\parallel v_{ti}$')\n",
    "plt.ylabel('$|\\phi_{\\mathbf{k}}|$')\n",
    "ax = plt.gca()\n",
    "plt.text(0.2, 0.1, texts, transform=ax.transAxes,)\n",
    "plt.show()"
   ]
  },
  {
   "cell_type": "markdown",
   "metadata": {},
   "source": [
    "make $B_\\parallel$ plot"
   ]
  },
  {
   "cell_type": "code",
   "execution_count": 18,
   "metadata": {
    "collapsed": false
   },
   "outputs": [
    {
     "data": {
      "image/png": "[encoded data removed]",
      "text/plain": [
       "<matplotlib.figure.Figure at 0x1133a0c88>"
      ]
     },
     "metadata": {},
     "output_type": "display_data"
    }
   ],
   "source": [
    "fig_bpar_tf = plt.figure(figsize=[6, 6*0.618])\n",
    "for i in range(len(tf_arr)):\n",
    "    plt.plot(tbar_arr * np.sqrt(bi), bpar_arr[i, :]*bpar0, \n",
    "             label = '{0}{1}'.format('drop ant term:', str(tf_arr[i])))\n",
    "plt.ylim([-1, 11])    \n",
    "plt.legend(loc='center right')\n",
    "plt.xlabel('$tk_\\parallel v_{ti}$')\n",
    "plt.ylabel('$|\\delta B_{\\mathbf{k}\\parallel}|$')\n",
    "ax = plt.gca()\n",
    "plt.text(0.2, 0.1, texts, transform=ax.transAxes,)\n",
    "plt.show()"
   ]
  },
  {
   "cell_type": "code",
   "execution_count": 11,
   "metadata": {
    "collapsed": true
   },
   "outputs": [],
   "source": [
    "# fig_phi_tf.savefig('fig_phi_tf.eps')\n",
    "# fig_bpar_tf.savefig('fig_bpar_tf.eps')"
   ]
  },
  {
   "cell_type": "code",
   "execution_count": null,
   "metadata": {
    "collapsed": true
   },
   "outputs": [],
   "source": []
  }
 ],
 "metadata": {
  "kernelspec": {
   "display_name": "Python 3",
   "language": "python",
   "name": "python3"
  },
  "language_info": {
   "codemirror_mode": {
    "name": "ipython",
    "version": 3
   },
   "file_extension": ".py",
   "mimetype": "text/x-python",
   "name": "python",
   "nbconvert_exporter": "python",
   "pygments_lexer": "ipython3",
   "version": "3.5.1"
  }
 },
 "nbformat": 4,
 "nbformat_minor": 0
}
