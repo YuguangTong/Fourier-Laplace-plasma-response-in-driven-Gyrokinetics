{
 "cells": [
  {
   "cell_type": "markdown",
   "metadata": {},
   "source": [
    "### Inverse Laplace transform performed in AstroGK manual by comparing with solution from Bromwich integral"
   ]
  },
  {
   "cell_type": "code",
   "execution_count": 6,
   "metadata": {
    "collapsed": false
   },
   "outputs": [],
   "source": [
    "import numpy as np\n",
    "from scipy.special import i0e, i1e\n",
    "import scipy.optimize\n",
    "from util import real_imag, list2complex, zp\n",
    "import matplotlib.pyplot as plt\n",
    "%matplotlib inline"
   ]
  },
  {
   "cell_type": "markdown",
   "metadata": {},
   "source": [
    "## Term $D$ and $G$ as defined in the companion pdf file\n",
    "\n",
    "### Eq. 16 and Eq. 24"
   ]
  },
  {
   "cell_type": "code",
   "execution_count": 44,
   "metadata": {
    "collapsed": true
   },
   "outputs": [],
   "source": [
    "def G(ti_te, mi_me, bi, kperp_rhoi, wbar, wbar_0):\n",
    "    \"\"\"\n",
    "    Calculate\n",
    "    A  = sum_s [ (Ti/Ts) (1 + Gamma_0s xi_s Z_s) ]\n",
    "    \"\"\"\n",
    "    alpha_i = kperp_rhoi**2 / 2\n",
    "    alpha_e = alpha_i / ti_te / mi_me\n",
    "    xi_i = wbar / np.sqrt(bi)\n",
    "    xi_e = wbar * np.sqrt(ti_te / mi_me / bi)\n",
    "    Z_i = zp(xi_i)\n",
    "    Z_e = zp(xi_e)\n",
    "    Gamma_1i = i0e(alpha_i) - i1e(alpha_i)\n",
    "    Gamma_1e = i0e(alpha_e) - i1e(alpha_e)\n",
    "    \n",
    "    term_i = Gamma_1i * 1/np.sqrt(bi) * ((1-2*xi_i**2) * Z_i - 2*xi_i)\n",
    "    term_e = Gamma_1e * 1/np.sqrt(bi * ti_te * mi_me) * ((1-2*xi_e**2)*Z_e - 2*xi_e)\n",
    "    return (term_i + term_e) * (wbar - wbar_0)"
   ]
  },
  {
   "cell_type": "code",
   "execution_count": 45,
   "metadata": {
    "collapsed": true
   },
   "outputs": [],
   "source": [
    "def dispersion(ti_te, mi_me, bi, kperp_rhoi, w_bar):\n",
    "    \"\"\"\n",
    "    normalized dispersion relation:\n",
    "    D = -1/bi + sum_s (Ts/Ti) Gamma_1s xi_s Z_s \n",
    "\n",
    "    \"\"\"\n",
    "    alpha_i = kperp_rhoi**2 / 2\n",
    "    alpha_e = alpha_i / ti_te / mi_me\n",
    "    xi_i = w_bar / np.sqrt(bi)\n",
    "    xi_e = w_bar * np.sqrt(ti_te / mi_me / bi)\n",
    "    Z_i = zp(xi_i)\n",
    "    Z_e = zp(xi_e)\n",
    "    Gamma_1i = i0e(alpha_i) - i1e(alpha_i)\n",
    "    Gamma_1e = i0e(alpha_e) - i1e(alpha_e)\n",
    "    \n",
    "    return -1/bi + Gamma_1i * xi_i * Z_i + 1/ti_te * Gamma_1e * xi_e * Z_e"
   ]
  },
  {
   "cell_type": "markdown",
   "metadata": {},
   "source": [
    "## fix dimensionless parameters \n",
    "$T_i/T_e, k_\\perp \\rho_i, \\omega_0, \\beta_i, A_{\\parallel 0}$"
   ]
  },
  {
   "cell_type": "code",
   "execution_count": 54,
   "metadata": {
    "collapsed": true
   },
   "outputs": [],
   "source": [
    "ti_te = 1.\n",
    "kperp_rhoi = 0.1\n",
    "wbar_0 = 0.1\n",
    "bi = 0.01\n",
    "Apar0 = 10\n",
    "mi_me = 1836"
   ]
  },
  {
   "cell_type": "markdown",
   "metadata": {},
   "source": [
    "## solve for slow/entropy  mode roots $\\bar{\\omega}_1$"
   ]
  },
  {
   "cell_type": "code",
   "execution_count": 55,
   "metadata": {
    "collapsed": false
   },
   "outputs": [],
   "source": [
    "f = lambda w_bar: real_imag(dispersion(ti_te, mi_me, bi, kperp_rhoi, list2complex(w_bar)))"
   ]
  },
  {
   "cell_type": "code",
   "execution_count": 56,
   "metadata": {
    "collapsed": false
   },
   "outputs": [
    {
     "name": "stdout",
     "output_type": "stream",
     "text": [
      "(1.212206073e-18-0.168351338763j)\n"
     ]
    }
   ],
   "source": [
    "guess_1 = -0.15j\n",
    "res = scipy.optimize.fsolve(f, real_imag(guess_1))\n",
    "wbar_1 = list2complex(res)\n",
    "print(wbar_1)"
   ]
  },
  {
   "cell_type": "markdown",
   "metadata": {},
   "source": [
    "### slow/entropy mode is non-propagating in this case"
   ]
  },
  {
   "cell_type": "code",
   "execution_count": 57,
   "metadata": {
    "collapsed": false
   },
   "outputs": [
    {
     "name": "stdout",
     "output_type": "stream",
     "text": [
      "(-0-0.16835133876275843j)\n"
     ]
    }
   ],
   "source": [
    "wbar_1 = 1j * wbar_1.imag\n",
    "print(wbar_1)"
   ]
  },
  {
   "cell_type": "markdown",
   "metadata": {},
   "source": [
    "## Construct solution $\\delta B_{\\parallel \\mathbf{k}}(t)$"
   ]
  },
  {
   "cell_type": "code",
   "execution_count": 58,
   "metadata": {
    "collapsed": false
   },
   "outputs": [
    {
     "data": {
      "text/plain": [
       "(-134.41200044027337-73.222114503194675j)"
      ]
     },
     "execution_count": 58,
     "metadata": {},
     "output_type": "execute_result"
    }
   ],
   "source": [
    "G(ti_te, mi_me, bi, kperp_rhoi, wbar_1, wbar_0) * (wbar_1 - wbar_0)"
   ]
  },
  {
   "cell_type": "markdown",
   "metadata": {},
   "source": [
    "$$\n",
    "A_{\\parallel \\mathbf{k}}(t) = Res(\\overline{\\omega}_0) + Res(\\overline{\\omega}_1)\n",
    "$$"
   ]
  },
  {
   "cell_type": "code",
   "execution_count": 27,
   "metadata": {
    "collapsed": true
   },
   "outputs": [],
   "source": [
    "def Apark(apark0, tbar):\n",
    "    \"\"\"\n",
    "    \n",
    "    \"\"\"\n",
    "    q2bar_w0 =  Q2bar(ti_te, mi_me, bi, kperp_rhoi, wbar_0)\n",
    "    res_w0 = q2bar_w0 * np.exp(-1j * wbar_0 * tbar) / \\\n",
    "        (wbar_0**2 - q2bar_w0)\n",
    "    G_w1 = G(ti_te, mi_me, bi, kperp_rhoi, wbar_1)\n",
    "    G_w2 = G(ti_te, mi_me, bi, kperp_rhoi, wbar_2)\n",
    "    res_w1 = wbar_1**2 * np.exp(-1j * wbar_1 * tbar) / \\\n",
    "        (G_w1 + 2 * wbar_1) / (wbar_1 - wbar_0)\n",
    "    res_w2 = wbar_2**2 * np.exp(-1j * wbar_2 * tbar) / \\\n",
    "        (G_w2 + 2 * wbar_2) / (wbar_2 - wbar_0)\n",
    "    return apark0 * (res_w0 + res_w1 + res_w2)\n"
   ]
  },
  {
   "cell_type": "code",
   "execution_count": 23,
   "metadata": {
    "collapsed": true
   },
   "outputs": [],
   "source": [
    "t_arr = np.linspace(0, 50, 500)"
   ]
  },
  {
   "cell_type": "code",
   "execution_count": 28,
   "metadata": {
    "collapsed": false
   },
   "outputs": [],
   "source": [
    "apar_arr = np.array([np.abs(Apark(10, tbar)) for tbar in t_arr])\n",
    "apar_approx_arr = np.array([np.abs(Apark_approx(10, tbar)) for tbar in t_arr])"
   ]
  },
  {
   "cell_type": "code",
   "execution_count": 25,
   "metadata": {
    "collapsed": true
   },
   "outputs": [],
   "source": [
    "#"
   ]
  },
  {
   "cell_type": "code",
   "execution_count": 40,
   "metadata": {
    "collapsed": false
   },
   "outputs": [
    {
     "data": {
      "image/png": "[encoded data removed]",
      "text/plain": [
       "<matplotlib.figure.Figure at 0x11069db70>"
      ]
     },
     "metadata": {},
     "output_type": "display_data"
    }
   ],
   "source": [
    "fig = plt.figure(figsize=[6,6])\n",
    "plt.plot(t_arr * np.sqrt(bi), apar_arr, 'k', label='Bromwich')\n",
    "plt.plot(t_arr * np.sqrt(bi), apar_approx_arr, 'r', label = r'$p^2+Q^2 \\approx (p-p_1)(p-p_2)$')\n",
    "plt.ylabel(r'$|A_\\parallel|$')\n",
    "plt.xlabel(r'$tk_\\parallel v_{ti}$')\n",
    "plt.legend(loc='best', frameon=False)\n",
    "plt.show()"
   ]
  },
  {
   "cell_type": "code",
   "execution_count": 41,
   "metadata": {
    "collapsed": false
   },
   "outputs": [],
   "source": [
    "# fig.savefig('bromwich_vs_approx.eps')"
   ]
  },
  {
   "cell_type": "code",
   "execution_count": null,
   "metadata": {
    "collapsed": true
   },
   "outputs": [],
   "source": []
  }
 ],
 "metadata": {
  "kernelspec": {
   "display_name": "Python 3",
   "language": "python",
   "name": "python3"
  },
  "language_info": {
   "codemirror_mode": {
    "name": "ipython",
    "version": 3
   },
   "file_extension": ".py",
   "mimetype": "text/x-python",
   "name": "python",
   "nbconvert_exporter": "python",
   "pygments_lexer": "ipython3",
   "version": "3.5.1"
  }
 },
 "nbformat": 4,
 "nbformat_minor": 0
}
