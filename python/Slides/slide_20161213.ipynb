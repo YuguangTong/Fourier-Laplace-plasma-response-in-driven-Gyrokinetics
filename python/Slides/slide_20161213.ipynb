{
 "cells": [
  {
   "cell_type": "markdown",
   "metadata": {},
   "source": [
    "# unity beta plasma on Cori"
   ]
  },
  {
   "cell_type": "markdown",
   "metadata": {},
   "source": [
    "- spectra, MVA"
   ]
  },
  {
   "cell_type": "markdown",
   "metadata": {},
   "source": [
    " <table border=\"0\">\n",
    "    <tr>\n",
    "        <td style=\"padding:5px\">\n",
    "            <video controls src=\"../videos/nl_bi_1_alfven_mva_2.mp4\", width=\"350\"/>\n",
    "          </td>\n",
    "        <td style=\"padding:5px\">\n",
    "            <video controls src=\"../videos/nl_bi_1_alfven_E_2.mp4\", width=\"350\"/>\n",
    "         </td>\n",
    "    </tr>\n",
    "</table>\n",
    "\n",
    "<b>Video 1</b> MVA and energy spectrum in the Alfven run.\n",
    "\n",
    "<table border=\"0\">\n",
    "    <tr>\n",
    "        <td style=\"padding:0px\">\n",
    "            <img src=\"../figures/bi_1_erg_fraction_low2_1.png\", width=\"300\">\n",
    "        </td>    \n",
    "        <td style=\"padding:0px\">\n",
    "            <video controls src=\"../videos/nl_bi_1_mix_low2_mva_1.mp4\", width=\"300\"/>\n",
    "        </td>\n",
    "        <td style=\"padding:0px\">\n",
    "            <video controls src=\"../videos/nl_bi_1_mix_low2_E_1.mp4\", width=\"300\"/>\n",
    "        </td>\n",
    "    </tr>\n",
    "</table>\n",
    "\n",
    "<b>Video 2</b> MVA and energy spectrum in the Mix run, slow mode antenna $u_0 = 3$.\n",
    "\n",
    "<table border=\"0\">\n",
    "    <tr>\n",
    "        <td style=\"padding:0px\">\n",
    "            <img src=\"../figures/bi_1_erg_fraction_low_1.png\", width=\"300\">\n",
    "        </td>\n",
    "        <td style=\"padding:0px\">\n",
    "            <video controls src=\"../videos/nl_bi_1_mix_low_mva_1.mp4\", width=\"300\"/>\n",
    "        </td>\n",
    "        <td style=\"padding:0px\">\n",
    "            <video controls src=\"../videos/nl_bi_1_mix_low_E_1.mp4\", width=\"300\"/>\n",
    "        </td>\n",
    "    </tr>\n",
    "</table>\n",
    "\n",
    "<b>Video 2</b> MVA and energy spectrum in the Mix run, slow mode antenna $u_0 = 6$."
   ]
  },
  {
   "cell_type": "code",
   "execution_count": 1,
   "metadata": {
    "collapsed": false
   },
   "outputs": [
    {
     "data": {
      "text/plain": [
       "'/Volumes/yuguang_sd/report/laplace_fourier_analysis/python/Slides'"
      ]
     },
     "execution_count": 1,
     "metadata": {},
     "output_type": "execute_result"
    }
   ],
   "source": [
    "pwd"
   ]
  },
  {
   "cell_type": "markdown",
   "metadata": {
    "collapsed": false
   },
   "source": [
    "<img src=\"../Draft/nl_bi_001_mix_qiqe_t_all.png\", width=\"600\">\n",
    "\n",
    "\n"
   ]
  },
  {
   "cell_type": "markdown",
   "metadata": {
    "collapsed": true
   },
   "source": [
    "<img src=\"../Draft/nl_bi_001_alfven_qiqe_t_all.png\", width=\"600\">"
   ]
  },
  {
   "cell_type": "code",
   "execution_count": null,
   "metadata": {
    "collapsed": true
   },
   "outputs": [],
   "source": []
  }
 ],
 "metadata": {
  "kernelspec": {
   "display_name": "Python3 (data science)",
   "language": "python",
   "name": "ds"
  },
  "language_info": {
   "codemirror_mode": {
    "name": "ipython",
    "version": 3
   },
   "file_extension": ".py",
   "mimetype": "text/x-python",
   "name": "python",
   "nbconvert_exporter": "python",
   "pygments_lexer": "ipython3",
   "version": "3.5.2"
  },
  "widgets": {
   "state": {},
   "version": "1.1.2"
  }
 },
 "nbformat": 4,
 "nbformat_minor": 0
}
