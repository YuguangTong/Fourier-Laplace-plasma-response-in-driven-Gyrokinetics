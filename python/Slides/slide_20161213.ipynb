{
 "cells": [
  {
   "cell_type": "markdown",
   "metadata": {
    "deletable": true,
    "editable": true
   },
   "source": [
    "# unity beta plasma on Cori"
   ]
  },
  {
   "cell_type": "markdown",
   "metadata": {
    "deletable": true,
    "editable": true
   },
   "source": [
    "- spectra, MVA"
   ]
  },
  {
   "cell_type": "markdown",
   "metadata": {
    "deletable": true,
    "editable": true
   },
   "source": [
    " <table border=\"0\">\n",
    "    <tr>\n",
    "        <td style=\"padding:5px\">\n",
    "            <video controls src=\"../videos/nl_bi_1_alfven_mva_2.mp4\", width=\"350\"/>\n",
    "          </td>\n",
    "        <td style=\"padding:5px\">\n",
    "            <video controls src=\"../videos/nl_bi_1_alfven_E_2.mp4\", width=\"350\"/>\n",
    "         </td>\n",
    "    </tr>\n",
    "</table>\n",
    "\n",
    "<b>Video 1</b> MVA and energy spectrum in the Alfven run.\n",
    "\n",
    "<table border=\"0\">\n",
    "    <tr>\n",
    "        <td style=\"padding:0px\">\n",
    "            <img src=\"../figures/bi_1_erg_fraction_low2_1.png\", width=\"300\">\n",
    "        </td>    \n",
    "        <td style=\"padding:0px\">\n",
    "            <video controls src=\"../videos/nl_bi_1_mix_low2_mva_1.mp4\", width=\"300\"/>\n",
    "        </td>\n",
    "        <td style=\"padding:0px\">\n",
    "            <video controls src=\"../videos/nl_bi_1_mix_low2_E_1.mp4\", width=\"300\"/>\n",
    "        </td>\n",
    "    </tr>\n",
    "</table>\n",
    "\n",
    "<b>Video 2</b> MVA and energy spectrum in the Mix run, slow mode antenna $u_0 = 3$.\n",
    "\n",
    "<table border=\"0\">\n",
    "    <tr>\n",
    "        <td style=\"padding:0px\">\n",
    "            <img src=\"../figures/bi_1_erg_fraction_low_1.png\", width=\"300\">\n",
    "        </td>\n",
    "        <td style=\"padding:0px\">\n",
    "            <video controls src=\"../videos/nl_bi_1_mix_low_mva_1.mp4\", width=\"300\"/>\n",
    "        </td>\n",
    "        <td style=\"padding:0px\">\n",
    "            <video controls src=\"../videos/nl_bi_1_mix_low_E_1.mp4\", width=\"300\"/>\n",
    "        </td>\n",
    "    </tr>\n",
    "</table>\n",
    "\n",
    "<b>Video 2</b> MVA and energy spectrum in the Mix run, slow mode antenna $u_0 = 6$."
   ]
  },
  {
   "cell_type": "code",
   "execution_count": 1,
   "metadata": {
    "collapsed": false,
    "deletable": true,
    "editable": true
   },
   "outputs": [
    {
     "data": {
      "text/plain": [
       "'/Volumes/yuguang_sd/report/laplace_fourier_analysis/python/Slides'"
      ]
     },
     "execution_count": 1,
     "metadata": {},
     "output_type": "execute_result"
    }
   ],
   "source": [
    "pwd"
   ]
  },
  {
   "cell_type": "markdown",
   "metadata": {
    "collapsed": false,
    "deletable": true,
    "editable": true
   },
   "source": [
    "<img src=\"../Draft/nl_bi_001_mix_qiqe_t_all.png\", width=\"600\">\n",
    "\n",
    "\n"
   ]
  },
  {
   "cell_type": "markdown",
   "metadata": {
    "collapsed": true,
    "deletable": true,
    "editable": true
   },
   "source": [
    "<img src=\"../Draft/nl_bi_001_alfven_qiqe_t_all.png\", width=\"600\">"
   ]
  },
  {
   "cell_type": "markdown",
   "metadata": {
    "collapsed": true,
    "deletable": true,
    "editable": true
   },
   "source": [
    "<video src=\"../videos/nl_bi_1_mix_low2_E_1.mp4\", width=\"400\">"
   ]
  },
  {
   "cell_type": "code",
   "execution_count": null,
   "metadata": {
    "collapsed": true,
    "deletable": true,
    "editable": true
   },
   "outputs": [],
   "source": []
  }
 ],
 "metadata": {
  "kernelspec": {
   "display_name": "Python 3",
   "language": "python",
   "name": "python3"
  },
  "language_info": {
   "codemirror_mode": {
    "name": "ipython",
    "version": 2
   },
   "file_extension": ".py",
   "mimetype": "text/x-python",
   "name": "python",
   "nbconvert_exporter": "python",
   "pygments_lexer": "ipython2",
   "version": "2.7.12"
  },
  "widgets": {
   "state": {},
   "version": "1.1.2"
  }
 },
 "nbformat": 4,
 "nbformat_minor": 0
}
