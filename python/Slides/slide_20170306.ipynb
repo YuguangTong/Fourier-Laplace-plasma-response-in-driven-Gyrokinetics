{
 "cells": [
  {
   "cell_type": "markdown",
   "metadata": {},
   "source": [
    "# transport ratios"
   ]
  },
  {
   "cell_type": "markdown",
   "metadata": {},
   "source": [
    "First we show transport ratios that we have been considering:"
   ]
  },
  {
   "cell_type": "markdown",
   "metadata": {
    "collapsed": true
   },
   "source": [
    "##  #1 Magnetic variance anisotropy $\\frac{\\delta B_\\perp^2}{\\delta B_\\parallel^2}$\n",
    "<tr>\n",
    "    <td style=\"padding:5px\">\n",
    "        <img src='../figures/transport_ratios/bi_001_alfven_mva.png' width=\"400\">\n",
    "    </td>\n",
    "</tr>\n",
    "\n",
    "<b> Figure 1</b>  Magnetic variance anisotropy. "
   ]
  },
  {
   "cell_type": "markdown",
   "metadata": {},
   "source": [
    "## #2 Alfven ratios $R_{A, s} = \\frac{\\delta v_s^2}{v_A^2}\\frac{B_0^2}{\\delta B^2}$\n",
    "<tr>\n",
    "    <td style=\"padding:5px\">\n",
    "        <img src='../figures/transport_ratios/bi_001_alfven_ra.png' width=\"400\">\n",
    "    </td>\n",
    "</tr>\n",
    "\n",
    "<b> Figure 2</b> Alfven ratios \n",
    "\n",
    "- I can't fix the unit. AstroGK output velocity "
   ]
  },
  {
   "cell_type": "markdown",
   "metadata": {},
   "source": [
    "## #3 Density\n",
    "\n",
    "<tr>\n",
    "    <td style=\"padding:5px\">\n",
    "        <img src='../figures/transport_ratios/bi_001_alfven_n.png' width=\"400\">\n",
    "    </td> \n",
    "</tr>\n",
    "<b> Figure 3</b> Density fluctuations. \n",
    "\n",
    "- Normalization is possibly wrong.\n",
    "- Only one density fluctuations for ions and electrons in Linear VM?"
   ]
  },
  {
   "cell_type": "markdown",
   "metadata": {},
   "source": [
    "## #4 Velocity variance anisotropy $\\frac{\\delta v_{\\perp}^2}{\\delta v_\\parallel^2}$"
   ]
  },
  {
   "cell_type": "markdown",
   "metadata": {},
   "source": [
    "<tr>\n",
    "    <td style=\"padding:5px\">\n",
    "        <img src='../figures/transport_ratios/bi_001_alfven_vpar_vperp.png' width=\"400\">\n",
    "    </td>\n",
    "</tr>\n",
    "<b> Figure 4</b> Velocity fluctuations. \n",
    "\n",
    "- Agreement between Linear Vlasov-Maxwell solution and AstroGK simulation is better for electrons than ions. "
   ]
  },
  {
   "cell_type": "code",
   "execution_count": null,
   "metadata": {
    "collapsed": true
   },
   "outputs": [],
   "source": []
  }
 ],
 "metadata": {
  "kernelspec": {
   "display_name": "Python 3.6 (science)",
   "language": "python",
   "name": "science"
  },
  "language_info": {
   "codemirror_mode": {
    "name": "ipython",
    "version": 3
   },
   "file_extension": ".py",
   "mimetype": "text/x-python",
   "name": "python",
   "nbconvert_exporter": "python",
   "pygments_lexer": "ipython3",
   "version": "3.6.0"
  }
 },
 "nbformat": 4,
 "nbformat_minor": 2
}
