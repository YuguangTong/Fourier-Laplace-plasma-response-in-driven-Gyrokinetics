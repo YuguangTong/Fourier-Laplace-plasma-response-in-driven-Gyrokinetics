{
 "cells": [
  {
   "cell_type": "markdown",
   "metadata": {
    "collapsed": true
   },
   "source": [
    "## $\\beta_i = 0.01$ linear simulations"
   ]
  },
  {
   "cell_type": "markdown",
   "metadata": {},
   "source": [
    "We drive Alfven mode and slow mode together linearly at wavelength  $k_\\perp\\rho_i = 0.2$:\n",
    "\n",
    "Alfven mode antenna $(A_0)$ has \n",
    "- driving frequency $\\overline{\\omega}_0=0.9$, decorrelation rate (DR) $= 0$ or $0.8$\n",
    "- driving amplitude $A_0 = 30$\n",
    "\n",
    "Slow mode antenna $u_0$ has\n",
    "- driving frequency $\\overline{\\omega}_0=0.9$, decorrelation rate (DR) $= 0$ or $0.8$\n",
    "- driving amplitude $u_0 = 475$\n",
    "\n",
    "<img src=\"figures/lin_mix_mva_1.png\", width=\"600\">\n",
    "\n",
    "<b>Fig. 1</b> Evolution of $MVA = |\\delta B_\\perp|^2/|\\delta B_\\parallel|^2$ for three set of DRs.\n",
    "\n",
    "- When $DR=0$ for both modes, $MVA\\sim 1$, indicating equal energy in the two wave modes.\n",
    "- When either mode has $DR=0.8$, $MVA$ fluctuates a lot around $10$, indicating more energy in Alfven mode.\n",
    "\n",
    "$MVA$ increased because (see Fig. 2):\n",
    "- Nonzero $DR$ for slow mode antenna seem to reduce slow mode energy ($E_{B_\\parallel}$).\n",
    "- Nonzero $DR$ for Alfven mode antenna seem to increase Alfven mode energy ($E_{B_\\perp}$)."
   ]
  },
  {
   "cell_type": "markdown",
   "metadata": {},
   "source": [
    "<table border=\"0\">\n",
    "    <tr>\n",
    "        <td style=\"padding:5px\">\n",
    "            <img src=\"figures/lin_mix_Ebpar_1.png\", width=\"400\"/>\n",
    "          </td>\n",
    "        <td style=\"padding:5px\">\n",
    "            <img src=\"figures/lin_mix_Ebperp_1.png\", width=\"400\"/>\n",
    "         </td>\n",
    "    </tr>\n",
    "</table>\n",
    "<b>Fig. 2</b> Evolution of $E_{B_\\parallel}$ and $E_{B_\\perp}$."
   ]
  },
  {
   "cell_type": "markdown",
   "metadata": {},
   "source": [
    "## $\\beta_i = 0.01$ nonlinear simulations"
   ]
  },
  {
   "cell_type": "markdown",
   "metadata": {},
   "source": [
    "We drive slow mode and Alfven mode with same parameters as in the above linear runs. The results are shown in the videos below.\n",
    "\n",
    "Key points are:\n",
    "- three simulations have all saturated.\n",
    "- MVA spectrum are similar (cf: see Video 4 for comparison with Alfven mode cascade). \n",
    "- At the driving scale ($k_\\perp\\rho_i = 0.2$), MVA fluctuate with large amplitude even when $DR=0$ for both modes.\n",
    "- At smaller scales, MVA values are more stable.\n",
    "- The fluctuation of MVA looks much like the <em>linear</em> run with $DR_{Alfven}=0.8$ and $DR_{slow}=0$.\n",
    "- We need to decide the decorrelation rate for our simulations"
   ]
  },
  {
   "cell_type": "markdown",
   "metadata": {},
   "source": [
    "<video controls src=\"videos/nl_mix_mva_6.mp4\", width=\"400\"/>"
   ]
  },
  {
   "cell_type": "markdown",
   "metadata": {},
   "source": [
    "<video controls src=\"videos/nl_mix_E_6.mp4\", width=\"400\"/>"
   ]
  },
  {
   "cell_type": "markdown",
   "metadata": {},
   "source": [
    "<b>Video 1</b> MVA and energy spectrum in a nonlinear run in which both Alfven and slow modes have $DR=0.8$. "
   ]
  },
  {
   "cell_type": "markdown",
   "metadata": {},
   "source": [
    "<video controls src=\"videos/nl_mix_mva_7.mp4\", width=\"400\"/>"
   ]
  },
  {
   "cell_type": "markdown",
   "metadata": {},
   "source": [
    "<video controls src=\"videos/nl_mix_E_7.mp4\", width=\"400\"/>"
   ]
  },
  {
   "cell_type": "markdown",
   "metadata": {},
   "source": [
    "<b>Video 2</b> MVA and energy spectrum, both Alfven and slow modes have $DR=0$. "
   ]
  },
  {
   "cell_type": "markdown",
   "metadata": {},
   "source": [
    "<video controls src=\"videos/nl_mix_mva_8.mp4\", width=\"400\"/>\n"
   ]
  },
  {
   "cell_type": "markdown",
   "metadata": {},
   "source": [
    "<video controls src=\"videos/nl_mix_E_8.mp4\", width=\"400\"/>"
   ]
  },
  {
   "cell_type": "markdown",
   "metadata": {},
   "source": [
    "<b>Video 3</b> MVA and energy spectrum, Alfven modes have $DR=0.8$ and slow modes have $DR=0$. "
   ]
  },
  {
   "cell_type": "markdown",
   "metadata": {},
   "source": [
    "### For comparison, Alfven mode nonlinear simulation is attached here as well:"
   ]
  },
  {
   "cell_type": "markdown",
   "metadata": {},
   "source": [
    "<video controls src=\"videos/nl_alfven_mva_1.mp4\", width=\"400\"/>\n"
   ]
  },
  {
   "cell_type": "markdown",
   "metadata": {},
   "source": [
    "<video controls src=\"videos/nl_alfven_E_1.mp4\", width=\"400\"/>\n"
   ]
  },
  {
   "cell_type": "markdown",
   "metadata": {},
   "source": [
    "## $\\beta_i = 1.$ linear simulations\n",
    "- to be added"
   ]
  },
  {
   "cell_type": "code",
   "execution_count": null,
   "metadata": {
    "collapsed": true
   },
   "outputs": [],
   "source": []
  }
 ],
 "metadata": {
  "kernelspec": {
   "display_name": "Python3 (data science)",
   "language": "python",
   "name": "ds"
  },
  "language_info": {
   "codemirror_mode": {
    "name": "ipython",
    "version": 3
   },
   "file_extension": ".py",
   "mimetype": "text/x-python",
   "name": "python",
   "nbconvert_exporter": "python",
   "pygments_lexer": "ipython3",
   "version": "3.5.2"
  }
 },
 "nbformat": 4,
 "nbformat_minor": 0
}
