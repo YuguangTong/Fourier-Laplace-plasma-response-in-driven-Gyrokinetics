{
 "cells": [
  {
   "cell_type": "markdown",
   "metadata": {},
   "source": [
    "<h1>$\\beta=0.01$</h1>\n",
    "- $A_\\parallel$ antenna, drives Alfven waves with driving frequency $\\overline{\\omega}_0 = 0.9$, decorrelation rate $DR=-0.8$ and  amplitude $A_0=30$.\n",
    "- $u_\\parallel$ antenna, mainly drives slow waves with $\\overline{\\omega}_0 = 0.13$, $DR=0$, amplitude $u_0=475$.\n",
    "\n",
    "- In linear simulation, this combination gives MVA~1 at $k\\rho_i=0.2$, the driving scale, suggesting that equal amount of energy in the slow and Alfven waves.\n",
    "\n",
    "Below we show spectrum evolution for the last few thousands of steps. \n",
    "\n",
    "<table border=\"0\">\n",
    "    <tr>\n",
    "        <td style=\"padding:5px\">\n",
    "            <video controls src=\"../videos/nl_mix_large_mva_4e5_new.mp4\", width=\"400\"/>\n",
    "          </td>\n",
    "        <td style=\"padding:5px\">\n",
    "            <video controls src=\"../videos/nl_mix_large_E_4e5.mp4\", width=\"400\"/>\n",
    "         </td>\n",
    "    </tr>\n",
    "</table>\n",
    "<b>Video 1</b> MVA (left) and energy (right) spectrum in the mixed run. In the MVA spectrum, we overplot (dashed line) MVA calculated from a hot plasma dispersion relation solver.\n",
    "\n",
    "<table border=\"0\">\n",
    "    <tr>\n",
    "        <td style=\"padding:5px\">\n",
    "            <video controls src=\"../videos/nl_alfven_large_mva_5a.mp4\", width=\"400\"/>\n",
    "          </td>\n",
    "        <td style=\"padding:5px\">\n",
    "            <video controls src=\"../videos/nl_alfven_large_E_5a.mp4\", width=\"400\"/>\n",
    "         </td>\n",
    "    </tr>\n",
    "</table>\n",
    "<b>Video 2</b> MVA (left) and energy (right) spectrum in the Alfven run. "
   ]
  },
  {
   "cell_type": "markdown",
   "metadata": {},
   "source": [
    "We fix the electron adaptive hypercollisionality to `nuh` $=5000$ and ion fixed hypercollisionality to `nu_h` $=1$\n",
    "\n",
    "- Electron hypercollisionality is too high for Alfven run.\n",
    "- MVA takes funny shape ... somehow increasing electron hypercollisionality reduces more $E_{B_\\perp}$ than $E_{B_\\parallel}$.\n",
    "- Jason suggest further expansion of simulation size to $256\\times 256\\times 32$ or $256\\times 256\\times 64$ to reduce the reliance on hypercollisionality."
   ]
  },
  {
   "cell_type": "markdown",
   "metadata": {},
   "source": [
    "<table border=\"0\">\n",
    "    <tr>\n",
    "        <td style=\"padding:2px\">\n",
    "            <img src='../figures/mix_large_5_ahc_elec.png' width=\"300\">\n",
    "        </td>\n",
    "        <td style=\"padding:2px\">\n",
    "            <img src='../figures/mix_large_5_ahc_ion.png' width=\"300\">         \n",
    "        </td>\n",
    "    </tr>\n",
    "</table>\n",
    "\n",
    "<b>Figure 1</b> Adaptive hypercollisionality diagnostic in the mixed run for electrons (left) and ions (right).\n",
    "\n",
    "<table border=\"0\">\n",
    "    <tr>\n",
    "        <td style=\"padding:2px\">\n",
    "            <img src='../figures/alfven_large_5a_ahc_elec.png' width=\"300\">\n",
    "        </td>\n",
    "        <td style=\"padding:2px\">\n",
    "            <img src='../figures/alfven_large_5a_ahc_ion.png' width=\"300\">         \n",
    "        </td>       \n",
    "    </tr>\n",
    "</table>\n",
    "<b>Figure 2</b> Adaptive hypercollisionality diagnostic in the Alfven run for electrons (left) and ions (right).\n",
    "\n"
   ]
  },
  {
   "cell_type": "markdown",
   "metadata": {},
   "source": [
    "<h1>$\\beta = 1$ </h1>\n",
    "- $A_\\parallel$ antenna, drives Alfven waves with driving frequency $\\overline{\\omega}_0 = 0.9$, decorrelation rate $DR=-0.8$ and  amplitude $A_0=30$.\n",
    "- $u_\\parallel$ antenna, mainly drives slow waves with $\\overline{\\omega}_0 = 1.1$, $DR=0$, amplitude $u_0=19.2$.\n",
    "- In linear simulation, this combination gives $MVA\\sim1$ at $k\\rho_i=0.2$, the driving scale, suggesting that equal amount of energy in the slow and Alfven waves.\n",
    "\n",
    "Below we show spectrum evolutions:\n",
    "- simulation box is $32\\times32\\times32$ in physical space.\n",
    "\n",
    "- both runs seem to have satuarated. I am waiting the mixed run to evolve to the same time step as Alfven run then expand. \n",
    "\n",
    "- will make two expansions to get to the same box size as in $\\beta=0.01$ plasma.\n"
   ]
  },
  {
   "cell_type": "markdown",
   "metadata": {},
   "source": [
    "<table border=\"0\">\n",
    "    <tr>\n",
    "        <td style=\"padding:5px\">\n",
    "            <video controls src=\"../videos/nl_bi_1_mix_mva_2.mp4\", width=\"400\"/>\n",
    "          </td>\n",
    "        <td style=\"padding:5px\">\n",
    "            <video controls src=\"../videos/nl_bi_1_mix_E_2.mp4\", width=\"400\"/>\n",
    "         </td>\n",
    "    </tr>\n",
    "</table>\n",
    "\n",
    "<b>Video 3</b> MVA and energy spectrum in the mixed run. \n",
    "\n",
    "<table border=\"0\">\n",
    "    <tr>\n",
    "        <td style=\"padding:5px\">\n",
    "            <video controls src=\"../videos/nl_bi_1_alfven_mva_2.mp4\", width=\"400\"/>\n",
    "          </td>\n",
    "        <td style=\"padding:5px\">\n",
    "            <video controls src=\"../videos/nl_bi_1_alfven_E_2.mp4\", width=\"400\"/>\n",
    "         </td>\n",
    "    </tr>\n",
    "</table>\n",
    "\n",
    "<b>Video 3</b> MVA and energy spectrum in the Alfven run."
   ]
  },
  {
   "cell_type": "code",
   "execution_count": null,
   "metadata": {
    "collapsed": true
   },
   "outputs": [],
   "source": []
  }
 ],
 "metadata": {
  "kernelspec": {
   "display_name": "Python3 (data science)",
   "language": "python",
   "name": "ds"
  },
  "language_info": {
   "codemirror_mode": {
    "name": "ipython",
    "version": 3
   },
   "file_extension": ".py",
   "mimetype": "text/x-python",
   "name": "python",
   "nbconvert_exporter": "python",
   "pygments_lexer": "ipython3",
   "version": "3.5.2"
  },
  "widgets": {
   "state": {},
   "version": "1.1.2"
  }
 },
 "nbformat": 4,
 "nbformat_minor": 0
}
