{
 "cells": [
  {
   "cell_type": "markdown",
   "metadata": {},
   "source": [
    "<h1>$\\beta=0.01$</h1>\n",
    "- $A_\\parallel$ antenna, drives Alfven waves with driving frequency $\\overline{\\omega}_0 = 0.9$, decorrelation rate $DR=-0.8$ and  amplitude $A_0=30$.\n",
    "- $u_\\parallel$ antenna, mainly drives slow waves with $\\overline{\\omega}_0 = 0.13$, $DR=0$, amplitude $u_0=475$.\n",
    "\n",
    "- In linear simulation, this combination gives MVA~1 at $k\\rho_i=0.2$, the driving scale, suggesting that equal amount of energy in the slow and Alfven waves.\n",
    "\n",
    "Below we show spectrum evolution for the last 6000 steps:\n",
    "\n",
    "<table border=\"0\">\n",
    "    <tr>\n",
    "        <td style=\"padding:5px\">\n",
    "            <video controls src=\"../videos/nl_mix_large_mva_4e5.mp4\", width=\"400\"/>\n",
    "          </td>\n",
    "        <td style=\"padding:5px\">\n",
    "            <video controls src=\"../videos/nl_mix_large_E_4e5.mp4\", width=\"400\"/>\n",
    "         </td>\n",
    "    </tr>\n",
    "</table>\n",
    "<b>Video 1</b> MVA and energy spectrum in the mixed run. \n",
    "\n",
    "<table border=\"0\">\n",
    "    <tr>\n",
    "        <td style=\"padding:5px\">\n",
    "            <video controls src=\"../videos/nl_alfven_large_mva_5.mp4\", width=\"400\"/>\n",
    "          </td>\n",
    "        <td style=\"padding:5px\">\n",
    "            <video controls src=\"../videos/nl_alfven_large_E_5.mp4\", width=\"400\"/>\n",
    "         </td>\n",
    "    </tr>\n",
    "</table>\n",
    "<b>Video 2</b> MVA and energy spectrum in the Alfven run. "
   ]
  },
  {
   "cell_type": "markdown",
   "metadata": {},
   "source": [
    "We set electrons `max_nuh` $=5000$ and ion `nu_h` $=1$"
   ]
  },
  {
   "cell_type": "markdown",
   "metadata": {},
   "source": [
    "<table border=\"0\">\n",
    "    <tr>\n",
    "        <td style=\"padding:2px\">\n",
    "            <img src='../figures/mix_large_5_ahc_elec.png' width=\"300\">\n",
    "        </td>\n",
    "        <td style=\"padding:2px\">\n",
    "            <img src='../figures/mix_large_5_ahc_ion.png' width=\"300\">         \n",
    "        </td>\n",
    "    </tr>\n",
    "</table>\n",
    "\n",
    "<b>Figure 1</b> Adaptive hypercollisionality diagnostic in the mixed run. Left panel is for electrons and the right panel is for ions.\n",
    "\n",
    "<table border=\"0\">\n",
    "    <tr>\n",
    "        <td style=\"padding:2px\">\n",
    "            <img src='../figures/alfven_large_5_ahc_elec.png' width=\"300\">\n",
    "        </td>\n",
    "        <td style=\"padding:2px\">\n",
    "            <img src='../figures/alfven_large_5_ahc_ion.png' width=\"300\">         \n",
    "        </td>       \n",
    "    </tr>\n",
    "</table>\n",
    "<b>Figure 2</b> Adaptive hypercollisionality diagnostic in the Alfven run. Left panel is for electrons and the right panel is for ions.\n"
   ]
  },
  {
   "cell_type": "markdown",
   "metadata": {},
   "source": [
    "<h1>$\\beta = 1$ </h1>\n",
    "- $A_\\parallel$ antenna, drives Alfven waves with driving frequency $\\overline{\\omega}_0 = 0.9$, decorrelation rate $DR=-0.8$ and  amplitude $A_0=30$.\n",
    "- $u_\\parallel$ antenna, mainly drives slow waves with $\\overline{\\omega}_0 = 1.1$, $DR=0$, amplitude $u_0=19.2$.\n",
    "- In linear simulation, this combination gives MVA~1 at $k\\rho_i=0.2$, the driving scale, suggesting that equal amount of energy in the slow and Alfven waves.\n",
    "\n",
    "Below we show spectrum evolutions:\n",
    "- simulation box is $32\\times32\\times32$ in physical space.\n",
    "- will make two expansions to get to the same box size as in $\\beta=0.01$ plasma.\n"
   ]
  },
  {
   "cell_type": "markdown",
   "metadata": {},
   "source": [
    "<table border=\"0\">\n",
    "    <tr>\n",
    "        <td style=\"padding:5px\">\n",
    "            <video controls src=\"../videos/nl_bi_1_mix_mva_2.mp4\", width=\"400\"/>\n",
    "          </td>\n",
    "        <td style=\"padding:5px\">\n",
    "            <video controls src=\"../videos/nl_bi_1_mix_E_2.mp4\", width=\"400\"/>\n",
    "         </td>\n",
    "    </tr>\n",
    "</table>\n",
    "\n",
    "<b>Video 3</b> MVA and energy spectrum in the mixed run. \n",
    "\n",
    "<table border=\"0\">\n",
    "    <tr>\n",
    "        <td style=\"padding:5px\">\n",
    "            <video controls src=\"../videos/nl_bi_1_alfven_mva_1.mp4\", width=\"400\"/>\n",
    "          </td>\n",
    "        <td style=\"padding:5px\">\n",
    "            <video controls src=\"../videos/nl_bi_1_alfven_E_1.mp4\", width=\"400\"/>\n",
    "         </td>\n",
    "    </tr>\n",
    "</table>\n",
    "\n",
    "<b>Video 3</b> MVA and energy spectrum in the Alfven run."
   ]
  },
  {
   "cell_type": "code",
   "execution_count": null,
   "metadata": {
    "collapsed": true
   },
   "outputs": [],
   "source": []
  }
 ],
 "metadata": {
  "kernelspec": {
   "display_name": "Python3 (data science)",
   "language": "python",
   "name": "ds"
  },
  "language_info": {
   "codemirror_mode": {
    "name": "ipython",
    "version": 3
   },
   "file_extension": ".py",
   "mimetype": "text/x-python",
   "name": "python",
   "nbconvert_exporter": "python",
   "pygments_lexer": "ipython3",
   "version": "3.5.2"
  },
  "widgets": {
   "state": {},
   "version": "1.1.2"
  }
 },
 "nbformat": 4,
 "nbformat_minor": 0
}
