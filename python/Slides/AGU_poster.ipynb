{
 "cells": [
  {
   "cell_type": "markdown",
   "metadata": {},
   "source": [
    "# Introduction\n",
    "\n",
    "\n",
    "- The intertial range of solar wind turbulence contains both incompressible and compressible fluctuations, with the latter estimated to be up to $10\\%$ (Bruno & Carbone 2005). The compressible fluctuations have been often intrepreted as a mixture of MHD fast waves and pressure-balanced structures (PBS, Tu & Marsch 1995). \n",
    "\n",
    "\n",
    "- Recently, Howes et al. (2012) and Klein et al. (2012) suggest that the the inertial range compressible fluctuations are predominately MHD slow waves. They use a large statistical set of measurement at 1AU to show that the zero-lag cross-correlation $C(\\delta n, \\delta B_\\parallel)$ is negative and close to $-1$, and demostrate agreement with synthetic data in which more than $90\\%$ of the compressible energy are in slow waves. Howes et al. (2012) interpreted the presence of slow waves as the result of passive cascade of slow modes by the Alfvenic turbulence. \n",
    "\n",
    "\n",
    "- In compressible, strong MHD turbulence, it has been shown that the slow modes are cascaded passively by the Alfvenic turbulence (Maron & Goldreich 2001; Schekochihin et al. 2009), so the energy cascade rate is related not to the slow wave frequency, but to the Alfven wave frequency. Hence the slow waves may be cascaded to smaller scales on the time scale of Alfvenic turbulence, while remain weakly damped.\n",
    "\n",
    "- No simulation / observation to our awareness address the slow mode energy beyond the MHD range. \n",
    "\n",
    "- In this poster we present gyrokinetic simulation of the cascade of slow mode in the sub-ion range. \n",
    "\n",
    "<b> Conclusion </b> \n",
    "> Slow mode cascade through sub-ion scale? Still inconclusive for $k\\rho_i \\gtrsim 1$?"
   ]
  },
  {
   "cell_type": "markdown",
   "metadata": {},
   "source": [
    "# Simulation model\n",
    "\n",
    "## #1 Gyrokinetics\n",
    "- Theoretical framework to study plasma behavior on perpendicular spatial scales comparable to the gyroradius ($k_\\perp \\rho_i \\sim O(1)$) and frequencies much lower than the particle cyclotron frequencies ($\\omega \\ll \\Omega_{i}$).\n",
    "- Averaging over fast gyro motion reduces simulation to 5D (3 spatial and 2 velocity).\n",
    "- Effective in studying magnetized turbulence in astrophysical plasmas (e.g. Schekochihin et al. 2009, Howes et al. 2011)\n",
    "\n",
    "## #2 AstroGK\n",
    "- Open source gyrokinetic code (Howes et al. 2006; Numuta et al. 2010)\n",
    "- Eulerian, flux-tube numerical scheme.\n",
    "- Primarily used for nonlinear simulation of magnetized turbulence in astrophysical plasmas, focusing on the weakly collisional, small scales of the turbulent cascade at which the turbulence is dissipated by kinetic mechanisms. \n"
   ]
  },
  {
   "cell_type": "markdown",
   "metadata": {},
   "source": [
    "## Antenna driving\n",
    "In gyrokinetic ordering the particle distribution function to first order is"
   ]
  },
  {
   "cell_type": "markdown",
   "metadata": {},
   "source": [
    "\\begin{equation}\n",
    "f=F(\\mathcal{E}) e^{-q\\phi(r,t)/T} + g(R, \\mathcal{E}, t)\n",
    "\\end{equation}\n",
    "\n",
    "where $g$ is the ring-averaged distribution. "
   ]
  },
  {
   "cell_type": "markdown",
   "metadata": {},
   "source": [
    "Evolution of g is governed by the GK equation:\n",
    "\n",
    "\\begin{equation}\n",
    "\\frac{\\partial g}{\\partial t} + v_\\parallel \\frac{\\partial g}{\\partial z} + \\frac{1}{B_0}\\left[\\left<\\chi\\right>_R, g_s\\right] - \\left<C_L(g, F_0)\\right>_R = \\frac{q}{T_0} \\frac{\\partial \\left<\\chi\\right>_R}{\\partial t} F_0\n",
    "\\end{equation}\n",
    "where $\\chi = \\phi - \\vec{v}\\cdot \\vec{A}/c$ is the gyrokinetic potential,  $C_L$ is collisional operator, $[]$ denotes Poisson bracket.\n",
    "\n",
    "The Maxwell equations in gyrokinetics are Poisson:"
   ]
  },
  {
   "cell_type": "markdown",
   "metadata": {},
   "source": [
    "$$\n",
    "\\sum_s \\frac{q_s^2 n_s}{T_s}\\phi = \\sum_s q_s \\int d^3 v \\left< g_s\\right>_r\n",
    "$$"
   ]
  },
  {
   "cell_type": "markdown",
   "metadata": {},
   "source": [
    "Parallel and Perpendicular component of Ampere's law:\n",
    "\n",
    "$$\n",
    "-\\frac{c}{4\\pi} \\nabla_{\\perp}^2 A_\\parallel = \\sum_s q_s \\int d^3 v v_\\parallel \\left<g_s\\right>_r\n",
    "$$"
   ]
  },
  {
   "cell_type": "markdown",
   "metadata": {},
   "source": [
    "$$\n",
    "-\\frac{c}{4\\pi} \\nabla_{\\perp} B_\\parallel = \\sum_s q_s \\int d^3 v \\left<\\hat{z}\\times \\hat{v}_\\perp g_s\\right>_r\n",
    "$$\n",
    "\n",
    "To drive Alfven wave and slow wave, we add external driving terms to the gyrokinetic equation / Maxwell's equations."
   ]
  },
  {
   "cell_type": "markdown",
   "metadata": {},
   "source": [
    "## #1 Alfven mode\n",
    "\n",
    "We drive Alfven mode with an external $A_{\\parallel a}$ in the Ampere's law:\n",
    "\n",
    "$$\n",
    "-\\frac{c}{4\\pi} \\nabla_{\\perp}^2 \\left(A_\\parallel + A_{\\parallel a} \\right) = \\sum_s q_s \\int d^3 v v_\\parallel \\left<g_s\\right>_r\n",
    "$$\n",
    "\n",
    "The antenna term is $A_{\\parallel a} = A_0(t) Z(z) \\Phi(x, y)$. The functions $Z$ and $\\Phi$ describe the antenna geometry."
   ]
  },
  {
   "cell_type": "markdown",
   "metadata": {},
   "source": [
    "## #2 Slow mode antenna\n",
    "\n",
    "Slow mode antenna is implemented as a perturbation to phase-space density.\n",
    "\n",
    "$$\n",
    "\\frac{\\partial g_s}{\\partial t} + v_\\parallel \\frac{\\partial g_s}{\\partial z} + \\frac{1}{B_0}\\left[\\left<\\chi\\right>_R, g_s\\right] - \\left<C_L(g_s, F_{0s})\\right> = \\frac{q}{T_0} \\frac{\\partial \\left<\\chi\\right>}{\\partial t} F_{0s} + g_{as}\n",
    "$$\n",
    "\n",
    "The antenna term is $g_{as} = u_0(t) Z(z) \\Phi(x, y) \\frac{\\hat{v}_{\\parallel s} F_{0s}}{N_{u, s}}$, where $N_{u, s} = \\frac{1}{2} \\hat{v}_{ts} e^{-\\hat{k}^2_{\\perp,s} / 4}$, $\\hat{v}_{\\parallel s} = v_{\\parallel, s}/v_{ts}$, $\\hat{v}_{ts} = v_{ts}/v_{t0}$and $\\hat{k}_{\\perp s} = k_\\perp \\rho_s$. It can be shown that this antenna term drives bulk parallel flow without generating parallel current. "
   ]
  },
  {
   "cell_type": "markdown",
   "metadata": {},
   "source": [
    "## Linear modes\n",
    "\n",
    "- We check the excitation of both modes by running AstroGK in the linear mode. \n",
    "- We check that the magnetic variance anisotropy (MVA), i.e., $|\\delta B_\\perp|^2 / |\\delta B_\\parallel |^2$ for both modes in linear AstroGK run agree with linear gyrokinetic solution. \n",
    "\n",
    "<b> Alfven mode </b>\n",
    "\n",
    "We launch Alfven waves in AstroGK (nonlinear term off) and then turn off antenna. The decaying fields are fitted to obtain linear dispersion relations\n",
    "\n",
    "<table border=\"0\">\n",
    "    <tr>\n",
    "        <td style=\"padding:5px\">\n",
    "            <img src='../Draft/agk_linear_wr.png' width=\"400\">\n",
    "        </td>    \n",
    "        <td style=\"padding:5px\">\n",
    "            <img src='../Draft/agk_linear_wi.png' width=\"400\">\n",
    "        </td>\n",
    "    </tr>\n",
    "</table>\n",
    "<b> Figure </b>  Comparison of Alfven mode dispersion relation in AstroGK linear run to linear gyrokinetic solution (solid). "
   ]
  },
  {
   "cell_type": "markdown",
   "metadata": {},
   "source": [
    "<b> Slow mode </b>\n",
    "\n",
    "Slow mode has large damping rate hence fitting dispersion relation from decay run is difficult. We calculate the analytic linear plasma response of gyrokinetic system to slow mode antenna and compare to AstroGK linear run ($A_\\parallel=0$ in comparison). \n",
    "\n",
    "<table border=\"0\">\n",
    "    <tr>\n",
    "        <td style=\"padding:5px\">\n",
    "            <img src=\"../figures/FL_bpar_t_w0_1.png\", width=\"400\">\n",
    "        </td>    \n",
    "        <td style=\"padding:5px\">\n",
    "            <img src=\"../figures/Ebpar_t_w0_1.png\", width=\"400\">        \n",
    "        </td>\n",
    "    </tr>\n",
    "</table>\n",
    "<b> Figure </b> The analytic Fourier-Laplace(FL) solution of the plasma response to slow mode antenna (left) and the linear plasma response in AstroGK (right)."
   ]
  },
  {
   "cell_type": "markdown",
   "metadata": {},
   "source": [
    "# Simulation\n",
    "\n",
    "We make two simulations in parallel for comparison. \n",
    "\n",
    "We choose $\\beta = 0.01$, $T_e= T_i$ and $m_i/m_e = 1836$. \n",
    "\n",
    "- Alfven mode antennas are driven at $\\overline{\\omega}_0=\\omega_0/k_\\parallel v_A = 0.9$, and slow mode antennas driven at $\\overline{\\omega}_0=0.13$.\n",
    "- Simulation box size is $128\\times 128\\times 32$. \n",
    "\n",
    "| run name | $k_\\perp \\rho_i$ | $k_\\parallel \\rho_i / \\epsilon$ | $A_0/\\epsilon \\rho_i B_0$ | $u_0/\\epsilon \\rho_i B_0$ | $\\nu_i/\\epsilon \\Omega_i$ | $\\nu_e/\\epsilon \\Omega_i$ |\n",
    "|----------|------------------|---------------------------------|---------------------------|---------------------------|---------------------------|---------------------------|\n",
    "| Alfven   | [0.2, 8.4]       | [-16, 16]                        |30                        | -                         | 0.1                       | 0.1                       |\n",
    "| Mix      | [0.2, 8.4]       | [-16, 16]                        |30                        | 475                       | 0.1                       | 0.1                       |"
   ]
  },
  {
   "cell_type": "markdown",
   "metadata": {},
   "source": [
    "## #1 Power spectra"
   ]
  },
  {
   "cell_type": "markdown",
   "metadata": {},
   "source": [
    "<table border=\"0\">\n",
    "    <tr>\n",
    "        <td style=\"padding:2px\">\n",
    "            <img src='../figures/nl_alfven_large_E_8.png' width=\"400\">\n",
    "        </td>    \n",
    "        <td style=\"padding:5px\">\n",
    "            <img src='../figures/nl_mix_large_E_8.png' width=\"400\">\n",
    "        </td>\n",
    "    </tr>\n",
    "</table>\n",
    "<b> Figure  </b> Satuarated power spectra of $E_{\\delta B_\\perp}$,  $E_{\\delta B_\\parallel}$, $h_i$ and $h_e$. Left panel is Alfven mode run, right panel is for the mixed-mode run."
   ]
  },
  {
   "cell_type": "markdown",
   "metadata": {},
   "source": [
    "## #2 Particle heating"
   ]
  },
  {
   "cell_type": "markdown",
   "metadata": {},
   "source": [
    "<table border=\"0\">\n",
    "    <tr>\n",
    "        <td style=\"padding:2px\">\n",
    "            <img src='../figures/nl_bi_001_alfven_mix_8_kqiqe_only.png' width=\"400\">\n",
    "        </td>    \n",
    "        <td style=\"padding:5px\">\n",
    "            <img src='../figures/nl_bi_001_alfven_mix_8_kqiqe_ratio.png' width=\"400\">\n",
    "        </td>\n",
    "    </tr>\n",
    "</table>\n",
    "   \n",
    "<b>Figure 2</b> (Left) Ion and electron collisional heating at different scales in two simulations. (Right) The ion-electron heating ratio in two simulations. \n",
    "<img src='../Draft/nl_bi_001_qiqe_t_8.png' width=\"500\">\n",
    "<b> Figure </b> Total ion heating versus electron heating has stablized for both runs.\n"
   ]
  },
  {
   "cell_type": "markdown",
   "metadata": {},
   "source": [
    "> Total ion vs electron heating:\n",
    "> - Alfven $Q_i/Q_e\\approx 7.5\\times 10^{-3}$\n",
    "> - Mixed $Q_i/Q_e\\approx 3$"
   ]
  },
  {
   "cell_type": "markdown",
   "metadata": {},
   "source": [
    "## #3 Cascade of slow mode"
   ]
  },
  {
   "cell_type": "markdown",
   "metadata": {},
   "source": [
    "<table border=\"0\">\n",
    "    <tr>\n",
    "        <td style=\"padding:2px\">\n",
    "            <img src='../figures/nl_alfven_large_mva_7.png' width=\"400\">\n",
    "        </td>    \n",
    "        <td style=\"padding:5px\">\n",
    "            <img src='../figures/nl_mix_large_mva_8.png' width=\"400\">\n",
    "        </td>\n",
    "    </tr>\n",
    "</table>\n",
    "<b> Figure </b> Magnetic variance anisotropy (MVA) at different wavenumber for the Alfven run (left) and the mixed run (right). The theoretical MVA for Alfven and slow modes are calculated from linear gyrokinetics and are plotted in dashed lines. "
   ]
  },
  {
   "cell_type": "markdown",
   "metadata": {},
   "source": [
    "We use MVA to diagnose the energy fractiona of slow mode at scales. For convenience, we define the following term:\n",
    "- a = energy fraction of Alfven mode = 1-s\n",
    "- s = energy fraction of slow mode\n",
    "- ma = $MVA_{Alfven}$\n",
    "- ms = $MVA_{slow}$\n",
    "- m = MVA of the mixture\n",
    "\n",
    "It can be easily shown that \n",
    "\n",
    "$$\n",
    "s = \\frac{(ma-m)(1+ms)}{(1+m)(ma-ms)}\n",
    "$$"
   ]
  },
  {
   "cell_type": "markdown",
   "metadata": {
    "collapsed": true
   },
   "source": [
    "<img src='../figures/bi_001_erg_fraction_8.png' width=\"400\">\n",
    "<b> Figure </b> The fraction of slow mode energy, $s$. To estimate the error, we use the standard deviation of $s$ in an interval of the length $\\Delta t k_\\parallel v_A \\sim 0.13$. "
   ]
  },
  {
   "cell_type": "code",
   "execution_count": 13,
   "metadata": {
    "collapsed": false
   },
   "outputs": [],
   "source": [
    "!open ../figures/bi_001_erg_fraction_8.png"
   ]
  },
  {
   "cell_type": "markdown",
   "metadata": {},
   "source": [
    "## #4 Spatial diagnostics\n",
    "\n",
    "$j_z$ and $B_z$ in real space"
   ]
  },
  {
   "cell_type": "markdown",
   "metadata": {},
   "source": [
    "<table border=\"0\">\n",
    "    <tr>\n",
    "        <td style=\"padding:0px\">\n",
    "            <img src='../figures/spatial/bi_001_alfven_large_7a_xy_Jz.png' width=\"300\">\n",
    "        </td>    \n",
    "        <td style=\"padding:0px\">\n",
    "            <img src='../figures/spatial/bi_001_alfven_large_7a_xz_Jz.png' width=\"450\">\n",
    "        </td>      \n",
    "    </tr>\n",
    "    <tr>\n",
    "        <td style=\"padding:0px\">\n",
    "            <img src='../figures/spatial/bi_001_alfven_large_7a_xy_Bz.png' width=\"300\">\n",
    "        </td>    \n",
    "        <td style=\"padding:0px\">\n",
    "            <img src='../figures/spatial/bi_001_alfven_large_7a_xz_Bz.png' width=\"450\">\n",
    "        </td>      \n",
    "    </tr>    \n",
    "</table>\n",
    "<b> Figure  </b> Spatial cuts of $J_z$ and $B_z$ in the Alfven run."
   ]
  },
  {
   "cell_type": "markdown",
   "metadata": {},
   "source": [
    "<table border=\"0\">\n",
    "    <tr>\n",
    "        <td style=\"padding:0px\">\n",
    "            <img src='../figures/spatial/bi_001_mix_large_8a_xy_Jz.png' width=\"300\">\n",
    "        </td>    \n",
    "        <td style=\"padding:0px\">\n",
    "            <img src='../figures/spatial/bi_001_mix_large_8a_xz_Jz.png' width=\"450\">\n",
    "        </td>       \n",
    "    </tr>\n",
    "    <tr>\n",
    "        <td style=\"padding:0px\">\n",
    "            <img src='../figures/spatial/bi_001_mix_large_8a_xy_Bz.png' width=\"300\">\n",
    "        </td>    \n",
    "        <td style=\"padding:0px\">\n",
    "            <img src='../figures/spatial/bi_001_mix_large_8a_xz_Bz.png' width=\"450\">\n",
    "        </td>       \n",
    "    </tr>    \n",
    "</table>\n",
    "<b> Figure  </b> Spatial cuts of $J_z$ and $B_z$ in the mixed run."
   ]
  },
  {
   "cell_type": "markdown",
   "metadata": {
    "collapsed": true
   },
   "source": [
    "# Unity beta plasma"
   ]
  },
  {
   "cell_type": "markdown",
   "metadata": {},
   "source": [
    "Still work in progress. "
   ]
  },
  {
   "cell_type": "code",
   "execution_count": null,
   "metadata": {
    "collapsed": true
   },
   "outputs": [],
   "source": [
    "# Conclusion\n",
    "\n",
    "- We drive turbulence cascade slow mode together with Alfven mode in a low beta plasma, the slow mode cascade persists through "
   ]
  }
 ],
 "metadata": {
  "kernelspec": {
   "display_name": "Python3 (data science)",
   "language": "python",
   "name": "ds"
  },
  "language_info": {
   "codemirror_mode": {
    "name": "ipython",
    "version": 3
   },
   "file_extension": ".py",
   "mimetype": "text/x-python",
   "name": "python",
   "nbconvert_exporter": "python",
   "pygments_lexer": "ipython3",
   "version": "3.5.2"
  },
  "widgets": {
   "state": {},
   "version": "1.1.2"
  }
 },
 "nbformat": 4,
 "nbformat_minor": 0
}
