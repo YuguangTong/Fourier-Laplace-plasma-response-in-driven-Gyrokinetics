{
 "cells": [
  {
   "cell_type": "markdown",
   "metadata": {},
   "source": [
    "# $\\beta_i = 0.01$\n",
    "\n",
    "## Diagnostics\n",
    "\n",
    "## #1 Heating,  $P_i/P_e$"
   ]
  },
  {
   "cell_type": "markdown",
   "metadata": {},
   "source": [
    "<table border=\"0\">\n",
    "    <tr>\n",
    "        <td style=\"padding:0px\">\n",
    "            <img src='../figures/alfven_large_4a_ahc_elec.png' width=\"400\">        \n",
    "        </td>\n",
    "        <td style=\"padding:0px\">\n",
    "             <img src='../figures/mix_large_4a_elec.png' width=\"400\">\n",
    "        </td>\n",
    "    </tr>\n",
    "</table>\n",
    "\n",
    "<b>Figure 1</b> Electron hypercollisionality diagnostics for the Alfven run (left) and the mixed run (right). \n",
    "\n",
    "> Electron hypercollisionality, $\\nu_{h,e}$, are different in these two runs. So the diagnostic figures below are merely for the purpose of testing script. I will make new runs with the same $\\nu_{h, e}$ today.\n"
   ]
  },
  {
   "cell_type": "markdown",
   "metadata": {},
   "source": [
    "<table border=\"0\">\n",
    "    <tr>\n",
    "        <td style=\"padding:2px\">\n",
    "            <img src='../figures/nl_alfven_large_E_4a.png' width=\"400\">\n",
    "        </td>    \n",
    "        <td style=\"padding:5px\">\n",
    "            <img src='../figures/nl_mix_large_E_4a.png' width=\"400\">\n",
    "        </td>\n",
    "    </tr>\n",
    "</table>\n",
    "\n",
    "<b>Figure 2</b> spectra in Alfven run (left) and in mixed run (right).\n",
    "\n",
    "\n",
    "<img src='../figures/nl_bi_001_alfven_mix_4a_kqiqe.png' width=\"500\">    \n",
    "<b>Figure 3</b> Diagnostics of electron heating and ion heating at different scales (solid lines).  \n"
   ]
  },
  {
   "cell_type": "markdown",
   "metadata": {},
   "source": [
    "\n",
    "## #2 MVA"
   ]
  },
  {
   "cell_type": "markdown",
   "metadata": {},
   "source": [
    "$k_\\parallel = k_i^{1/3} k_\\perp^{2/3}$, where $k_i$ is the isotropic outer scale of turbulence.\n",
    "- We take $k_i\\rho_i = 10^{-3}$ below."
   ]
  },
  {
   "cell_type": "markdown",
   "metadata": {},
   "source": [
    "<img src='../Draft/crit_bal_kperp_kpar.png' width=\"400\">        \n",
    "<b>Figure 4</b> Critical-balanced wavenumbers. "
   ]
  },
  {
   "cell_type": "markdown",
   "metadata": {},
   "source": [
    "<table border=\"0\">\n",
    "    <tr>\n",
    "        <td style=\"padding:2px\">\n",
    "             <img src='../Draft/crit_bal_disp_rel.png' width=\"500\">\n",
    "        </td>\n",
    "        <td style=\"padding:2px\">\n",
    "            <img src='../Draft/crit_bal_mva.png' width=\"500\">\n",
    "        </td>\n",
    "    </tr>\n",
    "</table>\n",
    "\n",
    "<b>Figure 5</b> Dispersion relations (left) and MVA (right) for Alfven and slow modes. "
   ]
  },
  {
   "cell_type": "markdown",
   "metadata": {},
   "source": [
    "# $\\beta_i = 1$\n",
    "### effect of collisionality / hypercollisionality"
   ]
  },
  {
   "cell_type": "markdown",
   "metadata": {},
   "source": [
    "> $A_\\parallel$ antenna, drives Alfven waves with driving frequency $\\overline{\\omega}_0 = 0.9$, decorrelation rate $DR=-0.8$ and  amplitude $A_0=30$.\n",
    "\n",
    "> $u_\\parallel$ antenna, mainly drives slow waves with $\\overline{\\omega}_0 = 1.1$, $DR=0$, amplitude $u_0=19.2$.\n",
    "In linear simulation, this combination gives $MVA\\sim1$ at $k\\rho_i=0.2$, the driving scale, suggesting that equal amount of energy in the slow and Alfven waves.\n",
    "\n",
    "> Simulation box is $32\\times32\\times32$ in physical space.\n",
    "\n",
    "We noticed that the mixed mode run looks bottle necked so we tried another set of collisionality / hypercollisionality (similar to TenBarge (2012)). The parameters are summarized in the table below."
   ]
  },
  {
   "cell_type": "markdown",
   "metadata": {},
   "source": [
    "run \\ item | ion `nu` | elec `nu` | ion fixed `nu_h` | elec fixed `nu_h` | elec `max_nuh` | `kp_hc`\n",
    "--- |---| --- | --- | --- | --- | --- | ---\n",
    "1 | 0.1 | 0.5 | 1.0 | 1.0  | 1000 | 2.2\n",
    "2 | 0.008 | 0.03 | 0.04 | 1.0 | 1000 | 2.2"
   ]
  },
  {
   "cell_type": "markdown",
   "metadata": {},
   "source": [
    "<table border=\"0\">\n",
    "    <tr>\n",
    "        <tr>\n",
    "        <td style=\"padding:0px\">\n",
    "            <img src='../figures/nl_bi_1_mix_2_ahc_elec.png' width=\"300\">\n",
    "            <img src='../figures/nl_bi_1_mix_2_ahc_ion.png' width=\"300\">\n",
    "        </td>\n",
    "        <td style=\"padding:0px\">\n",
    "            <video controls src=\"../videos/nl_bi_1_mix_mva_2.mp4\", width=\"280\"/>\n",
    "          </td>\n",
    "        <td style=\"padding:0px\">\n",
    "            <video controls src=\"../videos/nl_bi_1_mix_E_2.mp4\", width=\"280\"/>\n",
    "         </td>\n",
    "    </tr>\n",
    "</table>\n",
    "\n",
    "<b>Video 1</b> electron adaptive hypercollisionality (AHC) diagnostics, MVA, energy spectrum in the run 1. \n",
    "\n",
    "<table border=\"0\">\n",
    "    <tr>\n",
    "        <td style=\"padding:2px\">\n",
    "            <img src='../figures/nl_bi_1_mix_jmt_2012_1_ahc_elec.png' width=\"300\">\n",
    "            <img src='../figures/nl_bi_1_mix_jmt_2012_1_ahc_ion.png' width=\"300\">\n",
    "        </td>\n",
    "        <td style=\"padding:0px\">\n",
    "            <video controls src=\"../videos/nl_bi_1_mix_jmt_2012_mva_1.mp4\", width=\"280\"/>\n",
    "        </td>\n",
    "        <td style=\"padding:0px\">\n",
    "            <video controls src=\"../videos/nl_bi_1_mix_jmt_2012_E_1.mp4\", width=\"280\"/>\n",
    "        </td>\n",
    "    </tr>\n",
    "</table>\n",
    "\n",
    "<b>Video 2</b> electron adaptive hypercollisionality (AHC) diagnostics, MVA, energy spectrum in the run 2. "
   ]
  },
  {
   "cell_type": "markdown",
   "metadata": {},
   "source": [
    "> Similar bottleneck is seen in run 2 as well. "
   ]
  },
  {
   "cell_type": "markdown",
   "metadata": {},
   "source": [
    "### Expansion of run 1\n",
    "\n",
    "> Simulation box is $64\\times64\\times32$ in physical space.\n",
    "\n",
    "- electron $\\nu_h$ drops from 1000 to 70.\n",
    "- $E_{B_\\perp}$ is still very bottlenecked, while other spectrum look slightly better than before expansion. "
   ]
  },
  {
   "cell_type": "markdown",
   "metadata": {},
   "source": [
    "<table border=\"0\">\n",
    "    <tr>\n",
    "        <td style=\"padding:2px\">\n",
    "            <img src='../figures/nl_bi_1_mix_medium_3_ahc_elec.png' width=\"300\">\n",
    "            <img src='../figures/nl_bi_1_mix_medium_3_ahc_ion.png' width=\"300\">\n",
    "        </td>    \n",
    "        <td style=\"padding:5px\">\n",
    "            <video controls src=\"../videos/nl_bi_1_mix_medium_mva_3.mp4\", width=\"280\"/>\n",
    "          </td>\n",
    "        <td style=\"padding:5px\">\n",
    "            <video controls src=\"../videos/nl_bi_1_mix_medium_E_3.mp4\", width=\"280\"/>\n",
    "         </td>\n",
    "    </tr>\n",
    "</table>\n",
    "\n",
    "<b>Video 3</b> electron adaptive hypercollisionality (AHC) diagnostics, MVA, energy spectrum in the expansion run of the run 1. "
   ]
  },
  {
   "cell_type": "markdown",
   "metadata": {
    "collapsed": true
   },
   "source": [
    "# "
   ]
  }
 ],
 "metadata": {
  "kernelspec": {
   "display_name": "Python 3",
   "language": "python",
   "name": "python3"
  },
  "language_info": {
   "codemirror_mode": {
    "name": "ipython",
    "version": 3
   },
   "file_extension": ".py",
   "mimetype": "text/x-python",
   "name": "python",
   "nbconvert_exporter": "python",
   "pygments_lexer": "ipython3",
   "version": "3.5.2"
  },
  "widgets": {
   "state": {},
   "version": "1.1.2"
  }
 },
 "nbformat": 4,
 "nbformat_minor": 0
}
