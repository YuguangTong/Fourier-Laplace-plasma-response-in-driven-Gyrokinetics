{
 "cells": [
  {
   "cell_type": "markdown",
   "metadata": {},
   "source": [
    "# Check Alfven ratios in linear AGK runs"
   ]
  },
  {
   "cell_type": "markdown",
   "metadata": {},
   "source": [
    "- I ran linear AstroGK runs with Alfven / slow wave antennas at $k_\\perp\\rho_i\\in[0.1, 0.2, 0.4, 0.8, 2, 4, 8]$.\n",
    "- To calculate Alfven ratios, I used the `.heat` file:\n",
    "- $\\delta u_i^2 = $ column 27 + column 29\n",
    "- $\\delta B^2 = $ column 3 + column 4"
   ]
  },
  {
   "cell_type": "markdown",
   "metadata": {},
   "source": [
    "<tr>\n",
    "    <td style=\"padding:5px\">\n",
    "        <img src='../figures/lin_agk_alfven_ra.png' width=\"400\">\n",
    "    </td>\n",
    "</tr>\n",
    "\n",
    "<b> Figure 3</b> Density fluctuations. \n",
    "\n"
   ]
  },
  {
   "cell_type": "markdown",
   "metadata": {},
   "source": [
    "<b>Figure 1 </b> $\\delta u_i^2/\\delta B^2$ in linear AstroGK Alfven wave runs. Alfven wave antennas are turned off at $tk_{||}v_{ti}=50$."
   ]
  },
  {
   "cell_type": "markdown",
   "metadata": {},
   "source": [
    "- When $k_\\perp\\rho_i<= .8$, Alfven waves are weakly damped, we observe that the ratio $\\delta u_i^2/\\delta B^2$ remain the same values after the Antenna is turned off. \n",
    "- When $k_\\perp\\rho_i>= 2$, Alfven waves are heavily damped, we find that the ratio $\\delta u_i^2/\\delta B^2$ changes quickly after the Antenna is turned off. "
   ]
  },
  {
   "cell_type": "markdown",
   "metadata": {},
   "source": [
    "<tr>\n",
    "    <td style=\"padding:5px\">\n",
    "        <img src='../figures/lin_agk_slow_ra.png' width=\"400\">\n",
    "    </td>\n",
    "</tr>\n",
    "\n",
    "<b> Figure 3</b> Density fluctuations. "
   ]
  },
  {
   "cell_type": "markdown",
   "metadata": {},
   "source": [
    "<b>Figure 2 </b> $\\delta u_i^2/\\delta B^2$ in linear AstroGK slow wave runs. Slow wave antennas are turned off at $tk_{||}v_{ti}=500$."
   ]
  },
  {
   "cell_type": "markdown",
   "metadata": {},
   "source": [
    "<tr>\n",
    "    <td style=\"padding:5px\">\n",
    "        <img src='../figures/lin_agk_plume_ra.png' width=\"400\">\n",
    "    </td>\n",
    "</tr>"
   ]
  },
  {
   "cell_type": "markdown",
   "metadata": {},
   "source": [
    "<b>Figure 3</b> Alfven ratio $R_{A, s} = \\frac{\\delta v_s^2}{v_A^2}\\frac{B_0^2}{\\delta B^2}$ calculated from Plume and from linear AstroGK runs. \n",
    "\n",
    "- I am not sure if I scale the unit correctly, but multiply the quantities in Figure 1 and 2 by $4\\beta/(k_\\perp\\rho_i)^2$ seems to give unity values in the long wave length limit. \n",
    "- For the slow waves, I used the constant values in Figure 2 (when antennas are still on). "
   ]
  }
 ],
 "metadata": {
  "kernelspec": {
   "display_name": "Python 3.6 (science)",
   "language": "python",
   "name": "science"
  },
  "language_info": {
   "codemirror_mode": {
    "name": "ipython",
    "version": 3
   },
   "file_extension": ".py",
   "mimetype": "text/x-python",
   "name": "python",
   "nbconvert_exporter": "python",
   "pygments_lexer": "ipython3",
   "version": "3.6.0"
  }
 },
 "nbformat": 4,
 "nbformat_minor": 2
}
