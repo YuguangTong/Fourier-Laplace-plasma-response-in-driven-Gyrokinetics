{
 "cells": [
  {
   "cell_type": "markdown",
   "metadata": {
    "deletable": true,
    "editable": true
   },
   "source": [
    "# #1 $\\beta_i=1$ plasma: \n",
    "- $T_e/ T_i=100$"
   ]
  },
  {
   "cell_type": "markdown",
   "metadata": {
    "deletable": true,
    "editable": true
   },
   "source": [
    "We consider plasmas with electrons much hotter than ions. \n",
    "- In fluid picture, ion sound wave has phase velocity $v = \\sqrt{(T_i + \\gamma T_e)/m_I}$\n",
    "- So the ion resonance may be supressed by increase fluid velocity.  "
   ]
  },
  {
   "cell_type": "markdown",
   "metadata": {
    "collapsed": true,
    "deletable": true,
    "editable": true
   },
   "source": [
    "<video controls src=\"../videos/nl_bi_1_mix_teti_100_E_2.mp4\", width=\"350\">"
   ]
  },
  {
   "cell_type": "markdown",
   "metadata": {
    "collapsed": true,
    "deletable": true,
    "editable": true
   },
   "source": [
    "**I realized that I need to do the linear analysis and change the driving frequency & amplitude ... **"
   ]
  },
  {
   "cell_type": "markdown",
   "metadata": {
    "deletable": true,
    "editable": true
   },
   "source": [
    "# #2  Second order structure function \n",
    "### Use local magnetic field instead of global magnetic field. \n",
    "- Follow CHK Chen et al. 2010, 2011\n",
    "- Consider $\\delta B^2_i(\\mathbf{l}) = \\left< | B_i(\\mathbf{r} + \\mathbf{l}) - B_i(\\mathbf{r}) |^2\\right>_{\\mathbf{r}}$\n",
    "- Local field: $B_{\\text{local}} = B_i(\\mathbf{r} + \\mathbf{l}) - B_i(\\mathbf{r})$.\n",
    "- Define $l_\\parallel, l_\\perp, B_\\parallel, B_\\perp$ with respect to  $B_{\\text{local}}$.\n"
   ]
  },
  {
   "cell_type": "markdown",
   "metadata": {
    "collapsed": false,
    "deletable": true,
    "editable": true
   },
   "source": [
    "<img src=\"../figures/Chen_2010.png\", width=\"450\">\n",
    "**Figure** Taken from CHK Chen (2010). "
   ]
  },
  {
   "cell_type": "markdown",
   "metadata": {
    "deletable": true,
    "editable": true
   },
   "source": [
    "## Method\n",
    "Simulation box is Elongated along $z$ direction:\n",
    "\n",
    "- $x, y \\in (0, 10\\pi), z \\in (0, 200\\pi)$, => $k_x, k_y \\ge 0.2$ and $k_z \\ge 0.01$ \n",
    "- Take $5\\times 10^5$ random pair of points in the box, caculate $\\mathbf{l}$, $\\delta \\mathbf{B}$ and $\\delta \\mathbf{B}_{\\text{local}}$."
   ]
  },
  {
   "cell_type": "markdown",
   "metadata": {
    "deletable": true,
    "editable": true
   },
   "source": [
    "<table border=\"0\">\n",
    "    <tr>\n",
    "        <td style=\"padding:2px\">\n",
    "            <img src='../figures/mix_large_8a_bperp2_lpp.png' width=\"400\">\n",
    "        </td>    \n",
    "        <td style=\"padding:5px\">\n",
    "            <img src='../figures/mix_large_8a_bperp2_ltheta.png' width=\"400\">\n",
    "        </td>\n",
    "    </tr>\n",
    "</table>\n",
    "<b> Figure  </b> $\\delta B^2_\\perp$ versus $l_\\perp$ and $l_\\parallel$ in a mixed run. \n",
    "\n",
    "<table border=\"0\">\n",
    "    <tr>\n",
    "        <td style=\"padding:2px\">\n",
    "            <img src='../figures/alfven_large_7a_bperp2_lpp.png' width=\"400\">\n",
    "        </td>    \n",
    "        <td style=\"padding:5px\">\n",
    "            <img src='../figures/alfven_large_7a_bperp2_ltheta.png' width=\"400\">\n",
    "        </td>\n",
    "    </tr>\n",
    "</table>\n",
    "<b> Figure  </b> $\\delta B^2_\\perp$ versus $l_\\perp$ and $l_\\parallel$ in an Alfven run."
   ]
  },
  {
   "cell_type": "markdown",
   "metadata": {},
   "source": [
    "- Very different from Chen et al. (2010 and 2011)\n",
    "- Can't find power law dependence of $\\delta B^2$ on $l$.\n",
    "- Using local magnetic field, $l_\\perp$ can take values much greater than $10\\sqrt{2} \\pi$. Any issue with that?"
   ]
  },
  {
   "cell_type": "markdown",
   "metadata": {
    "deletable": true,
    "editable": true
   },
   "source": [
    "### For comparison, spectra wrt global mean field $\\mathbf{B}_0$\n",
    "\n",
    "<table border=\"0\">\n",
    "    <tr>\n",
    "        <td style=\"padding:2px\">\n",
    "            <img src='../figures/nl_alfven_large_E_8.png' width=\"400\">\n",
    "        </td>    \n",
    "        <td style=\"padding:5px\">\n",
    "            <img src='../figures/nl_mix_large_E_8.png' width=\"400\">\n",
    "        </td>\n",
    "    </tr>\n",
    "</table>\n",
    "<b> Figure  </b> Satuarated power spectra of $E_{\\delta B_\\perp}$,  $E_{\\delta B_\\parallel}$, $h_i$ and $h_e$. Left panel is Alfven mode run, right panel is for the mixed-mode run."
   ]
  },
  {
   "cell_type": "code",
   "execution_count": null,
   "metadata": {
    "collapsed": true,
    "deletable": true,
    "editable": true
   },
   "outputs": [],
   "source": []
  }
 ],
 "metadata": {
  "kernelspec": {
   "display_name": "Python 3.6 (tensorflow)",
   "language": "python",
   "name": "tensorflow"
  },
  "language_info": {
   "codemirror_mode": {
    "name": "ipython",
    "version": 3
   },
   "file_extension": ".py",
   "mimetype": "text/x-python",
   "name": "python",
   "nbconvert_exporter": "python",
   "pygments_lexer": "ipython3",
   "version": "3.6.0"
  },
  "widgets": {
   "state": {},
   "version": "1.1.2"
  }
 },
 "nbformat": 4,
 "nbformat_minor": 0
}
