{
 "cells": [
  {
   "cell_type": "markdown",
   "metadata": {},
   "source": [
    "<h1> $\\beta_i = 1$ plasmas </h1>"
   ]
  },
  {
   "cell_type": "markdown",
   "metadata": {},
   "source": [
    "<h2> Summary </h2>\n",
    "- We made linear runs to choose the driving amplitudes that should pump comparable energy into slow modes and Alfven modes.\n",
    "- We verified that the chosen ion and electron collisionality work well to produce Alfven dispersion relation that agree reasonably well with dispersion relation in the hot kinetic plasmas.\n",
    "- We did nonlinear runs (still running) on a smaller grid ($32\\times 32\\times 32$ in physical space) on a single Haswell node (32 processors) on Nersc/Cori.\n",
    "\n",
    "<h2> linear simulation</h2>\n",
    "In hot kinetic plasma:\n",
    "- Alfven mode $\\overline{\\omega}_0=1.005 -0.002 i$\n",
    "- slow mode $\\overline{\\omega}_0=1.25-0.88i$\n",
    "\n",
    "Figures below show the Alfven and slow modes in linear gyrokinetic simulations. \n",
    "- Alfven mode is well excited and decays very slowly\n",
    "- $u_\\parallel$ antenna excite both Alfven and slow modes since the two modes have very similar frequencies. \n",
    "- In case of $u_\\parallel$ antenna driving, $MVA\\sim 0.1$ => $E_{slow} \\sim 10 E_{alfven}$"
   ]
  },
  {
   "cell_type": "markdown",
   "metadata": {},
   "source": [
    "<table border=\"0\">\n",
    "    <tr>\n",
    "        <td style=\"padding:5px\">\n",
    "            <img src='../figures/lin_bi_1_alfven_Ebperp_1.png' width=\"400\">\n",
    "        </td>\n",
    "        <td style=\"padding:5px\">\n",
    "            <img src='../figures/lin_bi_1_alfven_mva_1.png' width=\"400\">         \n",
    "        </td>\n",
    "    </tr>\n",
    "</table>\n",
    "\n",
    "<b>Figure 1</b> $E_{B_\\perp}$ and $MVA$ in a linear run with $A_\\parallel$ antenna exciting Alfven waves.\n",
    "\n",
    "\n",
    "<table border=\"0\">\n",
    "    <tr>\n",
    "        <td style=\"padding:5px\">\n",
    "            <img src='../figures/lin_bi_1_slow_Ebpar_1.png' width=\"400\">\n",
    "        </td>\n",
    "        <td style=\"padding:5px\">\n",
    "            <img src='../figures/lin_bi_1_slow_mva_1.png' width=\"400\">         \n",
    "        </td>\n",
    "    </tr>\n",
    "</table>\n",
    "\n",
    "<b>Figure 2</b> $E_{B_\\parallel}$ and $MVA$ in a linear run with $u_\\parallel$ antenna exciting slow waves."
   ]
  },
  {
   "cell_type": "markdown",
   "metadata": {},
   "source": [
    "<h2> confirm collision rate </h2>\n",
    "\n",
    "- For the linear run, we used $\\mu_i=0.1$ and $\\mu_e=0.5$. \n",
    "- Below we check that the AstroGK linear dispersion relation is close to the hot kinetic plasma Alfven solution.\n",
    "- We skip the comparison for slow waves because it is too heavily damped to obtain dispersion relation in AstroGK linear simulation."
   ]
  },
  {
   "cell_type": "code",
   "execution_count": 1,
   "metadata": {
    "collapsed": true
   },
   "outputs": [],
   "source": [
    "import pandas as pd"
   ]
  },
  {
   "cell_type": "markdown",
   "metadata": {},
   "source": [
    "We fit $E_{B_{\\perp}} (t)$ by exponential model and obtain dispersion relation of the Alfven modes in the AstroGK linear simulations."
   ]
  },
  {
   "cell_type": "code",
   "execution_count": 2,
   "metadata": {
    "collapsed": false
   },
   "outputs": [],
   "source": [
    "df = pd.DataFrame()\n",
    "kperp = [0.2, 1.0, 2.0, 4.0, 8.0]\n",
    "hot_wr = [1.00508064, 1.13655115, 1.57770556 ,2.8990671, 5.71804829]\n",
    "hot_wi = [-0.00185854, -0.0327562, -0.06670535, -0.21006724, -0.81787136]\n",
    "agk_wr = [1.01, 1.142, 1.583, 2.911, 5.72]\n",
    "agk_wi = [-0.0023, -0.036, -0.075, -0.23, -0.86]\n",
    "df[r'$k_\\perp$'] = kperp\n",
    "df[r'hot $\\overline{\\omega}_r$'] = hot_wr\n",
    "df[r'hot $\\overline{\\omega}_i$'] = hot_wi\n",
    "df[r'agk $\\overline{\\omega}_r$'] = agk_wr\n",
    "df[r'agk $\\overline{\\omega}_i$'] = agk_wi\n",
    "df[r'hot $\\overline{\\omega}_r$'] = df[r'hot $\\overline{\\omega}_r$'].map('{:,.2f}'.format)\n",
    "df[r'hot $\\overline{\\omega}_i$'] = df[r'hot $\\overline{\\omega}_i$'].map('{:,.2g}'.format)\n",
    "df[r'agk $\\overline{\\omega}_r$'] = df[r'agk $\\overline{\\omega}_r$'].map('{:,.2f}'.format)\n",
    "df[r'agk $\\overline{\\omega}_i$'] = df[r'agk $\\overline{\\omega}_i$'].map('{:,.2g}'.format)"
   ]
  },
  {
   "cell_type": "code",
   "execution_count": 3,
   "metadata": {
    "collapsed": false
   },
   "outputs": [
    {
     "data": {
      "text/html": [
       "<div>\n",
       "<table border=\"1\" class=\"dataframe\">\n",
       "  <thead>\n",
       "    <tr style=\"text-align: right;\">\n",
       "      <th></th>\n",
       "      <th>$k_\\perp$</th>\n",
       "      <th>hot $\\overline{\\omega}_r$</th>\n",
       "      <th>hot $\\overline{\\omega}_i$</th>\n",
       "      <th>agk $\\overline{\\omega}_r$</th>\n",
       "      <th>agk $\\overline{\\omega}_i$</th>\n",
       "    </tr>\n",
       "  </thead>\n",
       "  <tbody>\n",
       "    <tr>\n",
       "      <th>0</th>\n",
       "      <td>0.2</td>\n",
       "      <td>1.01</td>\n",
       "      <td>-0.0019</td>\n",
       "      <td>1.01</td>\n",
       "      <td>-0.0023</td>\n",
       "    </tr>\n",
       "    <tr>\n",
       "      <th>1</th>\n",
       "      <td>1.0</td>\n",
       "      <td>1.14</td>\n",
       "      <td>-0.033</td>\n",
       "      <td>1.14</td>\n",
       "      <td>-0.036</td>\n",
       "    </tr>\n",
       "    <tr>\n",
       "      <th>2</th>\n",
       "      <td>2.0</td>\n",
       "      <td>1.58</td>\n",
       "      <td>-0.067</td>\n",
       "      <td>1.58</td>\n",
       "      <td>-0.075</td>\n",
       "    </tr>\n",
       "    <tr>\n",
       "      <th>3</th>\n",
       "      <td>4.0</td>\n",
       "      <td>2.90</td>\n",
       "      <td>-0.21</td>\n",
       "      <td>2.91</td>\n",
       "      <td>-0.23</td>\n",
       "    </tr>\n",
       "    <tr>\n",
       "      <th>4</th>\n",
       "      <td>8.0</td>\n",
       "      <td>5.72</td>\n",
       "      <td>-0.82</td>\n",
       "      <td>5.72</td>\n",
       "      <td>-0.86</td>\n",
       "    </tr>\n",
       "  </tbody>\n",
       "</table>\n",
       "</div>"
      ],
      "text/plain": [
       "   $k_\\perp$ hot $\\overline{\\omega}_r$ hot $\\overline{\\omega}_i$  \\\n",
       "0        0.2                      1.01                   -0.0019   \n",
       "1        1.0                      1.14                    -0.033   \n",
       "2        2.0                      1.58                    -0.067   \n",
       "3        4.0                      2.90                     -0.21   \n",
       "4        8.0                      5.72                     -0.82   \n",
       "\n",
       "  agk $\\overline{\\omega}_r$ agk $\\overline{\\omega}_i$  \n",
       "0                      1.01                   -0.0023  \n",
       "1                      1.14                    -0.036  \n",
       "2                      1.58                    -0.075  \n",
       "3                      2.91                     -0.23  \n",
       "4                      5.72                     -0.86  "
      ]
     },
     "execution_count": 3,
     "metadata": {},
     "output_type": "execute_result"
    }
   ],
   "source": [
    "df"
   ]
  },
  {
   "cell_type": "markdown",
   "metadata": {},
   "source": [
    "<b>Table 1.</b> We compare the Alfven wave freqeuency in AstroGK linear simulations with that in hot kinetic plasma. \n",
    "\n",
    "- The real part agrees fairly well, the imaginary part has ~$5-15\\%$ difference."
   ]
  },
  {
   "cell_type": "markdown",
   "metadata": {},
   "source": [
    "<h2> Driving amplitude </h2>\n",
    "\n",
    "The Alfven waves are driven by the $A_0$ antenna at $\\overline{\\omega}_0=0.9$\n",
    "- $E_{B_\\parallel}=3.95\\times10^{-4}A_0^2$ and $E_{B_\\perp}=0.0584A_0^2$\n",
    "\n",
    "The slow waves are driven by the $u_0$ antenna at $\\overline{\\omega}_0=1.1$\n",
    "- $E_{B_\\parallel}=0.35 u_0^2$ and $E_{B_\\perp}=0.0363 u_0^2$\n",
    "\n",
    "Hence we determine that to achieve equal energy in both modes, we need driving amplitude:\n",
    "- $A_0 = 30$ (for strong turbulence)\n",
    "- $u_0 = 12.9$"
   ]
  },
  {
   "cell_type": "markdown",
   "metadata": {},
   "source": [
    "<table border=\"0\">\n",
    "    <tr>\n",
    "        <td style=\"padding:5px\">\n",
    "            <img src='../figures/lin_bi_1_mix_Ebperp_1.png' width=\"400\">\n",
    "        </td>\n",
    "        <td style=\"padding:5px\">\n",
    "            <img src='../figures/lin_bi_1_mix_mva_1.png' width=\"400\">         \n",
    "        </td>\n",
    "    </tr>\n",
    "</table>\n",
    "\n",
    "<b>Figure 3</b> $E_{B_\\perp}$ and $MVA$ in a linear run with both Alfven and slow mode."
   ]
  },
  {
   "cell_type": "markdown",
   "metadata": {},
   "source": [
    "<h2> Nonlinear simulations </h2>\n",
    "\n",
    "We make nonliear runs on a smaller grid ($32\\times 32\\times 32$ in physical space) on a single Haswell node (32 processors) on Nersc/Cori. \n",
    "- The spectrum have not saturated yet. \n",
    "- So far, we couldn't see the difference between the difference between two simulations."
   ]
  },
  {
   "cell_type": "markdown",
   "metadata": {},
   "source": [
    "<table border=\"0\">\n",
    "    <tr>\n",
    "        <td style=\"padding:5px\">\n",
    "            <video controls src=\"../videos/nl_bi_1_mix_mva_1.mp4\", width=\"400\"/>\n",
    "          </td>\n",
    "        <td style=\"padding:5px\">\n",
    "            <video controls src=\"../videos/nl_bi_1_mix_E_1.mp4\", width=\"400\"/>\n",
    "         </td>\n",
    "    </tr>\n",
    "</table>\n",
    "\n",
    "<b>Video 1</b> MVA and energy spectrum in a nonlinear run in which both Alfven and slow modes. The Alfven mode is driven by $A_0$ antenna with frequency $\\overline{\\omega}_0=0.9$ and decorrelation rate $DR=0.8$, and antenna amplitude $A_0=30$. The slow mode is driven by $A_0$ antenna with frequency $\\overline{\\omega}_0=1.1$ and decorrelation rate $DR=0$ and antenna amplitude $u_0=19.2$\n",
    "\n",
    "<table border=\"0\">\n",
    "    <tr>\n",
    "        <td style=\"padding:5px\">\n",
    "            <video controls src=\"../videos/nl_bi_1_alfven_mva_1.mp4\", width=\"400\"/>\n",
    "          </td>\n",
    "        <td style=\"padding:5px\">\n",
    "            <video controls src=\"../videos/nl_bi_1_alfven_E_1.mp4\", width=\"400\"/>\n",
    "         </td>\n",
    "    </tr>\n",
    "</table>\n",
    "\n",
    "<b>Video 2</b> MVA and energy spectrum in a nonlinear run with only Alfven mode.  The Alfven mode is driven by $A_0$ antenna with frequency $\\overline{\\omega}_0=0.9$ and decorrelation rate $DR=0.8$. The antenna amplitude is $A_0=30$."
   ]
  },
  {
   "cell_type": "markdown",
   "metadata": {},
   "source": [
    "<br><br>\n",
    "<hr>\n",
    "<br><br>\n",
    "<h1> $\\beta_i = 0.01$ plasmas </h1>"
   ]
  },
  {
   "cell_type": "markdown",
   "metadata": {},
   "source": [
    "\n",
    "<h2> Summary </h2>\n",
    "- We made a long expansion run\n",
    "- Both electron and ion spectrum look bottlenecked. We look into adjusting hypercollisionality parameters.\n",
    "\n",
    "<h2> After expansion</h2>\n",
    "- double $k_x$ and $k_y$\n",
    "- continue run on 512 processors\n",
    "\n",
    "Run speed:\n",
    "- step size = $4.88\\times 10^{-6}$\n",
    "- speed = 555 min / 18000 steps = 0.031 min/step"
   ]
  },
  {
   "cell_type": "markdown",
   "metadata": {
    "collapsed": true
   },
   "source": [
    "<h3> spectrum evolution: first long expanded run</h3>\n",
    "<table border=\"0\">\n",
    "    <tr>\n",
    "        <td style=\"padding:5px\">\n",
    "            <video controls src=\"../videos/nl_mix_large_mva_2.mp4\", width=\"400\"/>\n",
    "          </td>\n",
    "        <td style=\"padding:5px\">\n",
    "            <video controls src=\"../videos/nl_mix_large_E_2.mp4\", width=\"400\"/>\n",
    "         </td>\n",
    "    </tr>\n",
    "</table>\n",
    "<b>Video 3</b> MVA and energy spectrum in a nonlinear run with both Alfven and slow modes. \n",
    "\n",
    "<table border=\"0\">\n",
    "    <tr>\n",
    "        <td style=\"padding:5px\">\n",
    "            <video controls src=\"../videos/nl_alfven_large_mva_2.mp4\", width=\"400\"/>\n",
    "          </td>\n",
    "        <td style=\"padding:5px\">\n",
    "            <video controls src=\"../videos/nl_alfven_large_E_2.mp4\", width=\"400\"/>\n",
    "         </td>\n",
    "    </tr>\n",
    "</table>\n",
    "<b>Video 4</b> MVA and energy spectrum in a nonlinear run with only Alfven and mode. "
   ]
  },
  {
   "cell_type": "markdown",
   "metadata": {},
   "source": [
    "<h2> Collision parameters </h2>\n",
    "\n",
    "We look for $2\\pi\\gamma_{tot}\\sim \\omega_{NL}$. Below we show diagnostics of collisionality and hypercollisionality in a few runs restarting from the mixed mode run shown in Video 3. \n",
    "- short horizontal dashed lines in figures below reference $1/2\\pi$"
   ]
  },
  {
   "cell_type": "markdown",
   "metadata": {},
   "source": [
    "<table border=\"0\">\n",
    "    <tr>\n",
    "        <td style=\"padding:2px\">\n",
    "            <img src='../figures/mix_large_4a_elec.png' width=\"300\">\n",
    "        </td>\n",
    "        <td style=\"padding:2px\">\n",
    "            <img src='../figures/mix_large_4a_ion.png' width=\"300\">         \n",
    "        </td>\n",
    "        <td style=\"padding:2px\">\n",
    "            <video controls src=\"../videos/nl_mix_large_E_2.mp4\", width=\"300\"/>\n",
    "         </td>\n",
    "    </tr>\n",
    "</table>\n",
    "\n",
    "<b>Figure 4</b> Electron `max_nuh`$=10$ and ion `nu_h`=1.\n",
    "\n",
    "<table border=\"0\">\n",
    "    <tr>\n",
    "        <td style=\"padding:2px\">\n",
    "            <img src='../figures/mix_large_4b_elec.png' width=\"300\">\n",
    "        </td>\n",
    "        <td style=\"padding:2px\">\n",
    "            <img src='../figures/mix_large_4b_ion.png' width=\"300\">         \n",
    "        </td>\n",
    "        <td style=\"padding:2px\">\n",
    "            <video controls src=\"../videos/nl_mix_large_E_4b.mp4\", width=\"300\"/>\n",
    "         </td>        \n",
    "    </tr>\n",
    "</table>\n",
    "<b>Figure 5</b> Electron `max_nuh`$=10^3$ and ion `nu_h`=1.\n",
    "\n",
    "<table border=\"0\">\n",
    "    <tr>\n",
    "        <td style=\"padding:2px\">\n",
    "            <img src='../figures/mix_large_4c_elec.png' width=\"300\">\n",
    "        </td>\n",
    "        <td style=\"padding:2px\">\n",
    "            <img src='../figures/mix_large_4c_ion.png' width=\"300\">         \n",
    "        </td>\n",
    "        <td style=\"padding:2px\">\n",
    "            <video controls src=\"../videos/nl_mix_large_E_4c.mp4\", width=\"300\"/>\n",
    "        </td>        \n",
    "    </tr>\n",
    "</table>\n",
    "<b>Figure 6</b> Electron `max_nuh`$=10^4$ and ion `nu_h`=1.\n",
    "\n",
    "<table border=\"0\">\n",
    "    <tr>\n",
    "        <td style=\"padding:2px\">\n",
    "            <img src='../figures/mix_large_4d_elec.png' width=\"300\">\n",
    "        </td>\n",
    "        <td style=\"padding:2px\">\n",
    "            <img src='../figures/mix_large_4d_ion.png' width=\"300\">         \n",
    "        </td>\n",
    "        <td style=\"padding:2px\">\n",
    "            <video controls src=\"../videos/nl_mix_large_E_4d.mp4\", width=\"300\"/>\n",
    "        </td>        \n",
    "    </tr>\n",
    "</table>\n",
    "<b>Figure 7</b> Electron `max_nuh`$=10^4$ and ion `nu_h`=10.\n",
    "\n",
    "<table border=\"0\">\n",
    "    <tr>\n",
    "        <td style=\"padding:2px\">\n",
    "            <img src='../figures/mix_large_4e_elec.png' width=\"300\">\n",
    "        </td>\n",
    "        <td style=\"padding:2px\">\n",
    "            <img src='../figures/mix_large_4e_ion.png' width=\"300\">         \n",
    "        </td>      \n",
    "    </tr>\n",
    "</table>\n",
    "<b>Figure 8</b> Electron `max_nuh`$=5\\times10^3$ and ion `nu_h`=1."
   ]
  },
  {
   "cell_type": "markdown",
   "metadata": {},
   "source": [
    "It seems that Electron `max_nuh`$\\sim 5000$ and ion `nu_h`=1 maybe better. (waiting for simulation to finish)"
   ]
  },
  {
   "cell_type": "code",
   "execution_count": null,
   "metadata": {
    "collapsed": true
   },
   "outputs": [],
   "source": []
  }
 ],
 "metadata": {
  "kernelspec": {
   "display_name": "Python3 (data science)",
   "language": "python",
   "name": "ds"
  },
  "language_info": {
   "codemirror_mode": {
    "name": "ipython",
    "version": 3
   },
   "file_extension": ".py",
   "mimetype": "text/x-python",
   "name": "python",
   "nbconvert_exporter": "python",
   "pygments_lexer": "ipython3",
   "version": "3.5.2"
  },
  "widgets": {
   "state": {},
   "version": "1.1.2"
  }
 },
 "nbformat": 4,
 "nbformat_minor": 0
}
