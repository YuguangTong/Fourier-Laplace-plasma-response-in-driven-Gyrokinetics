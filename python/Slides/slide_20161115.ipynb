{
 "cells": [
  {
   "cell_type": "markdown",
   "metadata": {},
   "source": [
    "<h1> $\\beta_i = 1$ plasmas </h1>\n",
    "<h2> linear simulation</h2>\n",
    "In hot kinetic plasma:\n",
    "- Alfven mode $\\overline{\\omega}_0=1.005 -0.002 i$\n",
    "- slow mode $\\overline{\\omega}_0=1.25-0.88i$\n",
    "\n",
    "Figures below show the Alfven and slow modes in linear gyrokinetic simulations. \n",
    "- Alfven mode is well excited and decays very slowly\n",
    "- $u_\\parallel$ antenna excite both Alfven and slow modes since the two modes have very similar frequencies. \n",
    "- In case of $u_\\parallel$ antenna driving, $MVA\\sim 0.1$ => $E_{slow} \\sim 10 E_{alfven}$"
   ]
  },
  {
   "cell_type": "markdown",
   "metadata": {},
   "source": [
    "<table border=\"0\">\n",
    "    <tr>\n",
    "        <td style=\"padding:5px\">\n",
    "            <img src='../figures/lin_bi_1_alfven_Ebperp_1.png' width=\"400\">\n",
    "        </td>\n",
    "        <td style=\"padding:5px\">\n",
    "            <img src='../figures/lin_bi_1_alfven_mva_1.png' width=\"400\">         \n",
    "        </td>\n",
    "    </tr>\n",
    "</table>\n",
    "\n",
    "<b>Figure 1</b> $E_{B_\\perp}$ and $MVA$ in a linear run with $A_\\parallel$ antenna exciting Alfven waves.\n",
    "\n",
    "\n",
    "<table border=\"0\">\n",
    "    <tr>\n",
    "        <td style=\"padding:5px\">\n",
    "            <img src='../figures/lin_bi_1_slow_Ebpar_1.png' width=\"400\">\n",
    "        </td>\n",
    "        <td style=\"padding:5px\">\n",
    "            <img src='../figures/lin_bi_1_slow_mva_1.png' width=\"400\">         \n",
    "        </td>\n",
    "    </tr>\n",
    "</table>\n",
    "\n",
    "<b>Figure 2</b> $E_{B_\\parallel}$ and $MVA$ in a linear run with $u_\\parallel$ antenna exciting slow waves."
   ]
  },
  {
   "cell_type": "markdown",
   "metadata": {},
   "source": [
    "<h3> Driving amplitude </h3>\n",
    "\n",
    "The Alfven waves are driven by the $A_0$ antenna at $\\overline{\\omega}_0=0.9$\n",
    "- $E_{B_\\parallel}=3.95\\times10^{-4}A_0^2$ and $E_{B_\\perp}=0.0584A_0^2$\n",
    "\n",
    "The slow waves are driven by the $u_0$ antenna at $\\overline{\\omega}_0=1.1$\n",
    "- $E_{B_\\parallel}=0.35 u_0^2$ and $E_{B_\\perp}=0.0363 u_0^2$\n",
    "\n",
    "Hence we determine that to achieve equal energy in both modes, we need driving amplitude:\n",
    "- $A_0 = 30$ (for strong turbulence)\n",
    "- $u_0 = 12.9$"
   ]
  },
  {
   "cell_type": "markdown",
   "metadata": {},
   "source": [
    "<table border=\"0\">\n",
    "    <tr>\n",
    "        <td style=\"padding:5px\">\n",
    "            <img src='../figures/lin_bi_1_mix_Ebperp_1.png' width=\"400\">\n",
    "        </td>\n",
    "        <td style=\"padding:5px\">\n",
    "            <img src='../figures/lin_bi_1_mix_mva_1.png' width=\"400\">         \n",
    "        </td>\n",
    "    </tr>\n",
    "</table>\n",
    "\n",
    "<b>Figure 3</b> $E_{B_\\perp}$ and $MVA$ in a linear run with both Alfven and slow mode."
   ]
  },
  {
   "cell_type": "markdown",
   "metadata": {},
   "source": [
    "<h2> Nonlinear simulations </h2>"
   ]
  },
  {
   "cell_type": "markdown",
   "metadata": {},
   "source": [
    "<table border=\"0\">\n",
    "    <tr>\n",
    "        <td style=\"padding:5px\">\n",
    "            <video controls src=\"../videos/nl_bi_1_mix_mva_1.mp4\", width=\"400\"/>\n",
    "          </td>\n",
    "        <td style=\"padding:5px\">\n",
    "            <video controls src=\"../videos/nl_bi_1_mix_E_1.mp4\", width=\"400\"/>\n",
    "         </td>\n",
    "    </tr>\n",
    "</table>\n",
    "\n",
    "<b>Video 1</b> MVA and energy spectrum in a nonlinear run in which both Alfven and slow modes. The Alfven mode is driven by $A_0$ antenna with frequency $\\overline{\\omega}_0=0.9$ and decorrelation rate $DR=0.8$, and antenna amplitude $A_0=30$. The slow mode is driven by $A_0$ antenna with frequency $\\overline{\\omega}_0=1.1$ and decorrelation rate $DR=0$ and antenna amplitude $u_0=19.2$\n",
    "\n",
    "<table border=\"0\">\n",
    "    <tr>\n",
    "        <td style=\"padding:5px\">\n",
    "            <video controls src=\"../videos/nl_bi_1_alfven_mva_1.mp4\", width=\"400\"/>\n",
    "          </td>\n",
    "        <td style=\"padding:5px\">\n",
    "            <video controls src=\"../videos/nl_bi_1_alfven_E_1.mp4\", width=\"400\"/>\n",
    "         </td>\n",
    "    </tr>\n",
    "</table>\n",
    "\n",
    "<b>Video 2</b> MVA and energy spectrum in a nonlinear run with only Alfven mode.  The Alfven mode is driven by $A_0$ antenna with frequency $\\overline{\\omega}_0=0.9$ and decorrelation rate $DR=0.8$. The antenna amplitude is $A_0=30$."
   ]
  },
  {
   "cell_type": "markdown",
   "metadata": {},
   "source": [
    "<br><br>\n",
    "<hr>\n",
    "<br><br>\n",
    "<h1> $\\beta_i = 0.01$ plasmas </h1>\n",
    "<h2> After expansion</h2>\n",
    "- double $k_x$ and $k_y$\n",
    "- continue run on 512 processors\n",
    "\n",
    "Run speed:\n",
    "- step size = $4.88\\times 10^{-6}$\n",
    "- speed = 555 min / 18000 steps = 0.031 min/step"
   ]
  },
  {
   "cell_type": "markdown",
   "metadata": {
    "collapsed": true
   },
   "source": [
    "<h3> spectrum evolution: first long expanded run</h3>\n",
    "<table border=\"0\">\n",
    "    <tr>\n",
    "        <td style=\"padding:5px\">\n",
    "            <video controls src=\"../videos/nl_mix_large_mva_2.mp4\", width=\"400\"/>\n",
    "          </td>\n",
    "        <td style=\"padding:5px\">\n",
    "            <video controls src=\"../videos/nl_mix_large_E_2.mp4\", width=\"400\"/>\n",
    "         </td>\n",
    "    </tr>\n",
    "</table>\n",
    "<b>Video 3</b> MVA and energy spectrum in a nonlinear run with both Alfven and slow modes. \n",
    "\n",
    "<table border=\"0\">\n",
    "    <tr>\n",
    "        <td style=\"padding:5px\">\n",
    "            <video controls src=\"../videos/nl_alfven_large_mva_2.mp4\", width=\"400\"/>\n",
    "          </td>\n",
    "        <td style=\"padding:5px\">\n",
    "            <video controls src=\"../videos/nl_alfven_large_E_2.mp4\", width=\"400\"/>\n",
    "         </td>\n",
    "    </tr>\n",
    "</table>\n",
    "<b>Video 4</b> MVA and energy spectrum in a nonlinear run with only Alfven and mode. "
   ]
  },
  {
   "cell_type": "code",
   "execution_count": null,
   "metadata": {
    "collapsed": true
   },
   "outputs": [],
   "source": [
    "18000/555 * 48 * 60 "
   ]
  },
  {
   "cell_type": "code",
   "execution_count": 2,
   "metadata": {
    "collapsed": false
   },
   "outputs": [],
   "source": [
    "import numpy as np\n",
    "bi = 0.01\n",
    "per = 2*np.pi*np.sqrt(bi)/1"
   ]
  },
  {
   "cell_type": "code",
   "execution_count": 5,
   "metadata": {
    "collapsed": false
   },
   "outputs": [
    {
     "data": {
      "text/plain": [
       "0.13980170201192088"
      ]
     },
     "execution_count": 5,
     "metadata": {},
     "output_type": "execute_result"
    }
   ],
   "source": [
    "4.88e-6 * 18000 / per"
   ]
  },
  {
   "cell_type": "code",
   "execution_count": 6,
   "metadata": {
    "collapsed": false
   },
   "outputs": [
    {
     "data": {
      "text/plain": [
       "0.030833333333333334"
      ]
     },
     "execution_count": 6,
     "metadata": {},
     "output_type": "execute_result"
    }
   ],
   "source": [
    "555/18000"
   ]
  },
  {
   "cell_type": "code",
   "execution_count": null,
   "metadata": {
    "collapsed": true
   },
   "outputs": [],
   "source": []
  }
 ],
 "metadata": {
  "kernelspec": {
   "display_name": "Python3 (data science)",
   "language": "python",
   "name": "ds"
  },
  "language_info": {
   "codemirror_mode": {
    "name": "ipython",
    "version": 3
   },
   "file_extension": ".py",
   "mimetype": "text/x-python",
   "name": "python",
   "nbconvert_exporter": "python",
   "pygments_lexer": "ipython3",
   "version": "3.5.2"
  },
  "widgets": {
   "state": {},
   "version": "1.1.2"
  }
 },
 "nbformat": 4,
 "nbformat_minor": 0
}
