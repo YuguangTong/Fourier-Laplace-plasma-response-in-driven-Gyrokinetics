{
 "cells": [
  {
   "cell_type": "markdown",
   "metadata": {
    "deletable": true,
    "editable": true
   },
   "source": [
    "# #1 $\\beta_i=0.01$ plasma: "
   ]
  },
  {
   "cell_type": "markdown",
   "metadata": {
    "collapsed": true,
    "deletable": true,
    "editable": true
   },
   "source": [
    "Issue: \n",
    "- slow wave seem to cascade, and the energy fraction remains about 10% across scales\n",
    "- ion heating is enhanced by 300 times with slow mode antenna on"
   ]
  },
  {
   "cell_type": "markdown",
   "metadata": {
    "deletable": true,
    "editable": true
   },
   "source": [
    "Alternatively, consider plasmas with electrons much hotter than ions. \n",
    "- $T_e/ T_i=100$\n",
    "- In fluid picture, ion sound wave has phase velocity $v = \\sqrt{(T_i + \\gamma T_e)/m_I}$\n",
    "- So the ion resonance may be supressed by increase fluid velocity.  "
   ]
  },
  {
   "cell_type": "markdown",
   "metadata": {
    "collapsed": true,
    "deletable": true,
    "editable": true
   },
   "source": [
    "Linear Vlasov theory, at $k\\rho_i = 0.2$ and quasi-perpendicular $\\vec{k}$\n",
    "- $\\overline{\\omega}_{\\text{Alfven}} = 1.59 - 0.056i$ \n",
    "- $\\overline{\\omega}_{\\text{slow}} = 0.38 - 1.6\\times 10^{-3} i $\n",
    "- Alfven wave is more damped!"
   ]
  },
  {
   "cell_type": "code",
   "execution_count": 6,
   "metadata": {
    "collapsed": false
   },
   "outputs": [
    {
     "name": "stdout",
     "output_type": "stream",
     "text": [
      "-rw-r--r--@ 1 Tong  staff  29136 Feb 11 00:14 ../figures/lin_bi_001_teti_100_slow_2.png\r\n"
     ]
    }
   ],
   "source": [
    "!ls -l ../figures/lin_bi_001_teti_100_slow_2.png"
   ]
  },
  {
   "cell_type": "markdown",
   "metadata": {
    "deletable": true,
    "editable": true
   },
   "source": [
    "### AstroGK linear tests\n",
    "\n",
    "<table border=\"5\">\n",
    "    <tr>\n",
    "        <td style=\"padding:5px\">\n",
    "            <img src='../figures/lin_bi_001_teti_100_Alfven_1.png' width=\"400\">\n",
    "        </td>    \n",
    "        <td style=\"padding:5px\">\n",
    "            <img src='../figures/lin_bi_001_teti_100_slow_1.png' width=\"400\">\n",
    "        </td>\n",
    "    </tr>\n",
    "    <tr>\n",
    "        <td style=\"padding:5px\">\n",
    "            <img src='../figures/lin_bi_001_teti_100_Alfven_2.png' width=\"400\">\n",
    "        </td>    \n",
    "        <td style=\"padding:5px\">\n",
    "            <img src='../figures/lin_bi_001_teti_100_slow_2.png' width=\"400\">\n",
    "        </td>\n",
    "    </tr>\n",
    "    <tr>\n",
    "        <td style=\"padding:5px\">\n",
    "            <img src='../figures/lin_bi_001_teti_100_Alfven_3.png' width=\"350\">\n",
    "        </td>    \n",
    "        <td style=\"padding:5px\">\n",
    "            <img src='../figures/lin_bi_001_teti_100_slow_3.png' width=\"400\">\n",
    "        </td>        \n",
    "    </tr>\n",
    "</table>\n",
    "\n",
    "<b> Figure </b>  Linear run on AstroGK. In particular, slow mode is well excited. "
   ]
  },
  {
   "cell_type": "markdown",
   "metadata": {
    "deletable": true,
    "editable": true
   },
   "source": [
    "### AstroGK nonlinear runs\n",
    "\n",
    "- Placeholder for now"
   ]
  },
  {
   "cell_type": "markdown",
   "metadata": {
    "deletable": true,
    "editable": true
   },
   "source": [
    "<video controls src=\"../videos/nl_bi_001_teti_100_slow_E_1.mp4\" width=\"450\">"
   ]
  },
  {
   "cell_type": "markdown",
   "metadata": {
    "deletable": true,
    "editable": true
   },
   "source": [
    "**Video** Nonlinear run with only slow mode antenna. Antenna drives at $\\overline{\\omega} = 0.34$."
   ]
  },
  {
   "cell_type": "markdown",
   "metadata": {
    "deletable": true,
    "editable": true
   },
   "source": [
    "# #2  Second order structure function \n",
    "### Use local magnetic field instead of global magnetic field. \n",
    "- Follow CHK Chen et al. 2010, 2011\n",
    "- Consider $\\delta B^2_i(\\mathbf{l}) = \\left< | B_i(\\mathbf{r} + \\mathbf{l}) - B_i(\\mathbf{r}) |^2\\right>_{\\mathbf{r}}$\n",
    "- Local field: $B_{\\text{local}} = B_i(\\mathbf{r} + \\mathbf{l}) - B_i(\\mathbf{r})$.\n",
    "- Define $l_\\parallel, l_\\perp, B_\\parallel, B_\\perp$ with respect to  $B_{\\text{local}}$.\n"
   ]
  },
  {
   "cell_type": "markdown",
   "metadata": {
    "collapsed": false,
    "deletable": true,
    "editable": true
   },
   "source": [
    "<img src=\"../figures/Chen_2010.png\" width=\"450\">\n",
    "**Figure** Taken from CHK Chen (2010). "
   ]
  },
  {
   "cell_type": "markdown",
   "metadata": {
    "deletable": true,
    "editable": true
   },
   "source": [
    "## Method\n",
    "Simulation box is Elongated along $z$ direction:\n",
    "\n",
    "- $x, y \\in (0, 10\\pi), z \\in (0, 100\\pi)$ \n",
    "- Take $5\\times 10^5$ random pair of points in the box, caculate $\\mathbf{l}$, $\\delta \\mathbf{B}$ and $\\delta \\mathbf{B}_{\\text{local}}$.\n",
    "- $B_0= 1000$"
   ]
  },
  {
   "cell_type": "markdown",
   "metadata": {
    "deletable": true,
    "editable": true
   },
   "source": [
    "** Placeholder for now **"
   ]
  },
  {
   "cell_type": "markdown",
   "metadata": {
    "deletable": true,
    "editable": true
   },
   "source": [
    "### For comparison, spectra wrt global mean field $\\mathbf{B}_0$\n",
    "\n",
    "<table border=\"0\">\n",
    "    <tr>\n",
    "        <td style=\"padding:2px\">\n",
    "            <img src='../figures/nl_alfven_large_E_8.png' width=\"350\">\n",
    "        </td>    \n",
    "        <td style=\"padding:5px\">\n",
    "            <img src='../figures/nl_mix_large_E_8.png' width=\"350\">\n",
    "        </td>\n",
    "    </tr>\n",
    "</table>\n",
    "<b> Figure  </b> Satuarated power spectra of $E_{\\delta B_\\perp}$,  $E_{\\delta B_\\parallel}$, $h_i$ and $h_e$. Left panel is Alfven mode run, right panel is for the mixed-mode run."
   ]
  },
  {
   "cell_type": "markdown",
   "metadata": {
    "collapsed": false,
    "deletable": true,
    "editable": true
   },
   "source": [
    "# #3 Wave mode diagnostic using other \"transport ratios\""
   ]
  },
  {
   "cell_type": "markdown",
   "metadata": {
    "collapsed": true,
    "deletable": true,
    "editable": true
   },
   "source": [
    "## MMS case study\n",
    "\n",
    "### Placeholder for now"
   ]
  },
  {
   "cell_type": "code",
   "execution_count": null,
   "metadata": {
    "collapsed": true,
    "deletable": true,
    "editable": true
   },
   "outputs": [],
   "source": []
  }
 ],
 "metadata": {
  "kernelspec": {
   "display_name": "Python 3.6 (tensorflow)",
   "language": "python",
   "name": "tensorflow"
  },
  "language_info": {
   "codemirror_mode": {
    "name": "ipython",
    "version": 3
   },
   "file_extension": ".py",
   "mimetype": "text/x-python",
   "name": "python",
   "nbconvert_exporter": "python",
   "pygments_lexer": "ipython3",
   "version": "3.6.0"
  },
  "widgets": {
   "state": {},
   "version": "1.1.2"
  }
 },
 "nbformat": 4,
 "nbformat_minor": 0
}
