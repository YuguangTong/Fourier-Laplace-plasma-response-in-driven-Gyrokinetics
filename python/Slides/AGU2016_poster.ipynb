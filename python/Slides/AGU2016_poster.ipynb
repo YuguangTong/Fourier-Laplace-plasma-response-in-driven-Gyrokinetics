{
 "cells": [
  {
   "cell_type": "markdown",
   "metadata": {},
   "source": [
    "# Introduction\n",
    "\n",
    "- Observational evidence of slow mode in compressible fluctuations in the Solar wind\n",
    "\n",
    "- Passive cascade of slow mode in the inertial range\n",
    "\n",
    "- Gyrokinetics\n",
    "\n",
    "<b> Goal </b>\n",
    "> Study the cascade of slow mode in the sub-ion scale\n",
    "\n",
    "<b> Conclusion </b> \n",
    "> Slow mode cascade through sub-ion scale? Still inconclusive for $k\\rho_i \\gtrsim 1$?"
   ]
  },
  {
   "cell_type": "markdown",
   "metadata": {},
   "source": [
    "# Low beta plasma ($\\beta = 0.01$)\n",
    "\n",
    "<b>Contents</b>\n",
    "- Power spectra\n",
    "\n",
    "- Particle heating\n",
    "\n",
    "- Cascade of slow mode"
   ]
  },
  {
   "cell_type": "markdown",
   "metadata": {},
   "source": [
    "## #1 Power spectra"
   ]
  },
  {
   "cell_type": "markdown",
   "metadata": {},
   "source": [
    "<table border=\"0\">\n",
    "    <tr>\n",
    "        <td style=\"padding:2px\">\n",
    "            <img src='../figures/nl_alfven_large_E_4a_next.png' width=\"400\">\n",
    "        </td>    \n",
    "        <td style=\"padding:5px\">\n",
    "            <img src='../figures/nl_mix_large_E_4a_6.png' width=\"400\">\n",
    "        </td>\n",
    "    </tr>\n",
    "</table>\n",
    "<b> Figure 1 </b> Satuarated power spectra of $E_{\\delta B_\\perp}$,  $E_{\\delta B_\\parallel}$, $h_i$ and $h_e$. Left panel is Alfven mode run, right panel is for the mixed-mode run."
   ]
  },
  {
   "cell_type": "markdown",
   "metadata": {},
   "source": [
    "## #2 Particle heating"
   ]
  },
  {
   "cell_type": "code",
   "execution_count": 1,
   "metadata": {
    "collapsed": false
   },
   "outputs": [
    {
     "data": {
      "text/plain": [
       "'/Volumes/yuguang_sd/report/laplace_fourier_analysis/python/Slides'"
      ]
     },
     "execution_count": 1,
     "metadata": {},
     "output_type": "execute_result"
    }
   ],
   "source": [
    "pwd"
   ]
  },
  {
   "cell_type": "markdown",
   "metadata": {},
   "source": [
    "<table border=\"0\">\n",
    "    <tr>\n",
    "        <td style=\"padding:2px\">\n",
    "            <img src='../figures/nl_bi_001_alfven_mix_4a_6_kqiqe_only.png' width=\"400\">\n",
    "        </td>    \n",
    "        <td style=\"padding:5px\">\n",
    "            <img src='../figures/nl_bi_001_alfven_mix_4a_6_kqiqe_ratio.png' width=\"400\">\n",
    "        </td>\n",
    "    </tr>\n",
    "</table>\n",
    "   \n",
    "<b>Figure 2</b> (Left) Electron heating and ion heating at different wavenumber.  (Right) Ratio of $h_i/h_e$ at different wavenumber."
   ]
  },
  {
   "cell_type": "code",
   "execution_count": 3,
   "metadata": {
    "collapsed": false
   },
   "outputs": [],
   "source": [
    "# rm ../figures/nl_bi_001_alfven_mix_4a_6_next_kqiqe_ratio.png"
   ]
  },
  {
   "cell_type": "markdown",
   "metadata": {},
   "source": [
    "> Total ion vs electron heating:\n",
    "> - Alfven $Q_i/Q_e\\approx 5\\times 10^{-3}$\n",
    "> - Mixed $Q_i/Q_e\\approx 1.9$"
   ]
  },
  {
   "cell_type": "markdown",
   "metadata": {},
   "source": [
    "## #3 Cascade of slow mode\n",
    "\n",
    "- mva diagnostics"
   ]
  },
  {
   "cell_type": "markdown",
   "metadata": {},
   "source": [
    "<table border=\"0\">\n",
    "    <tr>\n",
    "        <td style=\"padding:2px\">\n",
    "            <img src='../figures/nl_alfven_large_mva_4a_next.png' width=\"400\">\n",
    "        </td>    \n",
    "        <td style=\"padding:5px\">\n",
    "            <img src='../figures/nl_mix_large_mva_4a_next.png' width=\"400\">\n",
    "        </td>\n",
    "    </tr>\n",
    "</table>\n",
    "<b> Figure 3 </b> Magnetic variance anisotropy (MVA) at different wavenumber for the Alfven run (left) and the mixed run (right). The theoretical MVA for Alfven and slow modes are calculated from linear gyrokinetics and are plotted in dashed lines. Notice that when $k_\\perp \\rho_i\\gtrsim 2$, the MVA in the Alfven run deviates from the linear GK solution. "
   ]
  },
  {
   "cell_type": "markdown",
   "metadata": {
    "collapsed": true
   },
   "source": [
    "<img src='../figures/bi_001_erg_fraction_4a_next.png' width=\"400\">\n",
    "<b> Figure 4 </b> The fraction of slow mode energy, estimated using the linear GK MVA for Alfven and slow modes. "
   ]
  },
  {
   "cell_type": "markdown",
   "metadata": {
    "collapsed": true
   },
   "source": [
    "# Unity beta plasma"
   ]
  },
  {
   "cell_type": "markdown",
   "metadata": {},
   "source": [
    "Work in progress"
   ]
  },
  {
   "cell_type": "code",
   "execution_count": null,
   "metadata": {
    "collapsed": true
   },
   "outputs": [],
   "source": []
  }
 ],
 "metadata": {
  "kernelspec": {
   "display_name": "Python3 (data science)",
   "language": "python",
   "name": "ds"
  },
  "language_info": {
   "codemirror_mode": {
    "name": "ipython",
    "version": 3
   },
   "file_extension": ".py",
   "mimetype": "text/x-python",
   "name": "python",
   "nbconvert_exporter": "python",
   "pygments_lexer": "ipython3",
   "version": "3.5.2"
  },
  "widgets": {
   "state": {},
   "version": "1.1.2"
  }
 },
 "nbformat": 4,
 "nbformat_minor": 0
}
