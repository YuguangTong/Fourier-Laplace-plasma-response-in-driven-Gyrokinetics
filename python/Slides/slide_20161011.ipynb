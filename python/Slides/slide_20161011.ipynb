{
 "cells": [
  {
   "cell_type": "markdown",
   "metadata": {},
   "source": [
    "## #1 more tests on linear run\n",
    "- check if energy decays at slow mode frequency and damping rate\n",
    "- magnetic variance anisotropy (MVA) for a run with equally energetic slow and alfven wave driving"
   ]
  },
  {
   "cell_type": "markdown",
   "metadata": {},
   "source": [
    "### linear slow mode decay"
   ]
  },
  {
   "cell_type": "markdown",
   "metadata": {},
   "source": [
    "We drive a slow mode linearly by the phase space antenna, then turn off antenna at $t_0 k_\\parallel v_{ti}=50$. We then fit $E_{B_\\parallel}$ by\n",
    "$$f(t) = \\left(C+A\\cos^2\\overline{\\omega}_r \\overline{t}\\right) e^{2\\overline{\\omega}_i \\overline{t}}$$\n",
    "\n",
    "<img src=\"../figures/lin_slow_decay_1.png\", width=\"600\">\n",
    "\n",
    "The fitted dispersion relation $\\overline{\\omega}=0.125 - 0.062i$, close to the slow mode frequency in gyrokinetic/ hot kinetic plasmas: $\\overline{\\omega}=0.144 - 0.064i$\n",
    "\n",
    "<img src=\"../figures/lin_slow_decay_mva_1.png\", width=\"600\">\n",
    "\n",
    "MVA plot above shows that MVA transition from ~0.002 (for slow mode) to 2000 (Alfven mode) in the decay. This is consistent with $E_{B_\\parallel}(t)$ plot where we see the appearance of Alfven mode becomes apparent when $tk_\\parallel v_{ti}>75$"
   ]
  },
  {
   "cell_type": "markdown",
   "metadata": {
    "collapsed": false
   },
   "source": [
    "### slow and Alfven mode decay together"
   ]
  },
  {
   "cell_type": "markdown",
   "metadata": {},
   "source": [
    "We drive slow mode and Alfven mode together and then turn off antenna at $t_0 k_\\parallel v_{ti}=50$"
   ]
  },
  {
   "cell_type": "markdown",
   "metadata": {
    "collapsed": true
   },
   "source": [
    "\n",
    "<img src=\"../figures/mix_Ebpar_decay_1.png\", width=\"600\">\n",
    "\n",
    "\n",
    "<img src=\"../figures/mix_Ebperp_decay_1.png\", width=\"600\">\n",
    "The figure for $E_{B_\\parallel}(t)$ shows that slow mode dies away quickly leaving only slowly damped Alfven waves. In the figure for $E_{B_\\perp}(t)$, we only see trace of slow mode only immediately after antenna is turned off, since the Alfven wave contribution quickly dominates completely.  \n",
    "\n",
    "<img src=\"../figures/mix_mva_decay_1.png\", width=\"600\">\n",
    "$MVA\\approx 1$ transitions smoothly to MVA $\\sim MVA_{Alfven}$."
   ]
  },
  {
   "cell_type": "markdown",
   "metadata": {
    "collapsed": true
   },
   "source": [
    "### Decorrelation rate"
   ]
  },
  {
   "cell_type": "markdown",
   "metadata": {},
   "source": [
    "One important parameter in antenna driving is the decorrelation rate. \n",
    "- \"driving frequency will vary about the real frequency, $0.13$, in a Langevin fashion with a decorrelation rate of $0.1$. In other words, the mean driving frequency will be $0.13$ with a full-width at half-maximum of $2\\times\\sqrt{3}\\times 0.1 \\sim 0.3$\" (Jason) \n",
    "\n",
    "<img src=\"../figures/lin_slow_decay_2.png\", width=\"600\">\n",
    "\n",
    "<img src=\"../figures/lin_slow_decay_mva_2.png\", width=\"600\">\n",
    "I tried linear simulation with different decorrelation rate. The MVA seem to vary crazily due to the spread of driving frequencies. But we also notice that the MVA in the driving phase can be clearly distinguished from the the MVA in the decaying phase:\n",
    "- The fluctuation MVA averages (see below for specification) to $0.029$ ($decorr=0.1$) and $0.02$ $(decorr=0.05)$\n",
    "- The above average was done by average $\\log (MVA)$ over 100 samples in the interval $tk_\\parallel v_{ti}\\in (40, 50)$ and then take exponential\n",
    "\n",
    "Maybe it's worth calculating MVA averages during simulation?\n"
   ]
  }
 ],
 "metadata": {
  "kernelspec": {
   "display_name": "Python3 (data science)",
   "language": "python",
   "name": "ds"
  },
  "language_info": {
   "codemirror_mode": {
    "name": "ipython",
    "version": 3
   },
   "file_extension": ".py",
   "mimetype": "text/x-python",
   "name": "python",
   "nbconvert_exporter": "python",
   "pygments_lexer": "ipython3",
   "version": "3.5.2"
  },
  "widgets": {
   "state": {},
   "version": "1.1.2"
  }
 },
 "nbformat": 4,
 "nbformat_minor": 0
}
