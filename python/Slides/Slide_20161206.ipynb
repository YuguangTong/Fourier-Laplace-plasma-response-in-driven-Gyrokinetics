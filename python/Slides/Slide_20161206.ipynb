{
 "cells": [
  {
   "cell_type": "markdown",
   "metadata": {},
   "source": [
    "# $\\beta_i = 0.01$ plasma"
   ]
  },
  {
   "cell_type": "markdown",
   "metadata": {},
   "source": [
    "## #1 $Q_i/Q_e$ vs t\n",
    "\n",
    "In the AGU poster, we want to report total particle heating $Q_i/Q_e$ (from `.heat` file). We need to show that this ratio is stable in our simulation. Figure below shows evolution of total heating. \n",
    "- $Q_i/Q_e$ has **NOT** settled in the mixed-mode run.\n",
    "\n",
    "### Confusion:\n",
    "\n",
    "- negative $Q_i$?\n",
    "- rigth lower panel shows that $Q_i/Q_e<1$. But Figure 2 in **AGU_poster.ipynb** shows that $Q_i/Q_e>1$ at the same moment ...\n"
   ]
  },
  {
   "cell_type": "markdown",
   "metadata": {},
   "source": [
    "<img src=\"../Draft/nl_bi_001_mix_qiqe_t_all.png\" width=650>\n",
    "<b>Figure 1</b> The heating terms ($Q_i$, $Q_e$, ci, hci, impci) versus time in the mixed-run. \n",
    "\n",
    "- I don't know what ci, hci, impci are ..."
   ]
  },
  {
   "cell_type": "markdown",
   "metadata": {},
   "source": [
    "## #2 Decay run\n",
    "\n",
    "- Figure 2 in **AGU_poster.ipynb** shows that more than 200 times stronger ion heating in the mixed run than in the Alfven run, suggesting that the slow mode energy are damped.\n",
    "- But Figure 4 in **AGU_poster.ipynb** suggest that slow mode energy remains similar fraction. \n",
    "- The apparent contradictory maybe caused by the fact that the energy excited by $u_\\parallel$ antenna does not couple to plasma very well.\n",
    "- Jason suggested a decay run to see check the above assumption\n",
    "\n",
    "<img src=\"../Draft/nl_bi_001_mix_decay2_qiqe_t_all.png\" width=650>\n",
    "<b>Figure 2</b> The heating terms ($Q_i$, $Q_e$, ci, hci, impci) versus time in the mixed-run. "
   ]
  },
  {
   "cell_type": "markdown",
   "metadata": {},
   "source": [
    "<table border=\"0\">\n",
    "    <tr>\n",
    "        <td style=\"padding:0px\">\n",
    "            <video controls src=\"../videos/nl_bi_001_mix_decay2_mva_3.mp4\", width=\"300\"/>\n",
    "        </td>\n",
    "        <td style=\"padding:0px\">\n",
    "            <video controls src=\"../videos/nl_bi_001_mix_decay2_E_3.mp4\", width=\"300\"/>\n",
    "        </td>\n",
    "        <td style=\"padding:0px\">\n",
    "            <video controls src=\"../videos/nl_bi_001_mix_decay2_3_kqiqe_only.mp4\", width=\"300\"/>\n",
    "        </td>\n",
    "    </tr>\n",
    "</table>\n",
    "\n",
    "<b> Video 1</b> MVA spectra (left), power spectra (center) and  collisional heating spectra (right) for the decay run.\n"
   ]
  },
  {
   "cell_type": "markdown",
   "metadata": {},
   "source": [
    "# $\\beta_i = 1$ plasma"
   ]
  },
  {
   "cell_type": "markdown",
   "metadata": {},
   "source": [
    "Power spectra was very flat in the first runs. Jason suggested that high fraction of slow mode energy may be the cause. We make new runs that try to reduce the slow mode energy by 10 times and 40 times. "
   ]
  },
  {
   "cell_type": "markdown",
   "metadata": {},
   "source": [
    "<table border=\"0\">\n",
    "    <tr>\n",
    "        <td style=\"padding:0px\">\n",
    "            <video controls src=\"../videos/nl_bi_1_mix_mva_2.mp4\", width=\"350\"/>\n",
    "        </td>\n",
    "        <td style=\"padding:0px\">\n",
    "            <video controls src=\"../videos/nl_bi_1_mix_E_2.mp4\", width=\"350\"/>\n",
    "        </td>\n",
    "    </tr>\n",
    "</table>\n",
    "\n",
    "<b> Video 2 </b> Run 1 (slow mode antenna has amplitude $u_0=19.2$. \n",
    "\n",
    "MVA spectra (left) and power spectra (right).\n",
    "\n",
    "<table border=\"0\">\n",
    "    <tr>\n",
    "        <td style=\"padding:0px\">\n",
    "            <video controls src=\"../videos/nl_bi_1_mix_low_mva_1.mp4\", width=\"350\"/>\n",
    "        </td>\n",
    "        <td style=\"padding:0px\">\n",
    "            <video controls src=\"../videos/nl_bi_1_mix_low_E_1.mp4\", width=\"350\"/>\n",
    "        </td>\n",
    "    </tr>\n",
    "</table>\n",
    "\n",
    "<b> Video 3 </b> Run 2 (slow mode antenna) has amplitude $u_0=6$.\n",
    "\n",
    "<table border=\"0\">\n",
    "    <tr>\n",
    "        <td style=\"padding:0px\">\n",
    "            <video controls src=\"../videos/nl_bi_1_mix_low2_mva_1.mp4\", width=\"350\"/>\n",
    "        </td>\n",
    "        <td style=\"padding:0px\">\n",
    "            <video controls src=\"../videos/nl_bi_1_mix_low2_E_1.mp4\", width=\"350\"/>\n",
    "        </td>\n",
    "    </tr>\n",
    "</table>\n",
    "\n",
    "<b> Video 4 </b> Run 3 (slow mode antenna has amplitude $u_0=3$."
   ]
  },
  {
   "cell_type": "code",
   "execution_count": null,
   "metadata": {
    "collapsed": true
   },
   "outputs": [],
   "source": []
  }
 ],
 "metadata": {
  "kernelspec": {
   "display_name": "Python3 (data science)",
   "language": "python",
   "name": "ds"
  },
  "language_info": {
   "codemirror_mode": {
    "name": "ipython",
    "version": 3
   },
   "file_extension": ".py",
   "mimetype": "text/x-python",
   "name": "python",
   "nbconvert_exporter": "python",
   "pygments_lexer": "ipython3",
   "version": "3.5.2"
  },
  "widgets": {
   "state": {},
   "version": "1.1.2"
  }
 },
 "nbformat": 4,
 "nbformat_minor": 0
}
