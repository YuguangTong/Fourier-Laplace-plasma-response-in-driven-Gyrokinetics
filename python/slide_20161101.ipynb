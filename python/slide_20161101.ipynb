{
 "cells": [
  {
   "cell_type": "markdown",
   "metadata": {},
   "source": [
    "## Task this week\n",
    "- Check if MVA changes with different driving amplitude\n",
    "- expand nonlinear runs\n",
    "- do linear run with beta = 1"
   ]
  },
  {
   "cell_type": "markdown",
   "metadata": {},
   "source": [
    "<h2> linear simulation of $\\beta_i = 1.$ plasma </h2>\n",
    "In hot kinetic plasma:\n",
    "- Alfven mode $\\overline{\\omega}_0=1.005 -0.002 i$\n",
    "- slow mode $\\overline{\\omega}_0=1.25-0.88i$\n",
    "\n",
    "Figures below show the Alfven and slow modes in linear gyrokinetic simulations. \n",
    "- Alfven mode is well excited and decays very slowly\n",
    "- $u_\\parallel$ antenna excite both Alfven and slow modes since the two modes have very similar frequencies. \n",
    "- $E_{B_\\parallel} \\sim 4 E_{B_\\perp}$ => $E_{slow} \\sim 4 E_{alfven}$"
   ]
  },
  {
   "cell_type": "markdown",
   "metadata": {},
   "source": [
    "<table border=\"0\">\n",
    "    <tr>\n",
    "        <td style=\"padding:5px\">\n",
    "            <img src='figures/lin_bi_1_alfven_Ebperp_1.png' width=\"400\">\n",
    "        </td>\n",
    "        <td style=\"padding:5px\">\n",
    "            <img src='figures/lin_bi_1_alfven_mva_1.png' width=\"400\">         \n",
    "        </td>\n",
    "    </tr>\n",
    "</table>\n",
    "\n",
    "<b>Figure 1</b> $E_{B_\\perp}$ and $MVA$ in a linear run with $A_\\parallel$ antenna exciting Alfven waves.\n",
    "\n",
    "\n",
    "<table border=\"0\">\n",
    "    <tr>\n",
    "        <td style=\"padding:5px\">\n",
    "            <img src='figures/lin_bi_1_slow_Ebpar_1.png' width=\"400\">\n",
    "        </td>\n",
    "        <td style=\"padding:5px\">\n",
    "            <img src='figures/lin_bi_1_slow_mva_1.png' width=\"400\">         \n",
    "        </td>\n",
    "    </tr>\n",
    "</table>\n",
    "\n",
    "<b>Figure 2</b> $E_{B_\\parallel}$ and $MVA$ in a linear run with $u_\\parallel$ antenna exciting slow waves."
   ]
  },
  {
   "cell_type": "markdown",
   "metadata": {},
   "source": [
    "<h3>conclusion</h3>\n",
    "- Exciting pure slow wave is difficult for $\\beta_i=1$ plasmas, since $\\omega_{slow}\\approx \\omega_{alfven}$\n",
    "- Driving plasma with $u_\\parallel$ antenna at $\\overline{\\omega}_0=1.1$ injects $\\sim 80\\%$ of the energy into slow mode.\n",
    "- It is still possible to inject the same amount of energy into slow mode and alfven mode. "
   ]
  },
  {
   "cell_type": "markdown",
   "metadata": {},
   "source": [
    "<h2> MVA spectrum and driving amplitude </h2>\n",
    "- During last telecom, we found that `MVA` fluctuates around $10$ in the few simulation of turbulence cascade where slow mode is present. \n",
    "- Jason had the question whether it's a coincidence that this value of MVA agrees with the observation that slow mode energy takes about $9%$ of the slow wind magnetic field fluctuations.\n",
    "- We increase the slow mode driving amplitude $A_{slow}$ by $3$ times from $475$ to $1425$."
   ]
  },
  {
   "cell_type": "markdown",
   "metadata": {
    "collapsed": true
   },
   "source": [
    "\n",
    "\n",
    "<table border=\"0\">\n",
    "    <tr>\n",
    "        <td style=\"padding:5px\">\n",
    "            <video controls src=\"videos/nl_mix_mva_9.mp4\", width=\"400\"/>\n",
    "          </td>\n",
    "        <td style=\"padding:5px\">\n",
    "            <video controls src=\"videos/nl_mix_E_9.mp4\", width=\"400\"/>\n",
    "         </td>\n",
    "    </tr>\n",
    "</table>\n",
    "\n",
    "<b>Video 1</b> MVA and energy spectrum in a nonlinear run in which both Alfven and slow modes have $DR=0.8$. $A_{alfven}=30$ and $A_{slow}=1425$.\n",
    "\n",
    "\n",
    "<hr>\n",
    "For comparison, below we put the MVA spectrum for $A_{slow}=475$. \n",
    "\n",
    "<table border=\"0\">\n",
    "    <tr>\n",
    "        <td style=\"padding:5px\">\n",
    "            <video controls src=\"videos/nl_mix_mva_8.mp4\", width=\"400\"/>\n",
    "          </td>\n",
    "        <td style=\"padding:5px\">\n",
    "            <video controls src=\"videos/nl_mix_E_8.mp4\", width=\"400\"/>\n",
    "         </td>\n",
    "    </tr>\n",
    "</table>\n",
    "\n",
    "<b>Video 2</b> MVA and energy spectrum, Alfven modes have $DR=0.8$ and slow modes have $DR=0$. "
   ]
  },
  {
   "cell_type": "markdown",
   "metadata": {},
   "source": [
    "<h3>conclusion</h3>\n",
    "- Driving slow mode with larger amplitude seem to inject more energy into slow mode.\n",
    "- The agreement of $MVA~10$ and $10\\%$ of solar wind fluctutions being compressible seems to be a coincidence."
   ]
  },
  {
   "cell_type": "markdown",
   "metadata": {},
   "source": [
    "<h2>Expansion of saturated nonlinear simulations</h2>"
   ]
  },
  {
   "cell_type": "markdown",
   "metadata": {},
   "source": [
    "- Expand simulation box by 4 times.\n",
    "- Expanded runs (400 steps/hr) are significantly slower than previous runs (4000 steps/hr).\n",
    "- There is issue with time step size: it is 10 times smaller than what I expect ... (will figure out with Jason and Kris)."
   ]
  },
  {
   "cell_type": "markdown",
   "metadata": {},
   "source": [
    "<table border=\"0\">\n",
    "    <tr>\n",
    "        <td style=\"padding:10px\">\n",
    "            <video controls src=\"videos/nl_alfven_large_mva_1.mp4\", width=\"400\"/>\n",
    "          </td>\n",
    "        <td style=\"padding:5px\">\n",
    "            <video controls src=\"videos/nl_alfven_large_E_1.mp4\", width=\"400\"/>\n",
    "         </td>\n",
    "    </tr>\n",
    "</table>\n",
    "\n",
    "<b>Video 3</b> MVA and energy spectrum for expanded Alfven mode turbulence cascade."
   ]
  },
  {
   "cell_type": "markdown",
   "metadata": {},
   "source": [
    "<table border=\"0\">\n",
    "    <tr>\n",
    "        <td style=\"padding:10px\">\n",
    "            <video controls src=\"videos/nl_mix_large_mva_1.mp4\", width=\"400\"/>\n",
    "          </td>\n",
    "        <td style=\"padding:5px\">\n",
    "            <video controls src=\"videos/nl_mix_large_E_1.mp4\", width=\"400\"/>\n",
    "         </td>\n",
    "    </tr>\n",
    "</table>\n",
    "\n",
    "<b>Video 4</b> MVA and energy spectrum for expanded Alfven and slow mode turbulence cascade."
   ]
  },
  {
   "cell_type": "code",
   "execution_count": null,
   "metadata": {
    "collapsed": true
   },
   "outputs": [],
   "source": []
  }
 ],
 "metadata": {
  "kernelspec": {
   "display_name": "Python3 (data science)",
   "language": "python",
   "name": "ds"
  },
  "language_info": {
   "codemirror_mode": {
    "name": "ipython",
    "version": 3
   },
   "file_extension": ".py",
   "mimetype": "text/x-python",
   "name": "python",
   "nbconvert_exporter": "python",
   "pygments_lexer": "ipython3",
   "version": "3.5.2"
  },
  "widgets": {
   "state": {},
   "version": "1.1.2"
  }
 },
 "nbformat": 4,
 "nbformat_minor": 0
}
