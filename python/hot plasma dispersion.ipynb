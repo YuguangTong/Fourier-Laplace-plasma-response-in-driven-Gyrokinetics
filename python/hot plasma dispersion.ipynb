{
 "cells": [
  {
   "cell_type": "code",
   "execution_count": 1,
   "metadata": {
    "collapsed": true
   },
   "outputs": [],
   "source": [
    "import numpy as np\n",
    "from py_vlasov.wrapper import disp_det, oblique_wrapper\n",
    "from py_vlasov.util import real_imag, list_to_complex, VlasovException\n",
    "import scipy.optimize"
   ]
  },
  {
   "cell_type": "markdown",
   "metadata": {},
   "source": [
    "Calculate dispersion relation for slow mode"
   ]
  },
  {
   "cell_type": "code",
   "execution_count": 67,
   "metadata": {
    "collapsed": false
   },
   "outputs": [],
   "source": [
    "k = 0.2\n",
    "theta = 89.95\n",
    "kp = k * np.sin(np.deg2rad(theta))\n",
    "kz = k * np.cos(np.deg2rad(theta))\n",
    "betap = 0.01\n",
    "t_list=[1., 1.]\n",
    "a_list=[1., 1.]\n",
    "n_list=[1., 1.]\n",
    "q_list=[1., -1.,]\n",
    "m_list=[1., 1/1836,]\n",
    "v_list=[0., 0.]"
   ]
  },
  {
   "cell_type": "code",
   "execution_count": 68,
   "metadata": {
    "collapsed": false
   },
   "outputs": [],
   "source": [
    "        f = lambda wrel: real_imag(disp_det(\n",
    "            list_to_complex(wrel), kz, kp, betap, t_list, a_list, n_list,\n",
    "            q_list, m_list, v_list, method = 'pade', aol=1e-4))\n",
    "        alfven = kz/np.sqrt(betap)\n",
    "        guess = alfven\n",
    "#         guess = alfven * (0.15 - 0.06j)\n",
    "#         guess = alfven * (0.5 - 0.18j)\n",
    "        wr, wi = scipy.optimize.fsolve(f, real_imag(guess))"
   ]
  },
  {
   "cell_type": "markdown",
   "metadata": {},
   "source": [
    "normalized frequency $\\bar{\\omega}$"
   ]
  },
  {
   "cell_type": "code",
   "execution_count": 69,
   "metadata": {
    "collapsed": false
   },
   "outputs": [
    {
     "data": {
      "text/plain": [
       "array([ 1.01619008, -0.00413489])"
      ]
     },
     "execution_count": 69,
     "metadata": {},
     "output_type": "execute_result"
    }
   ],
   "source": [
    "(wr, wi) / alfven"
   ]
  },
  {
   "cell_type": "markdown",
   "metadata": {},
   "source": [
    "calculate magnetic variance anisotropy"
   ]
  },
  {
   "cell_type": "code",
   "execution_count": 70,
   "metadata": {
    "collapsed": true
   },
   "outputs": [],
   "source": [
    "from py_vlasov.transport_ratios import input_gen, transport_ratios"
   ]
  },
  {
   "cell_type": "code",
   "execution_count": 71,
   "metadata": {
    "collapsed": false
   },
   "outputs": [],
   "source": [
    "wrel = wr + 1j * wi\n",
    "inp = input_gen(wrel, kp, kz, betap, tetp = 1)"
   ]
  },
  {
   "cell_type": "code",
   "execution_count": 72,
   "metadata": {
    "collapsed": false
   },
   "outputs": [],
   "source": [
    "# setting print_result = True will print other \n",
    "tr = transport_ratios(inp, print_result = False);"
   ]
  },
  {
   "cell_type": "markdown",
   "metadata": {},
   "source": [
    "By definition\n",
    "$$C_{bb} = \\frac{|B_\\parallel|^2}{|B_\\perp|^2 \\tan^2\\theta}$$\n",
    "$$ MVA = \\frac{\\langle|\\delta B_\\perp|^2\\rangle}{\\langle|\\delta B_\\parallel|^2\\rangle} $$"
   ]
  },
  {
   "cell_type": "code",
   "execution_count": 73,
   "metadata": {
    "collapsed": false
   },
   "outputs": [],
   "source": [
    "cbb = tr['c_bb']\n",
    "mva = 1/(cbb * np.tan(np.deg2rad(theta))**2)"
   ]
  },
  {
   "cell_type": "code",
   "execution_count": 74,
   "metadata": {
    "collapsed": false
   },
   "outputs": [
    {
     "data": {
      "text/plain": [
       "1697.7504747970277"
      ]
     },
     "execution_count": 74,
     "metadata": {},
     "output_type": "execute_result"
    }
   ],
   "source": [
    "mva"
   ]
  },
  {
   "cell_type": "code",
   "execution_count": null,
   "metadata": {
    "collapsed": true
   },
   "outputs": [],
   "source": []
  }
 ],
 "metadata": {
  "kernelspec": {
   "display_name": "Python 3",
   "language": "python",
   "name": "python3"
  },
  "language_info": {
   "codemirror_mode": {
    "name": "ipython",
    "version": 3
   },
   "file_extension": ".py",
   "mimetype": "text/x-python",
   "name": "python",
   "nbconvert_exporter": "python",
   "pygments_lexer": "ipython3",
   "version": "3.5.1"
  },
  "widgets": {
   "state": {},
   "version": "1.1.2"
  }
 },
 "nbformat": 4,
 "nbformat_minor": 0
}
