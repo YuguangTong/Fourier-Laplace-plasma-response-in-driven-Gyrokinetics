{
 "cells": [
  {
   "cell_type": "markdown",
   "metadata": {},
   "source": [
    "## #1 more test on linear run\n",
    "- check if energy decays at slow mode frequency and damping rate\n",
    "- magnetic variance anisotropy (MVA) for a run with equally energetic slow and alfven wave driving"
   ]
  },
  {
   "cell_type": "markdown",
   "metadata": {},
   "source": [
    "<img src=\"figures/lin_slow_decay_1.png\", width=\"600\">\n",
    "<img src=\"figures/lin_slow_decay_mva_1.png\", width=\"600\">"
   ]
  },
  {
   "cell_type": "code",
   "execution_count": 4,
   "metadata": {
    "collapsed": false
   },
   "outputs": [
    {
     "name": "stdout",
     "output_type": "stream",
     "text": [
      "AGK_mva_w0_1.png        bromwich_vs_agk.eps     fig_phi_w0_2.eps\r\n",
      "AGK_mva_w0_2.png        bromwich_vs_approx.eps  lin_slow_bparz_1.eps\r\n",
      "Ebpar_t_w0_1.png        fig_bpar_temp_1.eps     lin_slow_decay_1.png\r\n",
      "Ephi_t_w0_1.png         fig_bpar_tf.eps         lin_slow_nz_1.eps\r\n",
      "FL_bpar_t_w0_1.png      fig_bpar_w0.eps         lin_slow_phi_z_1.eps\r\n",
      "FL_bphi_t_w0_1.png      fig_bpar_w0_2.eps       mix_Ebpar_1.png\r\n",
      "agk_apar_cadence.eps    fig_phi_temp_1.eps      mix_Ebperp_1.png\r\n",
      "agk_bpar_cadence.eps    fig_phi_tf.eps          mix_mva_1.png\r\n",
      "agk_phi_cadence.eps     fig_phi_w0.eps\r\n"
     ]
    }
   ],
   "source": [
    "ls figures/"
   ]
  },
  {
   "cell_type": "code",
   "execution_count": null,
   "metadata": {
    "collapsed": true
   },
   "outputs": [],
   "source": []
  }
 ],
 "metadata": {
  "kernelspec": {
   "display_name": "Python3 (data science)",
   "language": "python",
   "name": "ds"
  },
  "language_info": {
   "codemirror_mode": {
    "name": "ipython",
    "version": 3
   },
   "file_extension": ".py",
   "mimetype": "text/x-python",
   "name": "python",
   "nbconvert_exporter": "python",
   "pygments_lexer": "ipython3",
   "version": "3.5.2"
  }
 },
 "nbformat": 4,
 "nbformat_minor": 0
}
