{
 "cells": [
  {
   "cell_type": "markdown",
   "metadata": {},
   "source": [
    "## #1 more tests on linear run\n",
    "- check if energy decays at slow mode frequency and damping rate\n",
    "- magnetic variance anisotropy (MVA) for a run with equally energetic slow and alfven wave driving"
   ]
  },
  {
   "cell_type": "markdown",
   "metadata": {},
   "source": [
    "### linear slow mode decay"
   ]
  },
  {
   "cell_type": "markdown",
   "metadata": {},
   "source": [
    "We drive a slow mode linearly by the phase space antenna, then turn off antenna at $t_0 k_\\parallel v_{ti}=50$. We then fit $E_{B_\\parallel}$ by\n",
    "$$f(t) = \\left(C+A\\cos^2\\overline{\\omega}_r \\overline{t}\\right) e^{2\\overline{\\omega}_i \\overline{t}}$$\n",
    "\n",
    "<img src=\"figures/lin_slow_decay_1.png\", width=\"600\">\n",
    "\n",
    "The fitted dispersion relation $\\overline{\\omega}=0.125 - 0.062i$, close to the slow mode frequency in gyrokinetic/ hot kinetic plasmas: $\\overline{\\omega}=0.144 - 0.064i$\n",
    "\n",
    "<img src=\"figures/lin_slow_decay_mva_1.png\", width=\"600\">\n",
    "\n",
    "MVA plot above shows that MVA transition from ~0.002 (for slow mode) to 2000 (Alfven mode) in the decay. This is consistent with $E_{B_\\parallel}(t)$ plot where we see the appearance of Alfven mode becomes apparent when $tk_\\parallel v_{ti}>75$"
   ]
  },
  {
   "cell_type": "markdown",
   "metadata": {
    "collapsed": false
   },
   "source": [
    "### slow and Alfven mode decay together"
   ]
  },
  {
   "cell_type": "markdown",
   "metadata": {},
   "source": [
    "We drive slow mode and Alfven mode together and then turn off antenna at $t_0 k_\\parallel v_{ti}=50$"
   ]
  },
  {
   "cell_type": "markdown",
   "metadata": {
    "collapsed": true
   },
   "source": [
    "\n",
    "<img src=\"figures/mix_Ebpar_decay_1.png\", width=\"600\">\n",
    "\n",
    "\n",
    "<img src=\"figures/mix_Ebperp_decay_1.png\", width=\"600\">\n",
    "Figure for $E_{B_\\parallel}(t)$ shows that slow mode dies away quickly leaving only slowly damped Alfven waves. In figure for $E_{B_\\perp}(t)$, we only see trace of slow mode only immediately after antenna is turned off, since the Alfven wave contribution quickly dominates completely.  \n",
    "\n",
    "<img src=\"figures/mix_mva_decay_1.png\", width=\"600\">\n",
    "$MVA\\approx 1$ transitions smoothly to MVA $\\sim MVA_{Alfven}$."
   ]
  },
  {
   "cell_type": "code",
   "execution_count": null,
   "metadata": {
    "collapsed": true
   },
   "outputs": [],
   "source": []
  }
 ],
 "metadata": {
  "kernelspec": {
   "display_name": "Python3 (data science)",
   "language": "python",
   "name": "ds"
  },
  "language_info": {
   "codemirror_mode": {
    "name": "ipython",
    "version": 3
   },
   "file_extension": ".py",
   "mimetype": "text/x-python",
   "name": "python",
   "nbconvert_exporter": "python",
   "pygments_lexer": "ipython3",
   "version": "3.5.2"
  }
 },
 "nbformat": 4,
 "nbformat_minor": 0
}
