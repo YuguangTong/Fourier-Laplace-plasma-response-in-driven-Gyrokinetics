{
 "cells": [
  {
   "cell_type": "markdown",
   "metadata": {},
   "source": [
    "## Brief summary of analytic solution"
   ]
  },
  {
   "cell_type": "markdown",
   "metadata": {},
   "source": [
    "We add antenna term on the RHS of GK equation\n",
    "\n",
    "\\begin{equation}\n",
    "\\frac{\\partial g_{\\mathbf{k}s}}{\\partial t} + i k_\\parallel v_\\parallel g_{\\mathbf{k}s} + \\frac{q_s}{T_s} v_\\parallel F_{0s} i k_\\parallel\\tilde{\\phi} = -\\frac{q_s}{T_s} F_{0s} \\frac{\\tilde{A}}{\\partial{t}} + g_{\\mathbf{k}, ant, s}\n",
    "\\end{equation}\n",
    "where  $g_{\\mathbf{k}, ant, s} = u_{\\mathbf{k}0} e^{-i\\omega_0 t}  \\frac{2 v_{\\parallel s} v_{t0}}{v_{ts}^2} F_{0s} e^{(k_\\perp \\rho_s)^2/4}$.\n",
    "\n",
    "Substitue into Maxwell's equations, we obtain the self-consistent field equations:\n",
    "\n",
    "\\begin{equation}\n",
    "\\begin{pmatrix}\n",
    "A & B & C \\\\\n",
    "A-B & \\alpha_i/\\overline{\\omega}^2 & C + E \\\\\n",
    "C & -E & D- 2/\\beta_i \n",
    "\\end{pmatrix}\n",
    "\\begin{pmatrix}\n",
    " X\\\\\n",
    " Y\\\\\n",
    " Z\n",
    "\\end{pmatrix}\n",
    "=\n",
    "\\begin{pmatrix}\n",
    "L\\\\\n",
    "L\\\\\n",
    "M\n",
    "\\end{pmatrix} S\n",
    "\\end{equation}\n",
    "\n"
   ]
  },
  {
   "cell_type": "markdown",
   "metadata": {},
   "source": [
    "\\begin{eqnarray}\n",
    "A &=& \\sum_s \\frac{T_i}{T_s} (1 + \\Gamma_{0s}\\xi_s Z_s) \\\\\n",
    "B &=& \\sum_s \\frac{T_i}{T_s} (1 - \\Gamma_{0s}) \\\\\n",
    "C &=& \\sum_s \\frac{q_i}{q_s} \\Gamma_{1s} \\xi_s Z_s \\\\\n",
    "D &=& \\sum_s \\frac{2T_s}{T_i}\\Gamma_{1s} \\xi_s Z_s \\\\\n",
    "E &=& \\sum_s \\frac{q_i}{q_s} \\Gamma_{1s} \\\\\n",
    "\\end{eqnarray}\n",
    "\n",
    "The fields are\n",
    "\n",
    "\\begin{eqnarray}\n",
    "X &=& \\hat{\\phi}_{\\mathbf{k}} - \\frac{ip\\hat{A}_{\\parallel \\mathbf{k}}}{k_\\parallel c} = \\hat{\\phi}_{\\mathbf{k}} - \\frac{\\omega\\hat{A}_{\\parallel \\mathbf{k}}}{k_\\parallel c} \\\\\n",
    "Y &=& \\frac{ip\\hat{A}_{\\parallel \\mathbf{k}}}{k_\\parallel c} = \\frac{\\omega\\hat{A}_{\\parallel \\mathbf{k}}}{k_\\parallel c} \\\\\n",
    "Z &=& \\frac{T_i}{q_i} \\frac{\\delta \\hat{B}_{\\parallel \\mathbf{k}}}{B_0} \\\\\n",
    "Z_a &=& \\frac{T_i}{q_i} \\frac{\\delta \\hat{B}_{\\parallel \\mathbf{k}a}}{B_0} \\\\\n",
    "\\overline{\\omega} &=& \\frac{\\omega}{k_\\parallel v_A} = \\frac{p}{-ik_\\parallel v_A}\n",
    "\\end{eqnarray}\n",
    "\n",
    "and the source terms are\n",
    "\n",
    "\\begin{eqnarray}\n",
    "L &=&\\sum_s i \\frac{q_s}{q_i}\\frac{T_s}{T_i}\\frac{m_s}{m_i}Z^\\prime_s \\\\\n",
    "M &=& \\sum_s i\\frac{m_s}{m_i}Z^\\prime_s \\\\\n",
    "S &=& \\frac{T_i}{q_i} \\frac{u_{\\mathbf{k}0}}{k_\\parallel v_{ti}}\\frac{1}{p+i\\omega_0}\n",
    "\\end{eqnarray}\n"
   ]
  },
  {
   "cell_type": "markdown",
   "metadata": {},
   "source": [
    "## Plasma response with $A_\\parallel=0$"
   ]
  },
  {
   "cell_type": "markdown",
   "metadata": {},
   "source": [
    "$B_\\parallel$\n",
    "- Analytic Fourier-Laplace(FL) plasma response look similar to AstroGK linear runs.\n",
    "- Similar dependence on driving frequencies\n",
    "- FL solution $B_{\\parallel k} (t=0) \\neq 0$. I don't see why it has to vanish in analytic solution.\n",
    "- AstroGK has $B_{\\parallel k} (t=0) \\neq 0$\n",
    "<img src=\"figures/FL_bpar_t_w0_1.png\", width=\"400\">\n",
    "<img src=\"figures/Ebpar_t_w0_1.png\", width=\"400\">\n",
    "<center> line colors in the above two figures do not match (since they are made in different program).</center>\n"
   ]
  },
  {
   "cell_type": "markdown",
   "metadata": {},
   "source": [
    "$\\phi_k$\n",
    "- AstroGK runs has unknown high frequency bumps\n",
    "- Analytic Fourier-Laplace(FL) plasma response look similar to AstroGK linear runs.\n",
    "- Similar dependence on driving frequencies\n",
    "- FL solution $B_{\\parallel k} (t=0) \\neq 0$. I don't see why it has to vanish in analytic solution.\n",
    "- AstroGK has $B_{\\parallel k} (t=0) \\neq 0$\n",
    "<img src=\"figures/FL_bphi_t_w0_1.png\", width=\"400\">\n",
    "<img src=\"figures/Ephi_t_w0_1.png\", width=\"400\">\n",
    "<center> line colors in the above two figures do not match (since they are made in different program).</center>"
   ]
  },
  {
   "cell_type": "markdown",
   "metadata": {},
   "source": [
    "## Characterizing antenna"
   ]
  },
  {
   "cell_type": "markdown",
   "metadata": {},
   "source": [
    "- Unsurprisingly $E_{B_\\parallel} \\propto u_0^2$\n",
    "\n",
    "We consider driving plasma at the following conditions\n",
    "- $k_\\perp \\rho_i = 0.2$\n",
    "- $\\beta_i= 0.01$\n",
    "- $T_i = T_e$\n",
    "\n",
    "The eigen modes of the system are\n",
    "- Alfven modes: $\\overline{\\omega}_0 = \\pm1.016 - 0.004i$\n",
    "- Slow modes: $\\overline{\\omega}_0 = \\pm0.144 - 0.0644i$\n",
    "- Entropy mode $\\overline{\\omega}_0 = -0.185i$"
   ]
  },
  {
   "cell_type": "markdown",
   "metadata": {},
   "source": [
    "### Driving slow mode"
   ]
  },
  {
   "cell_type": "markdown",
   "metadata": {},
   "source": [
    "Slow mode has MVA = $\\langle |\\delta B_\\perp|^2 \\rangle / \\langle |\\delta B_\\parallel|^2 \\rangle = 0.0242$ when $\\theta_{\\mathbf{kB}}=89^\\circ$\n",
    "<img src='figures/AGK_mva_w0_1.png', width=\"400\">\n",
    "\n",
    "- The \"best\" driving frequency is $\\overline{\\omega}_0 = 0.13$ (best agreement in MVA with hot kinetic plasma).\n",
    "- The new antenna drives slow mode at $E_{B_\\parallel} = 1.976\\times 10^{-2} u_0^2$\n",
    "\n",
    "Note:\n",
    "- It seems that as driving frequency goes down, MVA goes to zero. (exceeding energy in entropy mode?)"
   ]
  },
  {
   "cell_type": "markdown",
   "metadata": {
    "collapsed": true
   },
   "source": [
    "### Driving Alfven mode"
   ]
  },
  {
   "cell_type": "markdown",
   "metadata": {
    "collapsed": true
   },
   "source": [
    "Alfven mode has MVA = $\\langle |\\delta B_\\perp|^2 \\rangle / \\langle |\\delta B_\\parallel|^2 \\rangle = 1782$ when $\\theta_{\\mathbf{kB}}=89^\\circ$\n",
    "<img src='figures/AGK_mva_w0_2.png', width=\"400\">\n",
    "\n",
    "- $\\overline{\\omega}_0=1.0$ gives the closest value of MVA. But we had concern about driving at frequency very close to eigenmode frequency. Therefore we choose $\\overline{\\omega}_0=0.95$.\n",
    "- The antenna drives Alfven mode at $E_{B_\\perp} = 13.6\\times A_0^2$"
   ]
  },
  {
   "cell_type": "markdown",
   "metadata": {},
   "source": [
    "### Antenna amplitudes for equally energetic slow mode and Alfven mode "
   ]
  },
  {
   "cell_type": "markdown",
   "metadata": {},
   "source": [
    "Assume that we drive two modes, \n",
    "- an Alfven mode via $A_\\parallel$ with amplitude $A_{\\parallel 0}$ \n",
    "and \n",
    "- a slow mode via phase space perturbation with amplitude $u_0$ \n",
    "\n",
    "Then $u_0\\approx 26.2 A_0$"
   ]
  },
  {
   "cell_type": "markdown",
   "metadata": {
    "collapsed": true
   },
   "source": [
    "To test if we can drive equally energetic slow mode and Alfven mode, we turn on both $A_\\parallel$ and $u_\\parallel$ antennas.\n",
    "\n",
    "<img src='figures/mix_Ebpar_1.png', width='400'>\n",
    "<img src='figures/mix_Ebperp_1.png', width='400'>\n",
    "\n",
    "The energy of the fields do not saturate to a fixed value, instead some fluctuations are seen. \n",
    "\n",
    "<img src='figures/mix_mva_1.png', width='400'>\n",
    "\n",
    "MVA averages to about unity, but fluctuates as a consequence of the fluctuating field energies. "
   ]
  },
  {
   "cell_type": "code",
   "execution_count": null,
   "metadata": {
    "collapsed": true
   },
   "outputs": [],
   "source": []
  }
 ],
 "metadata": {
  "kernelspec": {
   "display_name": "Python 3",
   "language": "python",
   "name": "python3"
  },
  "language_info": {
   "codemirror_mode": {
    "name": "ipython",
    "version": 3
   },
   "file_extension": ".py",
   "mimetype": "text/x-python",
   "name": "python",
   "nbconvert_exporter": "python",
   "pygments_lexer": "ipython3",
   "version": "3.5.1"
  },
  "widgets": {
   "state": {},
   "version": "1.1.2"
  }
 },
 "nbformat": 4,
 "nbformat_minor": 0
}
