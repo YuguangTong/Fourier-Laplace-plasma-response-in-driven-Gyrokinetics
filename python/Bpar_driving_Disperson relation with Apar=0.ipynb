{
 "cells": [
  {
   "cell_type": "markdown",
   "metadata": {},
   "source": [
    "# Solve for Gyrokinetic dispersion relation when $A_\\parallel=0$"
   ]
  },
  {
   "cell_type": "code",
   "execution_count": 6,
   "metadata": {
    "collapsed": false
   },
   "outputs": [],
   "source": [
    "import numpy as np\n",
    "from scipy.special import i0e, i1e\n",
    "import scipy.optimize\n",
    "from gk_solver.util import real_imag, list2complex, zp\n",
    "import matplotlib.pyplot as plt\n",
    "%matplotlib inline"
   ]
  },
  {
   "cell_type": "markdown",
   "metadata": {},
   "source": [
    "### terms ABCDE in the dispersion tensor"
   ]
  },
  {
   "cell_type": "code",
   "execution_count": 7,
   "metadata": {
    "collapsed": true
   },
   "outputs": [],
   "source": [
    "def A(ti_te, mi_me, bi, kperp_rhoi, w_bar):\n",
    "    \"\"\"\n",
    "    Calculate\n",
    "    A  = sum_s [ (Ti/Ts) (1 + Gamma_0s xi_s Z_s) ]\n",
    "    \"\"\"\n",
    "    alpha_i = kperp_rhoi**2 / 2\n",
    "    alpha_e = alpha_i / ti_te / mi_me\n",
    "    xi_i = w_bar / np.sqrt(bi)\n",
    "    xi_e = w_bar * np.sqrt(ti_te / mi_me / bi)\n",
    "    Z_i = zp(xi_i)\n",
    "    Z_e = zp(xi_e)\n",
    "    Gamma_0i = i0e(alpha_i)\n",
    "    Gamma_0e = i0e(alpha_e)\n",
    "    return 1 + Gamma_0i * xi_i * Z_i + ti_te * (1 + Gamma_0e * xi_e * Z_e)"
   ]
  },
  {
   "cell_type": "code",
   "execution_count": 8,
   "metadata": {
    "collapsed": true
   },
   "outputs": [],
   "source": [
    "def B(ti_te, mi_me, kperp_rhoi):\n",
    "    \"\"\"\n",
    "    Calculate\n",
    "    B = sum_s [ (Ti/Ts) ( 1 - Gamma_0(alpha_s)) ]\n",
    "    \"\"\"\n",
    "    alpha_i = kperp_rhoi**2 / 2\n",
    "    alpha_e = alpha_i / ti_te / mi_me\n",
    "    return 1 - i0e(alpha_i) - ti_te * (1 - i0e(alpha_e))"
   ]
  },
  {
   "cell_type": "code",
   "execution_count": 9,
   "metadata": {
    "collapsed": true
   },
   "outputs": [],
   "source": [
    "def C(ti_te, mi_me, bi, kperp_rhoi, w_bar):\n",
    "    \"\"\"\n",
    "    C = sum_s (qi/qs) Gamma_1s xi_s Z_s \n",
    "\n",
    "    \"\"\"\n",
    "    alpha_i = kperp_rhoi**2 / 2\n",
    "    alpha_e = alpha_i / ti_te / mi_me\n",
    "    xi_i = w_bar / np.sqrt(bi)\n",
    "    xi_e = w_bar * np.sqrt(ti_te / mi_me / bi)\n",
    "    Z_i = zp(xi_i)\n",
    "    Z_e = zp(xi_e)\n",
    "    Gamma_1i = i0e(alpha_i) - i1e(alpha_i)\n",
    "    Gamma_1e = i0e(alpha_e) - i1e(alpha_e)\n",
    "    \n",
    "    res = Gamma_1i * xi_i * Z_i - Gamma_1e * xi_e * Z_e\n",
    "    return res"
   ]
  },
  {
   "cell_type": "code",
   "execution_count": 10,
   "metadata": {
    "collapsed": true
   },
   "outputs": [],
   "source": [
    "def D(ti_te, mi_me, bi, kperp_rhoi, w_bar):\n",
    "    \"\"\"\n",
    "    D = sum_s (2Ts/Ti) Gamma_1s xi_s Z_s \n",
    "\n",
    "    \"\"\"\n",
    "    alpha_i = kperp_rhoi**2 / 2\n",
    "    alpha_e = alpha_i / ti_te / mi_me\n",
    "    xi_i = w_bar / np.sqrt(bi)\n",
    "    xi_e = w_bar * np.sqrt(ti_te / mi_me / bi)\n",
    "    Z_i = zp(xi_i)\n",
    "    Z_e = zp(xi_e)\n",
    "    Gamma_1i = i0e(alpha_i) - i1e(alpha_i)\n",
    "    Gamma_1e = i0e(alpha_e) - i1e(alpha_e)\n",
    "    \n",
    "    res = Gamma_1i * xi_i * Z_i + 1/ti_te * Gamma_1e * xi_e * Z_e\n",
    "    res *= 2\n",
    "    return res"
   ]
  },
  {
   "cell_type": "code",
   "execution_count": 11,
   "metadata": {
    "collapsed": true
   },
   "outputs": [],
   "source": [
    "def E(ti_te, mi_me, kperp_rhoi):\n",
    "    \"\"\"\n",
    "    E = sum_s (qs/qi) * Gamma_1s\n",
    "    \"\"\"\n",
    "    alpha_i = kperp_rhoi**2 / 2\n",
    "    alpha_e = alpha_i / ti_te / mi_me    \n",
    "    Gamma_1i = i0e(alpha_i) - i1e(alpha_i)\n",
    "    Gamma_1e = i0e(alpha_e) - i1e(alpha_e)   \n",
    "    return Gamma_1i - Gamma_1e\n",
    "\n",
    "def F(ti_te, mi_me, kperp_rhoi):\n",
    "    \"\"\"\n",
    "    F = sum_s (2Ts/Ti) * Gamma_1s\n",
    "    \"\"\"\n",
    "    alpha_i = kperp_rhoi**2 / 2\n",
    "    alpha_e = alpha_i / ti_te / mi_me    \n",
    "    Gamma_1i = i0e(alpha_i) - i1e(alpha_i)\n",
    "    Gamma_1e = i0e(alpha_e) - i1e(alpha_e)   \n",
    "    return 2 * Gamma_1i - 2 * Gamma_1e / ti_te"
   ]
  },
  {
   "cell_type": "markdown",
   "metadata": {},
   "source": [
    "## Dispersion relation $\\mathrm{det} M = 0$, where M is the dispersion tensor\n",
    "#### Poisson and perpendicular component of the Ampere's law are used"
   ]
  },
  {
   "cell_type": "code",
   "execution_count": 12,
   "metadata": {
    "collapsed": true
   },
   "outputs": [],
   "source": [
    "def dispersion(ti_te, mi_me, bi, kperp_rhoi, w_bar):\n",
    "    \"\"\"\n",
    "    dispersion = det(disp tensor) = A*(D-2/beta_i) - C^2\n",
    "    \"\"\"\n",
    "    a = A(ti_te, mi_me, bi, kperp_rhoi, w_bar)\n",
    "    c = C(ti_te, mi_me, bi, kperp_rhoi, w_bar)\n",
    "    d = D(ti_te, mi_me, bi, kperp_rhoi, w_bar)\n",
    "    return a * (d -2/bi) - c**2"
   ]
  },
  {
   "cell_type": "markdown",
   "metadata": {},
   "source": [
    "### Demonstrating eigenmodes of the system"
   ]
  },
  {
   "cell_type": "code",
   "execution_count": 50,
   "metadata": {
    "collapsed": true
   },
   "outputs": [],
   "source": [
    "ti_te = 0.01\n",
    "kperp_rhoi = 0.4\n",
    "wbar_0 = 3.6\n",
    "bi = 0.01\n",
    "Apar0 = 10\n",
    "mi_me = 1836"
   ]
  },
  {
   "cell_type": "code",
   "execution_count": 51,
   "metadata": {
    "collapsed": true
   },
   "outputs": [],
   "source": [
    "f = lambda w_bar: real_imag(dispersion(ti_te, mi_me, bi, kperp_rhoi, list2complex(w_bar)))"
   ]
  },
  {
   "cell_type": "code",
   "execution_count": 55,
   "metadata": {
    "collapsed": false
   },
   "outputs": [
    {
     "name": "stdout",
     "output_type": "stream",
     "text": [
      "(0.266019052749-0.00409325569105j)\n"
     ]
    }
   ],
   "source": [
    "guess_1 = 0.2 * (1 - 0.2j) # --> slow mode\n",
    "# guess_1 = -0.2j # --> entropy mode\n",
    "res = scipy.optimize.fsolve(f, real_imag(guess_1))\n",
    "wbar_1 = list2complex(res)\n",
    "print(wbar_1)"
   ]
  },
  {
   "cell_type": "markdown",
   "metadata": {},
   "source": [
    "## terms in residues"
   ]
  },
  {
   "cell_type": "code",
   "execution_count": 36,
   "metadata": {
    "collapsed": true
   },
   "outputs": [],
   "source": [
    "def det_deriv(ti_te, mi_me, bi, kperp_rhoi, w_bar):\n",
    "    \"\"\"\n",
    "    evaluate derivative of Det M w.r.t. omega_bar\n",
    "    where omega_bar = w/k_par/v_A\n",
    "    \"\"\"\n",
    "    alpha_i = kperp_rhoi**2 / 2\n",
    "    alpha_e = alpha_i / ti_te / mi_me\n",
    "    xi_i = w_bar / np.sqrt(bi)\n",
    "    xi_e = w_bar * np.sqrt(ti_te / mi_me / bi)\n",
    "    Z_i = zp(xi_i)\n",
    "    Z_e = zp(xi_e)\n",
    "    Gamma_1i = i0e(alpha_i) - i1e(alpha_i)\n",
    "    Gamma_1e = i0e(alpha_e) - i1e(alpha_e)\n",
    "    Gamma_0i = i0e(alpha_i)\n",
    "    Gamma_0e = i0e(alpha_e)\n",
    "    \n",
    "    G_i = 1/np.sqrt(bi) * ((1-2*xi_i**2)*Z_i - 2 * xi_i)\n",
    "    G_e = 1/np.sqrt(bi) * ((1-2*xi_e**2)*Z_e - 2 * xi_e) \\\n",
    "        * np.sqrt(ti_te / mi_me)\n",
    "    \n",
    "    # Aprime, dA / d omega_bar\n",
    "    Ap = Gamma_0i * G_i + ti_te * Gamma_0e * G_e\n",
    "    Cp = Gamma_1i * G_i - Gamma_1e * G_e\n",
    "    Dp = 2 * (Gamma_1i  * G_i + 1/ti_te * Gamma_1e * G_e)\n",
    "\n",
    "    a = A(ti_te, mi_me, bi, kperp_rhoi, w_bar)\n",
    "    c = C(ti_te, mi_me, bi, kperp_rhoi, w_bar)\n",
    "    d = D(ti_te, mi_me, bi, kperp_rhoi, w_bar)    \n",
    "    \n",
    "    res = Ap * (d - 2/bi) + a * Dp - 2 * c * Cp\n",
    "    return res"
   ]
  },
  {
   "cell_type": "markdown",
   "metadata": {
    "collapsed": true
   },
   "source": [
    "## verify numerically that det_deriv correctly calculates $\\frac{d}{d\\overline{\\omega}}\\mathrm{det}M$"
   ]
  },
  {
   "cell_type": "markdown",
   "metadata": {},
   "source": [
    "### a set of testing parameters"
   ]
  },
  {
   "cell_type": "code",
   "execution_count": 46,
   "metadata": {
    "collapsed": true
   },
   "outputs": [],
   "source": [
    "ti_te = [10., 10, 10, 1, 1, 1, 0.1, 0.1, 0.1]\n",
    "kperp_rhoi = [0.5, 0.3, 0.1, 10, 1, 0.1, 0.9, 0.5, 0.1]\n",
    "bi = [0.1, 0.3, 0.5, 0.7, 0.9, 1.5, 3, 7, 10]\n",
    "mi_me = 1836\n",
    "wbar = [0.1, 0.3, 0.5, 0.9, 1.8, 3.6, 5, 7.2, 10]\n",
    "epsilon  = 1e-3"
   ]
  },
  {
   "cell_type": "code",
   "execution_count": 53,
   "metadata": {
    "collapsed": true
   },
   "outputs": [],
   "source": [
    "import numpy.testing as npt"
   ]
  },
  {
   "cell_type": "code",
   "execution_count": 62,
   "metadata": {
    "collapsed": false
   },
   "outputs": [
    {
     "name": "stdout",
     "output_type": "stream",
     "text": [
      "Case 0 passed\n",
      "Case 1 passed\n",
      "Case 2 passed\n",
      "Case 3 passed\n",
      "Case 4 passed\n",
      "Case 5 passed\n",
      "Case 6 passed\n",
      "Case 7 passed\n",
      "Case 8 passed\n"
     ]
    }
   ],
   "source": [
    "for i in range(len(ti_te)):\n",
    "    deriv_val = det_deriv(ti_te[i], mi_me, bi[i], kperp_rhoi[i], wbar[i])\n",
    "    deriv_approx = (dispersion(ti_te[i], mi_me, bi[i], kperp_rhoi[i], wbar[i]+epsilon) - \\\n",
    "               dispersion(ti_te[i], mi_me, bi[i], kperp_rhoi[i], wbar[i]-epsilon))\\\n",
    "                /(2 * epsilon)\n",
    "    try:\n",
    "        npt.assert_allclose(deriv_val, deriv_approx, rtol=1e-2)\n",
    "    except AssertionError as e:\n",
    "        print('Case {0} failed!'.format(i))\n",
    "        break\n",
    "    print('Case {0} passed'.format(i))"
   ]
  },
  {
   "cell_type": "markdown",
   "metadata": {},
   "source": [
    "## Residues"
   ]
  },
  {
   "cell_type": "markdown",
   "metadata": {},
   "source": [
    "### Residues for $p_i$ or $\\overline{\\omega}_i$ for $i\\ge 1$.\n",
    "We calculate only $\\mathrm{Res}(p_i)\\left[\\frac{T_i}{q_i}\\frac{\\delta B_{\\parallel\\mathbf{k}0}}{B_0}\\right]^{-1}$, this value is dimensionless"
   ]
  },
  {
   "cell_type": "code",
   "execution_count": 70,
   "metadata": {
    "collapsed": true
   },
   "outputs": [],
   "source": [
    "def res_i(ti_te, mi_me, bi, kperp_rhoi, wbar_0, wbar_i, tbar):\n",
    "    \"\"\"\n",
    "    Calculate Residue(p_i) or Residue(\\overline{\\omega}_i)\n",
    "    \"\"\"\n",
    "    a = A(ti_te, mi_me, bi, kperp_rhoi, wbar_i)\n",
    "    c = C(ti_te, mi_me, bi, kperp_rhoi, wbar_i)\n",
    "    d = D(ti_te, mi_me, bi, kperp_rhoi, wbar_i)\n",
    "    f = F(ti_te, mi_me, kperp_rhoi)\n",
    "    e = E(ti_te, mi_me, kperp_rhoi)\n",
    "    dmdw = det_deriv(ti_te, mi_me, bi, kperp_rhoi, wbar_i)\n",
    "    \n",
    "    numer = np.array([(d - 2/bi)*e - c*(f+2/bi),\\\n",
    "                      -c*e + a*(f+2/bi)])\n",
    "    denom = dmdw * (wbar_i - wbar_0)\n",
    "    return numer / denom * np.exp(-1j * wbar_i * tbar)"
   ]
  },
  {
   "cell_type": "markdown",
   "metadata": {},
   "source": [
    "### Residues for $p_0$ or $\\overline{\\omega}_0$"
   ]
  },
  {
   "cell_type": "code",
   "execution_count": 94,
   "metadata": {
    "collapsed": false
   },
   "outputs": [],
   "source": [
    "def res_0(ti_te, mi_me, bi, kperp_rhoi, wbar_0, tbar):\n",
    "    \"\"\"\n",
    "    Calculate Residue(p_0) or Residue(\\overline{\\omega}_0)\n",
    "    \"\"\"\n",
    "    a = A(ti_te, mi_me, bi, kperp_rhoi, wbar_0)\n",
    "    c = C(ti_te, mi_me, bi, kperp_rhoi, wbar_0)\n",
    "    d = D(ti_te, mi_me, bi, kperp_rhoi, wbar_0)\n",
    "    f = F(ti_te, mi_me, kperp_rhoi)\n",
    "    e = E(ti_te, mi_me, kperp_rhoi)\n",
    "    detm = dispersion(ti_te, mi_me, bi, kperp_rhoi, wbar_0)\n",
    "    \n",
    "    numer = np.array([(d - 2/bi)*e - c*(f+2/bi),\\\n",
    "                      -c*e + a*(f+2/bi)])\n",
    "    return numer / detm * np.exp(-1j * wbar_0 * tbar)"
   ]
  },
  {
   "cell_type": "markdown",
   "metadata": {},
   "source": [
    "## Plotting solution"
   ]
  },
  {
   "cell_type": "markdown",
   "metadata": {},
   "source": [
    "### plasma parameters"
   ]
  },
  {
   "cell_type": "code",
   "execution_count": 275,
   "metadata": {
    "collapsed": true
   },
   "outputs": [],
   "source": [
    "ti_te = 1\n",
    "kperp_rhoi = 0.1\n",
    "wbar_0 = 0.2\n",
    "bi = 0.01\n",
    "bpar0 = 10\n",
    "mi_me = 1836"
   ]
  },
  {
   "cell_type": "code",
   "execution_count": 276,
   "metadata": {
    "collapsed": true
   },
   "outputs": [],
   "source": [
    "f = lambda w_bar: real_imag(dispersion(ti_te, mi_me, bi, kperp_rhoi, list2complex(w_bar)))"
   ]
  },
  {
   "cell_type": "code",
   "execution_count": 277,
   "metadata": {
    "collapsed": false
   },
   "outputs": [
    {
     "name": "stdout",
     "output_type": "stream",
     "text": [
      "(0.144803522516-0.0635943520346j)\n"
     ]
    }
   ],
   "source": [
    "guess_1 = 0.1 * (1 - 0.5j) # --> slow mode\n",
    "res = scipy.optimize.fsolve(f, real_imag(guess_1))\n",
    "wbar_1 = list2complex(res)\n",
    "print(wbar_1)"
   ]
  },
  {
   "cell_type": "code",
   "execution_count": 278,
   "metadata": {
    "collapsed": false
   },
   "outputs": [
    {
     "name": "stdout",
     "output_type": "stream",
     "text": [
      "(-0.144803522516-0.0635943520346j)\n"
     ]
    }
   ],
   "source": [
    "guess_2 = 0.1 * (-1 - 0.5j) # --> slow mode\n",
    "res = scipy.optimize.fsolve(f, real_imag(guess_2))\n",
    "wbar_2 = list2complex(res)\n",
    "print(wbar_2)"
   ]
  },
  {
   "cell_type": "code",
   "execution_count": 279,
   "metadata": {
    "collapsed": false,
    "scrolled": true
   },
   "outputs": [
    {
     "name": "stdout",
     "output_type": "stream",
     "text": [
      "(6.25139507337e-20-0.18482773391j)\n"
     ]
    }
   ],
   "source": [
    "guess_3 = -0.2j # --> slow mode\n",
    "res = scipy.optimize.fsolve(f, real_imag(guess_3))\n",
    "wbar_3 = list2complex(res)\n",
    "print(wbar_3)\n",
    "wbar_3 = 1j * wbar_3.imag # chop the vanishing real part"
   ]
  },
  {
   "cell_type": "code",
   "execution_count": 280,
   "metadata": {
    "collapsed": true
   },
   "outputs": [],
   "source": [
    "wbar_arr = [wbar_1, wbar_2, wbar_3]"
   ]
  },
  {
   "cell_type": "markdown",
   "metadata": {},
   "source": [
    "### constructing time series"
   ]
  },
  {
   "cell_type": "code",
   "execution_count": 287,
   "metadata": {
    "collapsed": true
   },
   "outputs": [],
   "source": [
    "tbar_arr = np.linspace(0, 50, 1000)"
   ]
  },
  {
   "cell_type": "code",
   "execution_count": 288,
   "metadata": {
    "collapsed": true
   },
   "outputs": [],
   "source": [
    "def phi_b(tbar):\n",
    "    \"\"\"\n",
    "    vector(\\phi(t), B(t))\n",
    "    \"\"\"\n",
    "    res = res_0(ti_te, mi_me, bi, kperp_rhoi, wbar_0, tbar)\n",
    "    for wbar_i in wbar_arr:\n",
    "        res += res_i(ti_te, mi_me, bi, kperp_rhoi, wbar_0, wbar_i, tbar)\n",
    "    return res"
   ]
  },
  {
   "cell_type": "code",
   "execution_count": 289,
   "metadata": {
    "collapsed": false
   },
   "outputs": [],
   "source": [
    "phi_b_arr = np.array([phi_b(tbar) \n",
    "                      for tbar in tbar_arr])"
   ]
  },
  {
   "cell_type": "code",
   "execution_count": 290,
   "metadata": {
    "collapsed": false
   },
   "outputs": [],
   "source": [
    "bt_arr = np.abs(phi_b_arr[:, 1])\n",
    "phi_arr = np.abs(phi_b_arr[:, 0])"
   ]
  },
  {
   "cell_type": "code",
   "execution_count": 295,
   "metadata": {
    "collapsed": false
   },
   "outputs": [
    {
     "data": {
      "text/plain": [
       "<matplotlib.text.Text at 0x119e48588>"
      ]
     },
     "execution_count": 295,
     "metadata": {},
     "output_type": "execute_result"
    },
    {
     "data": {
      "image/png": "[encoded data removed]",
      "text/plain": [
       "<matplotlib.figure.Figure at 0x119b1cdd8>"
      ]
     },
     "metadata": {},
     "output_type": "display_data"
    }
   ],
   "source": [
    "fig_bpar = plt.figure(figsize=[6, 6*0.618])\n",
    "plt.plot(tbar_arr, bt_arr)\n",
    "plt.xlabel('$t/k_\\parallel v_{A}$')\n",
    "plt.ylabel('$|\\delta B_\\parallel|$')"
   ]
  },
  {
   "cell_type": "code",
   "execution_count": 296,
   "metadata": {
    "collapsed": false
   },
   "outputs": [
    {
     "data": {
      "text/plain": [
       "<matplotlib.text.Text at 0x11a2497b8>"
      ]
     },
     "execution_count": 296,
     "metadata": {},
     "output_type": "execute_result"
    },
    {
     "data": {
      "image/png": "[encoded data removed]",
      "text/plain": [
       "<matplotlib.figure.Figure at 0x119d5d4a8>"
      ]
     },
     "metadata": {},
     "output_type": "display_data"
    }
   ],
   "source": [
    "fig_phi = plt.figure(figsize=[6, 6*0.618])\n",
    "plt.plot(tbar_arr, phi_arr, 'o')\n",
    "plt.xlabel('$tk_\\parallel v_{A}$')\n",
    "plt.ylabel('$|\\phi|$')"
   ]
  },
  {
   "cell_type": "markdown",
   "metadata": {},
   "source": [
    "## compare with AstroGK simulation"
   ]
  },
  {
   "cell_type": "code",
   "execution_count": 299,
   "metadata": {
    "collapsed": true
   },
   "outputs": [],
   "source": [
    "data_dir = '/Volumes/yuguang_sd/data/agk/lin_response/lin_slow_1'\n",
    "filename_bpar = data_dir + '/lin_slow_1.bpar'\n",
    "filename_phi = data_dir + '/lin_slow_1.phi'\n",
    "\n",
    "dtype_bpar = {'names': ('f1', 't', 'f2', 'bpar2', 'f3', 'f4', 'h1', 'h2'),\n",
    "              'formats': ('S2', 'f4', 'S10', 'f4', 'S10', 'S10', 'f4', 'f4')}\n",
    "dtype_phi = {'names': ('f1', 't', 'f2', 'phi2', 'f3', 'f4', 'h1', 'h2'),\n",
    "              'formats': ('S2', 'f4', 'S10', 'f4', 'S10', 'S10', 'f4', 'f4')}\n",
    "data_bpar = np.loadtxt(filename_bpar, dtype = dtype_bpar)\n",
    "data_phi = np.loadtxt(filename_phi, dtype = dtype_phi)\n",
    "\n",
    "\n",
    "bpar2 = np.array([elem[3] for elem in data_bpar])\n",
    "bpar = np.sqrt(bpar2)\n",
    "t_bpar = np.array([elem[1] for elem in data_bpar])\n",
    "\n",
    "phi2 = np.array([elem[3] for elem in data_phi])\n",
    "phi = np.sqrt(phi2)\n",
    "t_phi = np.array([elem[1] for elem in data_phi])"
   ]
  },
  {
   "cell_type": "code",
   "execution_count": 303,
   "metadata": {
    "collapsed": false
   },
   "outputs": [
    {
     "data": {
      "text/plain": [
       "(0, 5)"
      ]
     },
     "execution_count": 303,
     "metadata": {},
     "output_type": "execute_result"
    },
    {
     "data": {
      "image/png": "[encoded data removed]",
      "text/plain": [
       "<matplotlib.figure.Figure at 0x11947b1d0>"
      ]
     },
     "metadata": {},
     "output_type": "display_data"
    }
   ],
   "source": [
    "plt.plot(t_bpar, bpar)\n",
    "plt.xlim(0, 5)"
   ]
  },
  {
   "cell_type": "code",
   "execution_count": 305,
   "metadata": {
    "collapsed": false
   },
   "outputs": [
    {
     "data": {
      "text/plain": [
       "(0, 5)"
      ]
     },
     "execution_count": 305,
     "metadata": {},
     "output_type": "execute_result"
    },
    {
     "data": {
      "image/png": "[encoded data removed]",
      "text/plain": [
       "<matplotlib.figure.Figure at 0x11a0f9dd8>"
      ]
     },
     "metadata": {},
     "output_type": "display_data"
    }
   ],
   "source": [
    "plt.plot(t_phi, phi)\n",
    "plt.xlim([0, 5])"
   ]
  },
  {
   "cell_type": "code",
   "execution_count": null,
   "metadata": {
    "collapsed": true
   },
   "outputs": [],
   "source": []
  }
 ],
 "metadata": {
  "kernelspec": {
   "display_name": "Python 3",
   "language": "python",
   "name": "python3"
  },
  "language_info": {
   "codemirror_mode": {
    "name": "ipython",
    "version": 3
   },
   "file_extension": ".py",
   "mimetype": "text/x-python",
   "name": "python",
   "nbconvert_exporter": "python",
   "pygments_lexer": "ipython3",
   "version": "3.5.1"
  }
 },
 "nbformat": 4,
 "nbformat_minor": 0
}
